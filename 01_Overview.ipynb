{
 "cells": [
  {
   "cell_type": "markdown",
   "id": "293a761a",
   "metadata": {},
   "source": [
    "<style>div.container { width: 100% }</style>\n",
    "<img style=\"float:left;  vertical-align:text-bottom;\" height=\"65\" width=\"172\" src=\"https://raw.githubusercontent.com/holoviz/holoviz/master/doc/_static/holoviz-logo-unstacked.svg\" />\n",
    "<div style=\"float:right; vertical-align:text-bottom;\"><h2>Tutorial 1. Overview</h2></div>"
   ]
  },
  {
   "cell_type": "markdown",
   "id": "32bb24f1",
   "metadata": {},
   "source": [
    "# Welcome to HoloViz!\n",
    "\n",
    "HoloViz is a set of compatible tools to make it easier to see and understand your data at *every* stage needed by users, research groups, and projects:\n",
    "\n",
    "- importing and cleaning\n",
    "- initial exploration\n",
    "- testing hypotheses\n",
    "- generating accurate and convincing figures\n",
    "- sharing and deploying live apps\n",
    "- improving and adapting each stage over time\n",
    "\n",
    "Why \"Holo\"? \"*holo-*\", from the Greek root \"*hólos*\", means \"[whole, entire, complete](https://www.dictionary.com/browse/holo-)\"."
   ]
  },
  {
   "cell_type": "markdown",
   "id": "71ed8631",
   "metadata": {},
   "source": [
    "# Doesn't Python *already* cover all these stages?\n",
    "\n",
    "Sure! That's how it ended up with:"
   ]
  },
  {
   "cell_type": "markdown",
   "id": "248b97df",
   "metadata": {},
   "source": [
    "<div style=\"clear:left;\">\n",
    "<img src=\"https://raw.githubusercontent.com/holoviz/holoviz/master/examples/assets/landscape_hv_nx.png\" width=75% align=\"left\" style=\"margin: 0px 30px\">\n",
    "</div>"
   ]
  },
  {
   "cell_type": "markdown",
   "id": "73d0fccc",
   "metadata": {},
   "source": [
    "## Why so many tools?\n",
    "\n",
    "Because each tool is typically limited to one or two of the stages in the data life cycle, supporting some well but not the others:\n",
    "\n",
    "- Simple, quick plots, but limited in capabilities, customization, and compositionality.\n",
    "- Deep capabilities for print-based plots, but weak or no support for custom interactivity in web apps.\n",
    "- Good interactivity in Jupyter, but weak or no support for batch processing or deployed servers.\n",
    "- Good support for deployed servers, but weak or no support for Jupyter or interactive exploration in general.\n",
    "- Good support for small datasets or heavily aggregated data, but not suitable for exploring the full raw data"
   ]
  },
  {
   "cell_type": "markdown",
   "id": "27ec473f",
   "metadata": {},
   "source": [
    "## How does HoloViz help?\n",
    "\n",
    "To avoid having to abandon all your work on one stage to reach the next, HoloViz tools reduce friction and gaps between the stages:\n",
    "\n",
    "- All tools support web browsers, so you can always share results and use remote data or compute.\n",
    "- Even so, plots are built in Python, not web tech (JS/CSS), to support exploratory analysis.\n",
    "- You can use the same tools whether your data fits in a browser tab or requires server-side rendering.\n",
    "- All interactivity works the same in Jupyter and in a standalone deployment.\n",
    "- High-level (quick and convenient) interfaces are [shortcuts, not dead ends](https://holoviz.org/tutorial/Overview.html), so you don't get stuck.\n",
    "- Where feasible, functionality is provided using the APIs you already know, so you don't have to learn new concepts unnecessarily\n",
    "\n",
    "\n",
    "## HoloViz libraries\n",
    "\n",
    "<img width=\"800\" src=\"https://raw.githubusercontent.com/holoviz/holoviz/master/examples/assets/pn_hp_hv_gv_ds_lu_pa_cs.png\"/>\n",
    "\n",
    "With the above design goals in mind, we have developed a set of independent but complementary open-source Python packages to streamline the process of working with small and large datasets (from a few datapoints to billions or more) in a web browser, whether doing exploratory analysis, making simple widget-based tools, or building full-featured dashboards. The main libraries in this ecosystem include:\n",
    "\n",
    "-   [hvPlot](http://hvplot.pyviz.org): Quickly return interactive Bokeh-based HoloViews or GeoViews objects from Pandas, Xarray, orother data structures\n",
    "-   [Panel](http://panel.pyviz.org): Assembling objects from many different libraries into a layout or app, whether in a Jupyter notebook or in a standalone servable dashboard\n",
    "-   [HoloViews](http://holoviews.org): Declarative objects for instantly visualizable data, building Bokeh plots from convenient high-level specifications\n",
    "-   [GeoViews](http://geoviews.org): Visualizable geographic data that that can be mixed and matched with HoloViews objects\n",
    "-   [Datashader](http://datashader.org): Rasterizing huge datasets quickly as fixed-size arrays or images\n",
    "-   [Luman](https://lumen.holoviz.org/):  Build data-driven dashboards from a simple YAML specification\n",
    "-   [Param](http://param.pyviz.org): Declaring user-relevant parameters, making it simple to work with widgets inside and outside of a notebook context\n",
    "-   [Colorcet](http://colorcet.pyviz.org): Perceptually accurate continuous and categorical colormaps for any viz tool\n",
    "\n",
    "\n",
    "These libraries work with and are built upon many other familiar open source [libraries](https://holoviz.org/tutorial/Overview.html).\n",
    "\n",
    "\n"
   ]
  },
  {
   "cell_type": "markdown",
   "id": "289a4ef3",
   "metadata": {},
   "source": [
    "\n",
    "<div style=\"clear:left;\">\n",
    "<img src=\"https://raw.githubusercontent.com/holoviz/holoviz/master/examples/assets/landscape_hv_nx_panel.png\" width=65% \n",
    "align=\"left\" style=\"margin: 0px 30px\">\n",
    "\n",
    "<br><br>\n",
    "<br><br>\n",
    "HoloViz currently covers this subset of viz tools\n",
    "<br><br>\n",
    "</div>\n",
    "<div style=\"clear:left;\"></div>\n"
   ]
  },
  {
   "cell_type": "markdown",
   "id": "9bec3973",
   "metadata": {},
   "source": [
    "\n",
    "<div style=\"clear:left;\">\n",
    "<img src=\"https://raw.githubusercontent.com/holoviz/holoviz/master/examples/assets/landscape_hv_nx_pyviz.png\" width=65% \n",
    "align=\"left\" style=\"margin: 0px 30px\">\n",
    "\n",
    "<br><br>\n",
    "<br><br>\n",
    "These tools are the most fully supported and are often entirely sufficient on their own.\n",
    "<br><br>\n",
    "</div>\n",
    "<div style=\"clear:left;\"></div>"
   ]
  },
  {
   "cell_type": "markdown",
   "id": "774b1377",
   "metadata": {},
   "source": [
    "# Python Dashboarding landscape \n",
    "\n",
    "According to [PyViz.org](pyviz.org), there are 11 libraries for creating live Python-backed web applications or dashboards that a user can interact with — bokeh, dash, streamlit, panel, gradio, visdom, voila, wave, jupyter-flex, ipyflex, and bloxs. The most popular dashboard-focused tools are Plotly Dash, Panel, Voila, and Streamlit. The most popular dashboard-focused tools are [Plotly Dash](https://plotly.com/dash/), [Panel](https://panel.holoviz.org/), [Voila](https://voila.readthedocs.io/en/stable/), and [Streamlit](https://streamlit.io/).\n",
    "![](assets/dashboard_tools.png)\n",
    "\n",
    "## What are the differences among these, and which tool should you use?\n",
    "To help users decide, James Bednar (representing PyViz but also a Panel maintainer) hosted a PyData Global workshop where representatives for each of these tools could discuss and debate their similarities and differences. Contributing were Marc Skov Madsen (user and Panel developer, creator of awesome-panel.org and awesome-streamlit.org), Adrien Treuille (co-founder and CEO of Streamlit), Nicolas Kruchten (creator of Plotly Express and Dash developer), and Sylvain Corlay (creator of Voila and Jupyter core developer).\n",
    "\n",
    "The detailed comparison of the PyData talk discussion is summarized in the table below. From what I have learned from the talk and from my experience, here are the biggest differentiating factors.\n",
    "\n",
    "### Does the tool support your favorite plotting library?\n",
    "What are your favorite plotting libraries? Do you like to use Matplotlib, Bokeh, Plotly, Hvplot, or others?\n",
    "\n",
    "- Dash is primarily tied to Plotly. If you are a Plotly user, Dash is your natural choice.\n",
    "- Voila supports various libraries with an ipywidgets interface, such as Matplotlib and Plotly. For libraries that are not Jupyter widgets such as Bokeh, Voila does not work well.\n",
    "- Streamlit and Panel support many plotting libraries, including Matplotlib, Seaborn, Altair, Plotly, Bokeh, PyDeck, GraphViz and more.\n",
    "- Furthermore, if you have a need for interactivity in a plot such as creating interlinked plots, Panel provides rich support for advanced interactivity features, while Streamlit does not allow for interactivity with a plot.\n",
    "\n",
    "### Do you use Jupyter Notebooks?\n",
    "As a data scientist, my workflow usually starts with Jupyter Notebook or JupyterLab. It’s essential for me to be able to interact with my plot and build my dashboard directly in and from the Jupyter Notebooks. Panel and Voila work well with data science Jupyter Notebook workflow, while Dash and Streamlit do not. Specifically:\n",
    "\n",
    "- Panel and Voila fully support using components from a Jupyter notebook in a dashboard to make it easy to switch between data exploration and sharing the results.\n",
    "- Dash does not integrate smoothly with Jupyter. JupyterDash does enable you to code and display Dash apps in notebooks, but requires additional configuration and not in the same elegant way you’d get from Panel/Voila.\n",
    "- Streamlit does not integrate smoothly with Jupyter.\n",
    "\n",
    "\n",
    "### Will you ever need to build complex apps or use big data?\n",
    "Sometimes, we need to build complex visualization apps. For example, we might want our app to support multiple pages with each page showing different features and insights. Only Panel and Dash have good solid support for multi-page apps. Streamlit just released multipage app support a week ago.\n",
    "\n",
    "For visualizing big data, the Python visualization world often uses Datashader. Check out my previous blog post on what is Datashader and how Datashader works. Panel and Datashader both come from the Holoviz ecosystem and are designed to work well together. In addition to Panel, Dash and Voila also support Datashader for server-side rendering of big data, but Streamlit does not.\n",
    "\n",
    "### How many simultaneous users do you need to support?\n",
    "We often need to send our dashboards to many stakeholders and it’d be nice if our dashboards can scale well and support many simultaneous users. Dash scales well; Voila is the worst; Steamlit and Panel are in the middle. Specifically:\n",
    "\n",
    "- Dash is stateless, not storing data on the server per visitor, which makes it simple to support many users but much more difficult to program.\n",
    "- Voila requires a full Python process per visitor to the dashboard, limiting it to a few visitors at once.\n",
    "Streamlit and Panel are in the middle, supporting per-visitor state by default but also allowing caching and sharing state.\n",
    "\n",
    "### Do you want to share your apps with the public?\n",
    "If you have the need to share your dashboarding apps with the public, Steamlit is the easiest. Streamlit offers easy deployment using Streamlit Cloud, and perhaps as a result it has the best community demos and contributions. The other tools can all be shared using standard cloud providers, but they need to be configured separately.\n",
    "\n",
    "### To highlight the key points discussed above:\n",
    "\n",
    "- Does the tool support your favorite plotting library? Streamlit and Panel support many plotting libraries. Panel provides rich support for advanced interactivity features.\n",
    "- Do you use Jupyter Notebooks? If yes, then choose Panel or Voila.\n",
    "- Will you ever need to build complex apps or use big data? If yes, then choose Panel or Dash.\n",
    "- How many simultaneous users do you need to support? If your dashboards need to be highly scalable, use Dash.\n",
    "- Do you want to share your apps with the public? For easy deployment, use Streamlit.\n",
    "\n",
    "\n",
    "![](assets/dashboard1.png)\n",
    "![](assets/dashboard2.png)"
   ]
  }
 ],
 "metadata": {
  "kernelspec": {
   "display_name": "Python 3 (ipykernel)",
   "language": "python",
   "name": "python3"
  },
  "language_info": {
   "codemirror_mode": {
    "name": "ipython",
    "version": 3
   },
   "file_extension": ".py",
   "mimetype": "text/x-python",
   "name": "python",
   "nbconvert_exporter": "python",
   "pygments_lexer": "ipython3",
   "version": "3.9.6"
  }
 },
 "nbformat": 4,
 "nbformat_minor": 5
}
