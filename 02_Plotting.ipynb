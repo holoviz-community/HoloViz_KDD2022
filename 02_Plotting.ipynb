{
 "cells": [
  {
   "cell_type": "markdown",
   "id": "8df29033",
   "metadata": {},
   "source": [
    "<style>div.container { width: 100% }</style>\n",
    "<img style=\"float:left;  vertical-align:text-bottom;\" height=\"65\" width=\"172\" src=\"https://raw.githubusercontent.com/holoviz/holoviz/master/doc/_static/holoviz-logo-unstacked.svg\" />\n",
    "<div style=\"float:right; vertical-align:text-bottom;\"><h2>Tutorial 2. Plotting</h2></div>"
   ]
  },
  {
   "cell_type": "markdown",
   "id": "d19b3f2c",
   "metadata": {},
   "source": [
    "When trying to make sense of data, there are many representations to choose from, including data tables, textual summaries and so on. We'll mostly focus on plotting data to get an intuitive visual representation, using a simple but powerful plotting API.\n",
    "\n",
    "If you have tried to visualize a `pandas.DataFrame` before, then you have likely encountered the [Pandas .plot() API](https://pandas.pydata.org/pandas-docs/stable/user_guide/visualization.html). These plotting commands use [Matplotlib](http://matplotlib.org) to render static PNGs or SVGs in a Jupyter notebook using the `inline` backend, or interactive figures via `%matplotlib widget`, with a command that can be as simple as `df.plot()` for a DataFrame with one or two columns. \n",
    "\n",
    "The Pandas .plot() API has emerged as a de-facto standard for high-level plotting APIs in Python, and is now supported by many different libraries that use various underlying plotting engines to provide additional power and flexibility. Learning this API allows you to access capabilities provided by a wide variety of underlying tools, with relatively little additional effort. The libraries currently supporting this API include:\n",
    "\n",
    "- [Pandas](https://pandas.pydata.org/pandas-docs/stable/user_guide/visualization.html) -- Matplotlib-based API included with Pandas. Static or interactive output in Jupyter notebooks.\n",
    "- [xarray](https://xarray.pydata.org/en/stable/plotting.html) -- Matplotlib-based API included with xarray, based on pandas .plot API. Static or interactive output in Jupyter notebooks.\n",
    "- [hvPlot](https://hvplot.pyviz.org) -- HoloViews and Bokeh-based interactive plots for Pandas, GeoPandas, xarray, Dask, Intake, and Streamz data.\n",
    "- [Pandas Bokeh](https://github.com/PatrikHlobil/Pandas-Bokeh) -- Bokeh-based interactive plots, for Pandas, GeoPandas, and PySpark data.\n",
    "- [Cufflinks](https://github.com/santosjorge/cufflinks) -- Plotly-based interactive plots for Pandas data.\n",
    "- [Plotly Express](https://plotly.com/python/pandas-backend) -- Plotly-Express-based interactive plots for Pandas data; only partial support for the .plot API keywords.\n",
    "- [PdVega](https://altair-viz.github.io/pdvega) -- Vega-lite-based, JSON-encoded interactive plots for Pandas data.\n",
    "\n",
    "In this notebook we'll explore what is possible with the default `.plot` API and demonstrate the additional capabilities provided by `.hvplot`. "
   ]
  },
  {
   "cell_type": "markdown",
   "id": "364a8f35",
   "metadata": {},
   "source": [
    "### Import and configure packages\n",
    "\n",
    "Please note that in **Colab** you will need to `!pip install panel hvplot`."
   ]
  },
  {
   "cell_type": "code",
   "execution_count": null,
   "id": "f0254256",
   "metadata": {},
   "outputs": [],
   "source": [
    "# !pip install panel==0.12.6 hvplot==0.7.3"
   ]
  },
  {
   "cell_type": "code",
   "execution_count": null,
   "id": "91b94c0d",
   "metadata": {},
   "outputs": [],
   "source": [
    "import hvplot.pandas\n",
    "import panel as pn"
   ]
  },
  {
   "cell_type": "markdown",
   "id": "bca2ab8a",
   "metadata": {},
   "source": [
    "### Read in the data\n",
    "\n",
    "Here we will focus on Pandas, but a similar approach will work for any supported DataFrame type, including Dask for distributed computing or RAPIDS cuDF for GPU computing. This dataset is relatively large (2.1 million rows), but should still fit into memory on any recent machine, and thus won't need special out-of-core or distributed approaches like Dask provides."
   ]
  },
  {
   "cell_type": "code",
   "execution_count": null,
   "id": "7940dbe2",
   "metadata": {},
   "outputs": [],
   "source": [
    "from bokeh.sampledata.autompg import autompg_clean as df\n",
    "# you may also read in data from a local file, for example using\n",
    "# df = pd.read_csv('data.csv')"
   ]
  },
  {
   "cell_type": "code",
   "execution_count": null,
   "id": "bd2e9a2e",
   "metadata": {},
   "outputs": [],
   "source": [
    "len(df)"
   ]
  },
  {
   "cell_type": "code",
   "execution_count": null,
   "id": "711d7c28",
   "metadata": {},
   "outputs": [],
   "source": [
    "df.head()"
   ]
  },
  {
   "cell_type": "code",
   "execution_count": null,
   "id": "7099cbc0",
   "metadata": {},
   "outputs": [],
   "source": [
    "df.tail()"
   ]
  },
  {
   "cell_type": "code",
   "execution_count": null,
   "id": "0d4c731c",
   "metadata": {},
   "outputs": [],
   "source": [
    "df.describe()"
   ]
  },
  {
   "cell_type": "markdown",
   "id": "407259ac",
   "metadata": {},
   "source": [
    "### Using Pandas `.plot()`\n",
    "\n",
    "The first thing that we'd like to do with this data is visualize two features of the dataset: mpg and hp. So we would like to make a scatter or points plot where _x_ is mpg and _y_ is hp. \n",
    "\n",
    "We can do that for the smaller dataframe using the `pandas.plot` API and Matplotlib:"
   ]
  },
  {
   "cell_type": "code",
   "execution_count": null,
   "id": "4aa1ffd9",
   "metadata": {},
   "outputs": [],
   "source": [
    "df.plot.scatter(x='mpg', y='hp')"
   ]
  },
  {
   "cell_type": "markdown",
   "id": "f525aa0e",
   "metadata": {},
   "source": [
    "### Using .hvplot\n",
    "As you can see above, the Pandas API gives you a usable plot very easily. You can make a very similar plot with the same arguments using hvplot, after importing hvplot.pandas to install hvPlot support into Pandas:"
   ]
  },
  {
   "cell_type": "code",
   "execution_count": null,
   "id": "be14b905",
   "metadata": {},
   "outputs": [],
   "source": [
    "import hvplot.pandas "
   ]
  },
  {
   "cell_type": "code",
   "execution_count": null,
   "id": "b34fefc4",
   "metadata": {},
   "outputs": [],
   "source": [
    "df.hvplot.scatter(x='mpg', y='hp')"
   ]
  },
  {
   "cell_type": "markdown",
   "id": "16ea7e77",
   "metadata": {},
   "source": [
    "Here unlike in the Pandas .plot() there is a default hover action on the datapoints to show the values, and you can always pan and zoom to focus on any particular region of the data of interest.\n",
    "\n"
   ]
  },
  {
   "cell_type": "markdown",
   "id": "955df031",
   "metadata": {},
   "source": [
    "#### Exercise\n",
    "\n",
    "Try changing the x axis on the plot above to see the relationship between weight and hp. \n",
    "<details><summary><i><u>(Solution)</u><i></summary><br>\n",
    "    \n",
    "```python\n",
    "df.hvplot.scatter(x='weight', y='hp')\n",
    "```\n",
    "\n",
    "</details>"
   ]
  },
  {
   "cell_type": "markdown",
   "id": "2f7339b9",
   "metadata": {},
   "source": [
    "### Getting help with hvplot options\n",
    "\n",
    "You may be wondering how you can learn about all the options that are available with `hvplot`. For this purpose, you can use tab-completion in the Jupyter notebook or the `hvplot.help` function which are documented in the [user guide](https://hvplot.holoviz.org/user_guide/Customization.html).\n",
    "\n",
    "For tab completion, you can press tab after the opening parenthesis in a `obj.hvplot.<kind>(` call. For instance, you can try pressing tab after the partial expression `df.hvplot.scatter(<TAB>`.\n",
    "\n",
    "Alternatively, you can call `hvplot.help(<kind>)` to see a documentation pane pop up in the notebook. Try uncommenting the following line and executing it:"
   ]
  },
  {
   "cell_type": "code",
   "execution_count": null,
   "id": "e3f41648",
   "metadata": {},
   "outputs": [],
   "source": [
    "hvplot.help('scatter')"
   ]
  },
  {
   "cell_type": "markdown",
   "id": "23ec9e04",
   "metadata": {},
   "source": [
    "You will see there are a lot of options!  You can control which section of the documentation you view with the `generic`, `docstring` and `style` boolean switches also documented in the  [user guide](https://hvplot.holoviz.org/user_guide/Customization.html). If you run the following cell, you will see that `alpha` is listed in the 'Style options'."
   ]
  },
  {
   "cell_type": "code",
   "execution_count": null,
   "id": "e8695b89",
   "metadata": {
    "scrolled": true
   },
   "outputs": [],
   "source": [
    "hvplot.help('scatter', style=True, generic=False)"
   ]
  },
  {
   "cell_type": "code",
   "execution_count": null,
   "id": "82f273b2",
   "metadata": {},
   "outputs": [],
   "source": [
    "PALETTE = [\"#ff6f69\", \"#ffcc5c\", \"#88d8b0\", ]\n",
    "pn.Row(\n",
    "    pn.layout.HSpacer(height=50, background=PALETTE[0]),\n",
    "    pn.layout.HSpacer(height=50, background=PALETTE[1]),\n",
    "    pn.layout.HSpacer(height=50, background=PALETTE[2]),\n",
    ")"
   ]
  },
  {
   "cell_type": "markdown",
   "id": "7a2c4332",
   "metadata": {},
   "source": [
    "#### Exercise\n",
    "\n",
    "Try changing color, width, height, and alpha value of the plot. \n",
    "<details><summary><i><u>(Solution)</u><i></summary><br>\n",
    "    \n",
    "```python\n",
    "df.hvplot.scatter(\n",
    "    x='mpg', \n",
    "    y='hp',\n",
    "    color=PALETTE,\n",
    "    width=600,\n",
    "    height=300,\n",
    "    alpha=0.5\n",
    ")\n",
    "```\n",
    "\n",
    "</details>"
   ]
  },
  {
   "cell_type": "code",
   "execution_count": null,
   "id": "7f652e0a",
   "metadata": {},
   "outputs": [],
   "source": [
    "df.hvplot.hist('mpg', bins=10)"
   ]
  },
  {
   "cell_type": "markdown",
   "id": "1b607bd1",
   "metadata": {},
   "source": [
    "#### Exercise\n",
    "\n",
    "Create a kernel density estimate (kde) plot of mpg for `df`:\n",
    "<details><summary><i><u>(Solution)</u><i></summary><br>\n",
    "\n",
    "```python\n",
    "df.hvplot.kde('mpg')\n",
    "```\n",
    "\n",
    "</details>"
   ]
  },
  {
   "cell_type": "code",
   "execution_count": null,
   "id": "e1b92be8",
   "metadata": {},
   "outputs": [],
   "source": [
    "df.hvplot.hexbin(x='mpg', y='hp')"
   ]
  },
  {
   "cell_type": "markdown",
   "id": "d8ed5a0a",
   "metadata": {},
   "source": [
    "### Grouping\n",
    "\n",
    "We can overlay all our groups on the same plot using the `by` option:"
   ]
  },
  {
   "cell_type": "code",
   "execution_count": null,
   "id": "54f9c5ae",
   "metadata": {},
   "outputs": [],
   "source": [
    "df.hvplot.scatter(x='mpg', y='hp', by='origin')"
   ]
  },
  {
   "cell_type": "markdown",
   "id": "9a6fa28b",
   "metadata": {},
   "source": [
    "#### Exercise\n",
    "\n",
    "Add `subplots=True` and `width=300` to see the different classes side-by-side instead of overlaid. The axes will be linked, so try zooming.\n",
    "\n",
    "<details><summary><i><u>(Solution)</u><i></summary><br>\n",
    "    \n",
    "```python\n",
    "df.hvplot.scatter(\n",
    "    x='mpg', \n",
    "    y='hp', \n",
    "    by='origin',\n",
    "    subplots=True,\n",
    "    width=300\n",
    "    )\n",
    "```\n",
    "\n",
    "</details>"
   ]
  },
  {
   "cell_type": "markdown",
   "id": "edcfb991",
   "metadata": {},
   "source": [
    "What if you want a single plot, but want to see each class separately? You can use the `groupby` option to get a widget for toggling between classes, here in a bivariate plot (using a subset of the data as bivariate plots can be expensive to compute):"
   ]
  },
  {
   "cell_type": "code",
   "execution_count": null,
   "id": "69a46f33",
   "metadata": {
    "scrolled": true
   },
   "outputs": [],
   "source": [
    "df.hvplot.scatter(x='mpg', y='hp', groupby='origin')"
   ]
  },
  {
   "cell_type": "markdown",
   "id": "8a35297c",
   "metadata": {},
   "source": [
    "# Exploring further\n",
    "\n",
    "As you can see, hvPlot makes it simple to explore your data interactively, with commands based on the widely used Pandas `.plot()` API but now supporting many more features and different types of data. The visualizations above just touch the surface of what is available from hvPlot, and you can explore the [hvPlot website](https://hvplot.pyviz.org) to see much more, or just explore it yourself using tab completion (`df.hvplot.`_[TAB]_). The following section will focus on how to put these plots together once you have them, linking them to understand and show their structure."
   ]
  }
 ],
 "metadata": {
  "kernelspec": {
   "display_name": "Python 3 (ipykernel)",
   "language": "python",
   "name": "python3"
  },
  "language_info": {
   "codemirror_mode": {
    "name": "ipython",
    "version": 3
   },
   "file_extension": ".py",
   "mimetype": "text/x-python",
   "name": "python",
   "nbconvert_exporter": "python",
   "pygments_lexer": "ipython3",
   "version": "3.9.6"
  }
 },
 "nbformat": 4,
 "nbformat_minor": 5
}
