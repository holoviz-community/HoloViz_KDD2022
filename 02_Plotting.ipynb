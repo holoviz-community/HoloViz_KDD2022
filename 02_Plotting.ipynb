{
 "cells": [
  {
   "cell_type": "markdown",
   "id": "3c5e072b",
   "metadata": {},
   "source": [
    "<style>div.container { width: 100% }</style>\n",
    "<img style=\"float:left;  vertical-align:text-bottom;\" height=\"65\" width=\"172\" src=\"https://raw.githubusercontent.com/holoviz/holoviz/master/doc/_static/holoviz-logo-unstacked.svg\" />\n",
    "<div style=\"float:right; vertical-align:text-bottom;\"><h2>Tutorial 2. Plotting</h2></div>"
   ]
  },
  {
   "cell_type": "markdown",
   "id": "fe05e623",
   "metadata": {},
   "source": [
    "When trying to make sense of data, there are many representations to choose from, including data tables, textual summaries and so on. We'll mostly focus on plotting data to get an intuitive visual representation, using a simple but powerful plotting API.\n",
    "\n",
    "If you have tried to visualize a `pandas.DataFrame` before, then you have likely encountered the [Pandas .plot() API](https://pandas.pydata.org/pandas-docs/stable/user_guide/visualization.html). These plotting commands use [Matplotlib](http://matplotlib.org) to render static PNGs or SVGs in a Jupyter notebook using the `inline` backend, or interactive figures via `%matplotlib widget`, with a command that can be as simple as `df.plot()` for a DataFrame with one or two columns. \n",
    "\n",
    "The Pandas .plot() API has emerged as a de-facto standard for high-level plotting APIs in Python, and is now supported by many different libraries that use various underlying plotting engines to provide additional power and flexibility. Learning this API allows you to access capabilities provided by a wide variety of underlying tools, with relatively little additional effort. The libraries currently supporting this API include:\n",
    "\n",
    "- [Pandas](https://pandas.pydata.org/pandas-docs/stable/user_guide/visualization.html) -- Matplotlib-based API included with Pandas. Static or interactive output in Jupyter notebooks.\n",
    "- [xarray](https://xarray.pydata.org/en/stable/plotting.html) -- Matplotlib-based API included with xarray, based on pandas .plot API. Static or interactive output in Jupyter notebooks.\n",
    "- [hvPlot](https://hvplot.pyviz.org) -- HoloViews and Bokeh-based interactive plots for Pandas, GeoPandas, xarray, Dask, Intake, and Streamz data.\n",
    "- [Pandas Bokeh](https://github.com/PatrikHlobil/Pandas-Bokeh) -- Bokeh-based interactive plots, for Pandas, GeoPandas, and PySpark data.\n",
    "- [Cufflinks](https://github.com/santosjorge/cufflinks) -- Plotly-based interactive plots for Pandas data.\n",
    "- [Plotly Express](https://plotly.com/python/pandas-backend) -- Plotly-Express-based interactive plots for Pandas data; only partial support for the .plot API keywords.\n",
    "- [PdVega](https://altair-viz.github.io/pdvega) -- Vega-lite-based, JSON-encoded interactive plots for Pandas data.\n",
    "\n",
    "In this notebook we'll explore what is possible with the default `.plot` API and demonstrate the additional capabilities provided by `.hvplot`. "
   ]
  },
  {
   "cell_type": "markdown",
   "id": "6b868729",
   "metadata": {},
   "source": [
    "### Import and configure packages\n",
    "\n",
    "Please note that in **Colab** you will need to run `!pip install panel hvplot`."
   ]
  },
  {
   "cell_type": "code",
   "execution_count": null,
   "id": "b5389cca",
   "metadata": {},
   "outputs": [],
   "source": [
    "if 'google.colab' in str(get_ipython()):\n",
    "    print('Running on CoLab')\n",
    "    !pip install panel hvplot"
   ]
  },
  {
   "cell_type": "code",
   "execution_count": null,
   "id": "749bde5f",
   "metadata": {},
   "outputs": [],
   "source": [
    "import holoviews as hv\n",
    "import hvplot.pandas\n",
    "import panel as pn"
   ]
  },
  {
   "cell_type": "markdown",
   "id": "a01e482f",
   "metadata": {},
   "source": [
    "You will need to run the following to be able to see plots in **Colab**."
   ]
  },
  {
   "cell_type": "code",
   "execution_count": null,
   "id": "2a114743",
   "metadata": {},
   "outputs": [],
   "source": [
    "if 'google.colab' in str(get_ipython()):\n",
    "    def _render(self, **kw):\n",
    "        hv.extension('bokeh')\n",
    "        return hv.Store.render(self)\n",
    "    hv.core.Dimensioned._repr_mimebundle_ = _render"
   ]
  },
  {
   "cell_type": "markdown",
   "id": "0e3f085e",
   "metadata": {},
   "source": [
    "### Read in the data\n",
    "\n",
    "Here we will focus on Pandas, but a similar approach will work for any supported DataFrame type, including Dask for distributed computing or RAPIDS cuDF for GPU computing. \n",
    "\n",
    "In this example, we load a small Auto MPG data set. "
   ]
  },
  {
   "cell_type": "code",
   "execution_count": null,
   "id": "0fdcb447",
   "metadata": {},
   "outputs": [],
   "source": [
    "from bokeh.sampledata.autompg import autompg_clean as df\n",
    "# you may also read in data from a local file, for example using\n",
    "# df = pd.read_csv('data.csv')"
   ]
  },
  {
   "cell_type": "code",
   "execution_count": null,
   "id": "af655461",
   "metadata": {},
   "outputs": [],
   "source": [
    "len(df)"
   ]
  },
  {
   "cell_type": "code",
   "execution_count": null,
   "id": "8278dcaf",
   "metadata": {},
   "outputs": [],
   "source": [
    "df.head()"
   ]
  },
  {
   "cell_type": "code",
   "execution_count": null,
   "id": "7afaa669",
   "metadata": {},
   "outputs": [],
   "source": [
    "df.tail()"
   ]
  },
  {
   "cell_type": "code",
   "execution_count": null,
   "id": "b8d2b236",
   "metadata": {},
   "outputs": [],
   "source": [
    "df.describe()"
   ]
  },
  {
   "cell_type": "markdown",
   "id": "e931b5ed",
   "metadata": {},
   "source": [
    "### Using Pandas `.plot()`\n",
    "\n",
    "The first thing that we'd like to do with this data is visualize two features of the dataset: mpg and hp. So we would like to make a scatter or points plot where _x_ is mpg and _y_ is hp. \n",
    "\n",
    "We can do that for the smaller dataframe using the `pandas.plot` API and Matplotlib:"
   ]
  },
  {
   "cell_type": "code",
   "execution_count": null,
   "id": "8c7c2fb9",
   "metadata": {},
   "outputs": [],
   "source": [
    "df.plot.scatter(x='mpg', y='hp');"
   ]
  },
  {
   "cell_type": "code",
   "execution_count": null,
   "id": "fcbe2423",
   "metadata": {},
   "outputs": [],
   "source": [
    "%matplotlib widget\n",
    "df.plot.scatter(x='mpg', y='hp');"
   ]
  },
  {
   "cell_type": "code",
   "execution_count": null,
   "id": "c171eca0",
   "metadata": {},
   "outputs": [],
   "source": [
    "%matplotlib inline\n",
    "df.plot.scatter(x='mpg', y='hp');"
   ]
  },
  {
   "cell_type": "markdown",
   "id": "a56955b3",
   "metadata": {},
   "source": [
    "### Using .hvplot\n",
    "As you can see above, the Pandas API gives you a usable plot very easily. You can make a very similar plot with the same arguments using hvplot, after importing hvplot.pandas to install hvPlot support into Pandas:"
   ]
  },
  {
   "cell_type": "code",
   "execution_count": null,
   "id": "9a03c27e",
   "metadata": {},
   "outputs": [],
   "source": [
    "import hvplot.pandas "
   ]
  },
  {
   "cell_type": "code",
   "execution_count": null,
   "id": "423cfece",
   "metadata": {},
   "outputs": [],
   "source": [
    "df.hvplot.scatter(x='mpg', y='hp')"
   ]
  },
  {
   "cell_type": "markdown",
   "id": "931d5c08",
   "metadata": {},
   "source": [
    "Here unlike in the Pandas .plot() there is a default hover action on the datapoints to show the values, and you can always pan and zoom to focus on any particular region of the data of interest.\n",
    "\n"
   ]
  },
  {
   "cell_type": "markdown",
   "id": "40dfa448",
   "metadata": {},
   "source": [
    "You can also add hover columns to show additional info when you hover:"
   ]
  },
  {
   "cell_type": "code",
   "execution_count": null,
   "id": "3773126e",
   "metadata": {},
   "outputs": [],
   "source": [
    "df.hvplot.scatter(x='mpg', y='hp', hover_cols=['yr', 'horsepower'])"
   ]
  },
  {
   "cell_type": "markdown",
   "id": "97bf111a",
   "metadata": {},
   "source": [
    "#### Exercise\n",
    "\n",
    "Try changing the x axis on the plot above to see the relationship between weight and hp. \n",
    "\n",
    "<details><summary><i><u>(Solution)</u><i></summary><br>\n",
    "\n",
    "<details><summary><i><u>(Are you sure you want to see the solution?)</u><i></summary><br>\n",
    "\n",
    "```python\n",
    "df.hvplot.scatter(x='weight', y='hp')\n",
    "```\n",
    "</details>\n",
    "    \n",
    "</details>"
   ]
  },
  {
   "cell_type": "markdown",
   "id": "26033c30",
   "metadata": {},
   "source": [
    "#### Exercise\n",
    "\n",
    "Try create a line plot to see the relationship between weight and hp. \n",
    "<details><summary><i><u>(Solution)</u><i></summary><br>\n",
    "\n",
    "<details><summary><i><u>(Notice anything wrong with your plot?)</u><i></summary><br>\n",
    "\n",
    "```python\n",
    "df.sort_values(by='weight').hvplot.line(x='weight', y='hp')\n",
    "```\n",
    "</details>\n",
    "    \n",
    "</details>"
   ]
  },
  {
   "cell_type": "markdown",
   "id": "aa9d4625",
   "metadata": {},
   "source": [
    "### Getting help with hvplot options\n",
    "\n",
    "You may be wondering how you can learn about all the options that are available with `hvplot`. For this purpose, you can use tab-completion in the Jupyter notebook or the `hvplot.help` function which are documented in the [user guide](https://hvplot.holoviz.org/user_guide/Customization.html).\n",
    "\n",
    "For tab completion, you can press tab after the opening parenthesis in a `obj.hvplot.<kind>(` call. For instance, you can try pressing tab after the partial expression `df.hvplot.scatter(<TAB>`.\n",
    "\n"
   ]
  },
  {
   "cell_type": "markdown",
   "id": "876ebda5",
   "metadata": {},
   "source": [
    "Alternatively, you can call `hvplot.help(<kind>)` to see a documentation pane pop up in the notebook. Try uncommenting the following line and executing it:"
   ]
  },
  {
   "cell_type": "code",
   "execution_count": null,
   "id": "b17a782b",
   "metadata": {},
   "outputs": [],
   "source": [
    "hvplot.help('scatter')"
   ]
  },
  {
   "cell_type": "markdown",
   "id": "e785e77c",
   "metadata": {},
   "source": [
    "You will see there are a lot of options!  You can control which section of the documentation you view with the `generic`, `docstring` and `style` boolean switches also documented in the  [user guide](https://hvplot.holoviz.org/user_guide/Customization.html). If you run the following cell, you will see that `alpha` is listed in the 'Style options'."
   ]
  },
  {
   "cell_type": "code",
   "execution_count": null,
   "id": "2ad90b83",
   "metadata": {
    "scrolled": true
   },
   "outputs": [],
   "source": [
    "hvplot.help('scatter', style=True, generic=False)"
   ]
  },
  {
   "cell_type": "markdown",
   "id": "0c1cff38",
   "metadata": {},
   "source": [
    "These style options refer to options that are part of the Bokeh API. This means that the `alpha` keyword is passed directly to Bokeh just like all the other style options. As these are Bokeh-level options, you can find out more by using the search functionality in the [Bokeh docs](https://docs.bokeh.org/en/latest/)."
   ]
  },
  {
   "cell_type": "markdown",
   "id": "fd4706ff",
   "metadata": {},
   "source": [
    "#### Exercise\n",
    "\n",
    "Try changing color, width, height, and alpha value of the plot. \n",
    "<details><summary><i><u>(Solution)</u><i></summary><br>\n",
    "\n",
    "<details><summary><i><u>(You can do this!)</u><i></summary><br>\n",
    "\n",
    "```python\n",
    "df.hvplot.scatter(\n",
    "    x='mpg', \n",
    "    y='hp',\n",
    "    color='pink',\n",
    "    width=600,\n",
    "    height=300,\n",
    "    alpha=0.5\n",
    ")\n",
    "```\n",
    "</details>\n",
    "    \n",
    "</details>"
   ]
  },
  {
   "cell_type": "markdown",
   "id": "81de8e69",
   "metadata": {},
   "source": [
    "### Other kinds of plots\n",
    "\n",
    "Use tab completion to explore the available plot types.\n",
    "\n",
    "```\n",
    "df.hvplot.<TAB>\n",
    "```\n",
    "\n",
    "Plot types available include:\n",
    "\n",
    "- .area(): Plots a area chart similar to a line chart except for filling the area under the curve and optionally stacking\n",
    "\n",
    "- .bar(): Plots a bar chart that can be stacked or grouped\n",
    "\n",
    "- .bivariate(): Plots 2D density of a set of points\n",
    "\n",
    "- .box(): Plots a box-whisker chart comparing the distribution of one or more variables\n",
    "\n",
    "- .heatmap(): Plots a heatmap to visualizing a variable across two independent dimensions\n",
    "\n",
    "- .hexbins(): Plots hex bins\n",
    "\n",
    "- .hist(): Plots the distribution of one or histograms as a set of bins\n",
    "\n",
    "- .kde(): Plots the kernel density estimate of one or more variables.\n",
    "\n",
    "- .line(): Plots a line chart (such as for a time series)\n",
    "\n",
    "- .scatter(): Plots a scatter chart comparing two variables\n",
    "\n",
    "- .step(): Plots a step chart akin to a line plot\n",
    "\n",
    "- .table(): Generates a SlickGrid DataTable\n",
    "\n",
    "- .violin(): Plots a violin plot comparing the distribution of one or more variables using the kernel density estimate\n",
    "\n"
   ]
  },
  {
   "cell_type": "code",
   "execution_count": null,
   "id": "305b38ed",
   "metadata": {},
   "outputs": [],
   "source": [
    "# default is line plot\n",
    "df.sort_values(by='mpg').hvplot(x='mpg', y='hp')"
   ]
  },
  {
   "cell_type": "markdown",
   "id": "67e3ab8b",
   "metadata": {},
   "source": [
    "#### Exercise\n",
    "\n",
    "Create a hexbin plot (hexbin) plot of the relationship between mpg and hp:\n",
    "<details><summary><i><u>(Solution)</u><i></summary><br>\n",
    "    \n",
    "<details><summary><i><u>(Are you sure you want to see the solution?)</u><i></summary><br>\n",
    "\n",
    "```python\n",
    "df.hvplot.hexbin(x='mpg', y='hp')\n",
    "```\n",
    "</details>\n",
    "</details>"
   ]
  },
  {
   "cell_type": "code",
   "execution_count": null,
   "id": "d0b8d235",
   "metadata": {},
   "outputs": [],
   "source": [
    "# histogram\n",
    "df.hvplot.hist('mpg', bins=10)"
   ]
  },
  {
   "cell_type": "markdown",
   "id": "4b609cf4",
   "metadata": {},
   "source": [
    "#### Exercise\n",
    "\n",
    "Create a kernel density estimate (kde) plot, a box plot, and a violon plot of mpg for `df`:\n",
    "<details><summary><i><u>(Hint)</u><i></summary><br>\n",
    "Use kde, box, and violin. \n",
    "    \n",
    "<details><summary><i><u>(Solution)</u><i></summary><br>\n",
    "\n",
    "```python\n",
    "df.hvplot.kde('mpg')\n",
    "df.hvplot.box('mpg')\n",
    "df.hvplot.violin('mpg')\n",
    "```\n",
    "    \n",
    "</details>\n",
    "</details>"
   ]
  },
  {
   "cell_type": "markdown",
   "id": "8b1a07e3",
   "metadata": {},
   "source": [
    "#### Exercise\n",
    "\n",
    "Create a bar plot showing the counts of origin:\n",
    "<details><summary><i><u>(Solution)</u><i></summary><br>\n",
    "\n",
    "<details><summary><i><u>(Give yourself one more minute)</u><i></summary><br>\n",
    "\n",
    "\n",
    "```python\n",
    "df.origin.value_counts().hvplot.bar()\n",
    "```\n",
    "</details>\n",
    "</details>"
   ]
  },
  {
   "cell_type": "markdown",
   "id": "16bba1ba",
   "metadata": {},
   "source": [
    "#### Exercise\n",
    "\n",
    "Create a bar plot showing the mean value of mpg by yr and origin:\n",
    "<details><summary><i><u>(Hint)</u><i></summary><br>\n",
    "\n",
    "Use .groupby \n",
    "    \n",
    "<details><summary><i><u>(Solution)</u><i></summary><br>\n",
    "\n",
    "\n",
    "```python\n",
    "df.groupby(['yr', 'origin']).mean()['mpg'].hvplot.bar(stacked=True, height=500, legend='top_left')\n",
    "```\n",
    "</details>\n",
    "</details>"
   ]
  },
  {
   "cell_type": "markdown",
   "id": "2115513e",
   "metadata": {},
   "source": [
    "### The kind argument \n",
    "Instead of using the hvplot namespace to call different types of plots directly (e.g., `df.hvplot.scatter(x='mpg', y='hp')`), we can use the kind argument to the plot call (e.g., `df.hvplot(x='mpg', y='hp', kind='scatter')`). "
   ]
  },
  {
   "cell_type": "code",
   "execution_count": null,
   "id": "a1ab9bcb",
   "metadata": {},
   "outputs": [],
   "source": [
    "df.hvplot(x='mpg', y='hp', kind='scatter')"
   ]
  },
  {
   "cell_type": "markdown",
   "id": "9144b506",
   "metadata": {},
   "source": [
    "## Grouping\n",
    "\n",
    "We can overlay all our groups on the same plot using the `by` option:"
   ]
  },
  {
   "cell_type": "code",
   "execution_count": null,
   "id": "5cc11acc",
   "metadata": {},
   "outputs": [],
   "source": [
    "df.hvplot.scatter(x='mpg', y='hp', by='origin')"
   ]
  },
  {
   "cell_type": "markdown",
   "id": "bb847600",
   "metadata": {},
   "source": [
    "Define color palette:"
   ]
  },
  {
   "cell_type": "code",
   "execution_count": null,
   "id": "db2b459d",
   "metadata": {},
   "outputs": [],
   "source": [
    "PALETTE = [\"#ff6f69\", \"#ffcc5c\", \"#88d8b0\", ]\n",
    "pn.Row(\n",
    "    pn.layout.HSpacer(height=50, background=PALETTE[0]),\n",
    "    pn.layout.HSpacer(height=50, background=PALETTE[1]),\n",
    "    pn.layout.HSpacer(height=50, background=PALETTE[2]),\n",
    ")"
   ]
  },
  {
   "cell_type": "markdown",
   "id": "1c4f6b66",
   "metadata": {},
   "source": [
    "#### Exercise\n",
    "\n",
    "Try changing the color using the above color palette\n",
    "<details><summary><i><u>(Solution)</u><i></summary><br>\n",
    "<details><summary><i><u>(Give yourself another minute!)</u><i></summary><br>\n",
    "    \n",
    "```python\n",
    "df.hvplot.scatter(x='mpg', y='hp', by='origin', color=PALETTE)\n",
    "```\n",
    "</details>\n",
    "</details>"
   ]
  },
  {
   "cell_type": "markdown",
   "id": "c2e614ee",
   "metadata": {},
   "source": [
    "#### Exercise\n",
    "\n",
    "Add `subplots=True` and `width=300` to see the different classes side-by-side instead of overlaid. The axes will be linked, so try zooming.\n",
    "\n",
    "<details><summary><i><u>(Solution)</u><i></summary><br>\n",
    "    \n",
    "```python\n",
    "df.hvplot.scatter(\n",
    "    x='mpg', \n",
    "    y='hp', \n",
    "    by='origin',\n",
    "    subplots=True,\n",
    "    width=300\n",
    "    )\n",
    "```\n",
    "\n",
    "</details>"
   ]
  },
  {
   "cell_type": "markdown",
   "id": "4d7a2a5b",
   "metadata": {},
   "source": [
    "#### Exercise\n",
    "\n",
    "Add `shared_axes=False` and try zooming.\n",
    "\n",
    "<details><summary><i><u>(Solution)</u><i></summary><br>\n",
    "    \n",
    "```python\n",
    "df.hvplot.scatter(\n",
    "    x='mpg', \n",
    "    y='hp', \n",
    "    by='origin',\n",
    "    subplots=True,\n",
    "    width=300,\n",
    "    shared_axes=False\n",
    "    )\n",
    "```\n",
    "\n",
    "</details>"
   ]
  },
  {
   "cell_type": "markdown",
   "id": "53664508",
   "metadata": {},
   "source": [
    "#### Exercise\n",
    "\n",
    "Add `.cols(1)` and see what happens.\n",
    "\n",
    "<details><summary><i><u>(Solution)</u><i></summary><br>\n",
    "    \n",
    "```python\n",
    "df.hvplot.scatter(\n",
    "    x='mpg', \n",
    "    y='hp', \n",
    "    by='origin',\n",
    "    subplots=True,\n",
    "    width=300,\n",
    "    shared_axes=False\n",
    "    ).cols(1)\n",
    "```\n",
    "\n",
    "</details>"
   ]
  },
  {
   "cell_type": "markdown",
   "id": "61b17259",
   "metadata": {},
   "source": [
    "What if you want a single plot, but want to see each class separately? You can use the `groupby` option to get a widget for toggling between classes, here in a bivariate plot (using a subset of the data as bivariate plots can be expensive to compute):"
   ]
  },
  {
   "cell_type": "code",
   "execution_count": null,
   "id": "e5285694",
   "metadata": {
    "scrolled": true
   },
   "outputs": [],
   "source": [
    "df.hvplot.scatter(x='mpg', y='hp', groupby='origin')"
   ]
  },
  {
   "cell_type": "markdown",
   "id": "916b41a6",
   "metadata": {},
   "source": [
    "#### Exercise\n",
    "\n",
    "Plot the distribution of mpg by origin.\n",
    "\n",
    "<details><summary><i><u>(Solution)</u><i></summary><br>\n",
    "    \n",
    "```python\n",
    "df.hvplot.hist(y='mpg', groupby='origin')\n",
    "```\n",
    "\n",
    "</details>"
   ]
  },
  {
   "cell_type": "markdown",
   "id": "623880fa",
   "metadata": {},
   "source": [
    "## Combine plots\n",
    "\n",
    "We can use a `+` symbol to compose HoloViews objects side-by-side with axes linked for any shared dimensions. "
   ]
  },
  {
   "cell_type": "code",
   "execution_count": null,
   "id": "ca5a0a85",
   "metadata": {},
   "outputs": [],
   "source": [
    "df.hvplot.hist('mpg', bins=10, width=300)"
   ]
  },
  {
   "cell_type": "code",
   "execution_count": null,
   "id": "75cf91a2",
   "metadata": {},
   "outputs": [],
   "source": [
    "df.hvplot.scatter(x='mpg', y='hp', width=300)"
   ]
  },
  {
   "cell_type": "code",
   "execution_count": null,
   "id": "c1e84846",
   "metadata": {},
   "outputs": [],
   "source": [
    "df.hvplot.hist('mpg', bins=10, width=300) + df.hvplot.scatter(x='mpg', y='hp', width=300)"
   ]
  },
  {
   "cell_type": "markdown",
   "id": "b3ae06de",
   "metadata": {},
   "source": [
    "Organize plots into one columns:"
   ]
  },
  {
   "cell_type": "code",
   "execution_count": null,
   "id": "176dd680",
   "metadata": {},
   "outputs": [],
   "source": [
    "(df.hvplot.hist('mpg', bins=10, height=300) + df.hvplot.scatter(x='mpg', y='hp', height=300)).cols(1)"
   ]
  },
  {
   "cell_type": "markdown",
   "id": "9af6cb91",
   "metadata": {},
   "source": [
    "Try zooming in and out (including on the axes) to explore the linking between the plots above."
   ]
  },
  {
   "cell_type": "markdown",
   "id": "5716cbed",
   "metadata": {},
   "source": [
    "## Overlay plots\n",
    "\n",
    "HoloViews objects can be composed into an overlay using a * symbol, with a legend generated to distinguish them. \n",
    "As we have seen previously, we can use `by='origin'` to distinguish points by origin using different colors:"
   ]
  },
  {
   "cell_type": "code",
   "execution_count": null,
   "id": "6fa54128",
   "metadata": {},
   "outputs": [],
   "source": [
    "df.hvplot.scatter(x='mpg', y='hp', by='origin')"
   ]
  },
  {
   "cell_type": "markdown",
   "id": "2c17ca82",
   "metadata": {},
   "source": [
    "To show how * works, we can plot each region separately and combine them into an overlay using the * symbol:"
   ]
  },
  {
   "cell_type": "code",
   "execution_count": null,
   "id": "35cbfcfe",
   "metadata": {},
   "outputs": [],
   "source": [
    "( \n",
    "    df[df.origin=='Asia'].hvplot.scatter(x='mpg', y='hp', by='origin') * \n",
    "    df[df.origin=='Europe'].hvplot.scatter(x='mpg', y='hp', by='origin') * \n",
    "    df[df.origin=='North America'].hvplot.scatter(x='mpg', y='hp', by='origin') \n",
    ")"
   ]
  },
  {
   "cell_type": "markdown",
   "id": "214993bc",
   "metadata": {},
   "source": [
    "## Scatter Matrix\n",
    "\n",
    "When working with multi-dimensional data, it is often difficult to understand the relationship between all the different variables. A scatter_matrix makes it possible to visualize all of the pairwise relationships in a compact format. "
   ]
  },
  {
   "cell_type": "code",
   "execution_count": null,
   "id": "181ccb0c",
   "metadata": {},
   "outputs": [],
   "source": [
    "hvplot.scatter_matrix(df, c=\"origin\")"
   ]
  },
  {
   "cell_type": "markdown",
   "id": "407a3d5d",
   "metadata": {},
   "source": [
    "# Interlinked plots"
   ]
  },
  {
   "cell_type": "markdown",
   "id": "8e926a55",
   "metadata": {},
   "source": [
    "hvPlot allows you to generate a number of different types of plot quickly from a standard API, returning Bokeh-based [HoloViews](https://holoviews.org) objects as discussed in the previous notebook. Each initial plot will make some aspects of the data clear, and using the automatic interactive Bokeh pan, zoom, and hover tools you can find additional trends and outliers at different spatial locations and spatial scales within each plot.\n",
    "\n",
    "Beyond what you can discover from each plot individually, how do you understand how the various plots relate to each other? For instance, imagine you have a data frame with columns _u_, _v_, _w_, _z_, and have separate plots of _u_ vs. _v_, _u_ vs. _w_, and _w_ vs. _z_. If you see a few outliers or a clump of unusual datapoints in your  _u_ vs. _v_ plot, how can you find out the properties of those points in the _w_ vs. _z_ or other plots? Are those unusual _u_ vs. _v_ points typically high _w_, uniformly distributed along _w_, or some other pattern? \n",
    "\n",
    "To help understand multicolumnar and multidimensional datasets like this, scientists will often build complex multi-pane dashboards with custom functionality. HoloViz (and specifically Panel) tools are great for such dashboards, but here we can actually use the fact that hvPlot returns HoloViews objects to get quite sophisticated interlinking ([linked brushing](http://holoviews.org/user_guide/Linked_Brushing.html)) \"for free\", without needing to build any dashboard. HoloViews objects store metadata about what dimensions they cover, and we can use this metadata programmatically to let the user see how any data points in any plot relate across different plots.\n",
    "\n",
    "### Linked brushing across elements\n",
    "\n",
    "Previously, we saw how plot axes are automatically linked for panning and zooming when using the `+` operator, provided the dimensions match. When dimensions or an underlying index match across multiple plots, we can use a similar principle to achieve linked brushing, where user selections are also linked across plots.\n",
    "\n",
    "To illustrate, let us generate two histograms from our `df` DataFrame:"
   ]
  },
  {
   "cell_type": "code",
   "execution_count": null,
   "id": "a8bd216b",
   "metadata": {},
   "outputs": [],
   "source": [
    "mpg_hist = df.hvplot.hist('mpg', width=300, height=150)\n",
    "hp_hist = df.hvplot.hist('hp', width=300, height=150)"
   ]
  },
  {
   "cell_type": "markdown",
   "id": "55700a31",
   "metadata": {},
   "source": [
    "These two histograms are plotting two different dimensions of our dataset (mpg and hp). The samples between these two histograms share an index, and the relationships between these data points can be discovered and exploited programmatically even though they are in different elements. To do this, we can create an object for linking selections across elements:"
   ]
  },
  {
   "cell_type": "code",
   "execution_count": null,
   "id": "326890ca",
   "metadata": {},
   "outputs": [],
   "source": [
    "ls = hv.link_selections.instance()"
   ]
  },
  {
   "cell_type": "markdown",
   "id": "66e6f9fc",
   "metadata": {},
   "source": [
    "Given some HoloViews objects (elements, layouts, etc.), we can create versions of them linked to this shared linking object by calling `ls` on them:"
   ]
  },
  {
   "cell_type": "code",
   "execution_count": null,
   "id": "d958fbd2",
   "metadata": {},
   "outputs": [],
   "source": [
    "ls(mpg_hist + hp_hist)"
   ]
  },
  {
   "cell_type": "markdown",
   "id": "f7ba2eca",
   "metadata": {},
   "source": [
    "Try using the first Bokeh tool to select areas of either histogram: you'll then see both the mpg and hp distributions for the bins you have selected, compared to the overall distribution. By default, selections on both histograms are combined so that the selection is the intersection of the two regions selected (data points matching _both_ the constraints on depth and the constraints on magnitude that you select). You can use the Bokeh reset tool (double arrow) to clear your selection.\n",
    "\n",
    "### Linked brushing across element types\n",
    "\n",
    "The previous example linked across two histograms as a first example, but nothing prevents you from linked brushing across different element types. "
   ]
  },
  {
   "cell_type": "code",
   "execution_count": null,
   "id": "5b8355ef",
   "metadata": {},
   "outputs": [],
   "source": [
    "points = df.hvplot.scatter(x='mpg', y='hp', c='origin',  height=150)\n",
    "mpg_hist = df.hvplot.hist('mpg', height=150)\n",
    "hp_violin = df.hvplot.violin('hp', height=150)"
   ]
  },
  {
   "cell_type": "code",
   "execution_count": null,
   "id": "74e8e89b",
   "metadata": {},
   "outputs": [],
   "source": [
    "ls2 = hv.link_selections.instance()\n",
    "\n",
    "(ls2(points + mpg_hist + hp_violin)).cols(1)"
   ]
  },
  {
   "cell_type": "markdown",
   "id": "99a858a4",
   "metadata": {},
   "source": [
    "## Accessing the data selection\n",
    "\n",
    "If you pass your `DataFrame` into the `.filter` method of your linked selection object, you can apply the active filter that you specified interactively:"
   ]
  },
  {
   "cell_type": "code",
   "execution_count": null,
   "id": "3815bccc",
   "metadata": {},
   "outputs": [],
   "source": [
    "filtered = ls2.filter(df)\n",
    "filtered"
   ]
  },
  {
   "cell_type": "markdown",
   "id": "739461e0",
   "metadata": {},
   "source": [
    "You can analysis your filtered data:"
   ]
  },
  {
   "cell_type": "code",
   "execution_count": null,
   "id": "6242e27b",
   "metadata": {},
   "outputs": [],
   "source": [
    "filtered.describe()"
   ]
  },
  {
   "cell_type": "markdown",
   "id": "ad66d506",
   "metadata": {},
   "source": [
    "## Exploring further\n",
    "\n",
    "As you can see, hvPlot makes it simple to explore your data interactively, with commands based on the widely used Pandas `.plot()` API but now supporting many more features and different types of data. The visualizations above just touch the surface of what is available from hvPlot, and you can explore the [hvPlot website](https://hvplot.pyviz.org) to see much more, or just explore it yourself using tab completion (`df.hvplot.`_[TAB]_). The following section will focus on how to put these plots together once you have them, linking them to understand and show their structure."
   ]
  },
  {
   "cell_type": "markdown",
   "id": "a97f508e",
   "metadata": {},
   "source": [
    "#### Reading time\n",
    "\n",
    "Read the [hvPlot documentation](https://hvplot.pyviz.org) and let us know if you have any questions."
   ]
  }
 ],
 "metadata": {
  "kernelspec": {
   "display_name": "Python 3 (ipykernel)",
   "language": "python",
   "name": "python3"
  },
  "language_info": {
   "codemirror_mode": {
    "name": "ipython",
    "version": 3
   },
   "file_extension": ".py",
   "mimetype": "text/x-python",
   "name": "python",
   "nbconvert_exporter": "python",
   "pygments_lexer": "ipython3",
   "version": "3.9.13"
  }
 },
 "nbformat": 4,
 "nbformat_minor": 5
}
