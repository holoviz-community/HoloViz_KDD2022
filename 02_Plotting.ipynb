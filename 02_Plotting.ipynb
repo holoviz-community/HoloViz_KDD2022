{
 "cells": [
  {
   "cell_type": "markdown",
   "id": "765a6287",
   "metadata": {},
   "source": [
    "<style>div.container { width: 100% }</style>\n",
    "<img style=\"float:left;  vertical-align:text-bottom;\" height=\"65\" width=\"172\" src=\"https://raw.githubusercontent.com/holoviz/holoviz/master/doc/_static/holoviz-logo-unstacked.svg\" />\n",
    "<div style=\"float:right; vertical-align:text-bottom;\"><h2>Tutorial 2. Plotting</h2></div>"
   ]
  },
  {
   "cell_type": "markdown",
   "id": "88a1b113",
   "metadata": {},
   "source": [
    "When trying to make sense of data, there are many representations to choose from, including data tables, textual summaries and so on. We'll mostly focus on plotting data to get an intuitive visual representation, using a simple but powerful plotting API.\n",
    "\n",
    "If you have tried to visualize a `pandas.DataFrame` before, then you have likely encountered the [Pandas .plot() API](https://pandas.pydata.org/pandas-docs/stable/user_guide/visualization.html). These plotting commands use [Matplotlib](http://matplotlib.org) to render static PNGs or SVGs in a Jupyter notebook using the `inline` backend, or interactive figures via `%matplotlib widget`, with a command that can be as simple as `df.plot()` for a DataFrame with one or two columns. \n",
    "\n",
    "The Pandas .plot() API has emerged as a de-facto standard for high-level plotting APIs in Python, and is now supported by many different libraries that use various underlying plotting engines to provide additional power and flexibility. Learning this API allows you to access capabilities provided by a wide variety of underlying tools, with relatively little additional effort. The libraries currently supporting this API include:\n",
    "\n",
    "- [Pandas](https://pandas.pydata.org/pandas-docs/stable/user_guide/visualization.html) -- Matplotlib-based API included with Pandas. Static or interactive output in Jupyter notebooks.\n",
    "- [xarray](https://xarray.pydata.org/en/stable/plotting.html) -- Matplotlib-based API included with xarray, based on pandas .plot API. Static or interactive output in Jupyter notebooks.\n",
    "- [hvPlot](https://hvplot.pyviz.org) -- HoloViews and Bokeh-based interactive plots for Pandas, GeoPandas, xarray, Dask, Intake, and Streamz data.\n",
    "- [Pandas Bokeh](https://github.com/PatrikHlobil/Pandas-Bokeh) -- Bokeh-based interactive plots, for Pandas, GeoPandas, and PySpark data.\n",
    "- [Cufflinks](https://github.com/santosjorge/cufflinks) -- Plotly-based interactive plots for Pandas data.\n",
    "- [Plotly Express](https://plotly.com/python/pandas-backend) -- Plotly-Express-based interactive plots for Pandas data; only partial support for the .plot API keywords.\n",
    "- [PdVega](https://altair-viz.github.io/pdvega) -- Vega-lite-based, JSON-encoded interactive plots for Pandas data.\n",
    "\n",
    "In this notebook we'll explore what is possible with the default `.plot` API and demonstrate the additional capabilities provided by `.hvplot`. "
   ]
  },
  {
   "cell_type": "markdown",
   "id": "2319b84e",
   "metadata": {},
   "source": [
    "### Import and configure packages\n",
    "\n",
    "Please note that in **Colab** you will need to `!pip install panel hvplot`."
   ]
  },
  {
   "cell_type": "code",
   "execution_count": 29,
   "id": "60017bf6",
   "metadata": {},
   "outputs": [],
   "source": [
    "# !pip install panel==0.12.6 hvplot==0.7.3"
   ]
  },
  {
   "cell_type": "code",
   "execution_count": 64,
   "id": "ba5419fd",
   "metadata": {},
   "outputs": [],
   "source": [
    "import hvplot.pandas\n",
    "import panel as pn"
   ]
  },
  {
   "cell_type": "markdown",
   "id": "510d39cf",
   "metadata": {},
   "source": [
    "### Read in the data\n",
    "\n",
    "Here we will focus on Pandas, but a similar approach will work for any supported DataFrame type, including Dask for distributed computing or RAPIDS cuDF for GPU computing. This dataset is relatively large (2.1 million rows), but should still fit into memory on any recent machine, and thus won't need special out-of-core or distributed approaches like Dask provides."
   ]
  },
  {
   "cell_type": "code",
   "execution_count": 43,
   "id": "ab06d16b",
   "metadata": {},
   "outputs": [],
   "source": [
    "from bokeh.sampledata.autompg import autompg_clean as df\n",
    "# you may also read in data from a local file, for example using\n",
    "# df = pd.read_csv('data.csv')"
   ]
  },
  {
   "cell_type": "code",
   "execution_count": 41,
   "id": "6242dac3",
   "metadata": {},
   "outputs": [
    {
     "data": {
      "text/plain": [
       "392"
      ]
     },
     "execution_count": 41,
     "metadata": {},
     "output_type": "execute_result"
    }
   ],
   "source": [
    "len(df)"
   ]
  },
  {
   "cell_type": "code",
   "execution_count": 39,
   "id": "a30b792f",
   "metadata": {},
   "outputs": [
    {
     "data": {
      "text/html": [
       "<div>\n",
       "<style scoped>\n",
       "    .dataframe tbody tr th:only-of-type {\n",
       "        vertical-align: middle;\n",
       "    }\n",
       "\n",
       "    .dataframe tbody tr th {\n",
       "        vertical-align: top;\n",
       "    }\n",
       "\n",
       "    .dataframe thead th {\n",
       "        text-align: right;\n",
       "    }\n",
       "</style>\n",
       "<table border=\"1\" class=\"dataframe\">\n",
       "  <thead>\n",
       "    <tr style=\"text-align: right;\">\n",
       "      <th></th>\n",
       "      <th>mpg</th>\n",
       "      <th>cyl</th>\n",
       "      <th>displ</th>\n",
       "      <th>hp</th>\n",
       "      <th>weight</th>\n",
       "      <th>accel</th>\n",
       "      <th>yr</th>\n",
       "      <th>origin</th>\n",
       "      <th>name</th>\n",
       "      <th>mfr</th>\n",
       "    </tr>\n",
       "  </thead>\n",
       "  <tbody>\n",
       "    <tr>\n",
       "      <th>0</th>\n",
       "      <td>18.0</td>\n",
       "      <td>8</td>\n",
       "      <td>307.0</td>\n",
       "      <td>130</td>\n",
       "      <td>3504</td>\n",
       "      <td>12.0</td>\n",
       "      <td>70</td>\n",
       "      <td>North America</td>\n",
       "      <td>chevrolet chevelle malibu</td>\n",
       "      <td>chevrolet</td>\n",
       "    </tr>\n",
       "    <tr>\n",
       "      <th>1</th>\n",
       "      <td>15.0</td>\n",
       "      <td>8</td>\n",
       "      <td>350.0</td>\n",
       "      <td>165</td>\n",
       "      <td>3693</td>\n",
       "      <td>11.5</td>\n",
       "      <td>70</td>\n",
       "      <td>North America</td>\n",
       "      <td>buick skylark 320</td>\n",
       "      <td>buick</td>\n",
       "    </tr>\n",
       "    <tr>\n",
       "      <th>2</th>\n",
       "      <td>18.0</td>\n",
       "      <td>8</td>\n",
       "      <td>318.0</td>\n",
       "      <td>150</td>\n",
       "      <td>3436</td>\n",
       "      <td>11.0</td>\n",
       "      <td>70</td>\n",
       "      <td>North America</td>\n",
       "      <td>plymouth satellite</td>\n",
       "      <td>plymouth</td>\n",
       "    </tr>\n",
       "    <tr>\n",
       "      <th>3</th>\n",
       "      <td>16.0</td>\n",
       "      <td>8</td>\n",
       "      <td>304.0</td>\n",
       "      <td>150</td>\n",
       "      <td>3433</td>\n",
       "      <td>12.0</td>\n",
       "      <td>70</td>\n",
       "      <td>North America</td>\n",
       "      <td>amc rebel sst</td>\n",
       "      <td>amc</td>\n",
       "    </tr>\n",
       "    <tr>\n",
       "      <th>4</th>\n",
       "      <td>17.0</td>\n",
       "      <td>8</td>\n",
       "      <td>302.0</td>\n",
       "      <td>140</td>\n",
       "      <td>3449</td>\n",
       "      <td>10.5</td>\n",
       "      <td>70</td>\n",
       "      <td>North America</td>\n",
       "      <td>ford torino</td>\n",
       "      <td>ford</td>\n",
       "    </tr>\n",
       "  </tbody>\n",
       "</table>\n",
       "</div>"
      ],
      "text/plain": [
       "    mpg  cyl  displ   hp  weight  accel  yr         origin  \\\n",
       "0  18.0    8  307.0  130    3504   12.0  70  North America   \n",
       "1  15.0    8  350.0  165    3693   11.5  70  North America   \n",
       "2  18.0    8  318.0  150    3436   11.0  70  North America   \n",
       "3  16.0    8  304.0  150    3433   12.0  70  North America   \n",
       "4  17.0    8  302.0  140    3449   10.5  70  North America   \n",
       "\n",
       "                        name        mfr  \n",
       "0  chevrolet chevelle malibu  chevrolet  \n",
       "1          buick skylark 320      buick  \n",
       "2         plymouth satellite   plymouth  \n",
       "3              amc rebel sst        amc  \n",
       "4                ford torino       ford  "
      ]
     },
     "execution_count": 39,
     "metadata": {},
     "output_type": "execute_result"
    }
   ],
   "source": [
    "df.head()"
   ]
  },
  {
   "cell_type": "code",
   "execution_count": 37,
   "id": "f46ce8d5",
   "metadata": {},
   "outputs": [
    {
     "data": {
      "text/html": [
       "<div>\n",
       "<style scoped>\n",
       "    .dataframe tbody tr th:only-of-type {\n",
       "        vertical-align: middle;\n",
       "    }\n",
       "\n",
       "    .dataframe tbody tr th {\n",
       "        vertical-align: top;\n",
       "    }\n",
       "\n",
       "    .dataframe thead th {\n",
       "        text-align: right;\n",
       "    }\n",
       "</style>\n",
       "<table border=\"1\" class=\"dataframe\">\n",
       "  <thead>\n",
       "    <tr style=\"text-align: right;\">\n",
       "      <th></th>\n",
       "      <th>mpg</th>\n",
       "      <th>cyl</th>\n",
       "      <th>displ</th>\n",
       "      <th>hp</th>\n",
       "      <th>weight</th>\n",
       "      <th>accel</th>\n",
       "      <th>yr</th>\n",
       "      <th>origin</th>\n",
       "      <th>name</th>\n",
       "      <th>mfr</th>\n",
       "    </tr>\n",
       "  </thead>\n",
       "  <tbody>\n",
       "    <tr>\n",
       "      <th>387</th>\n",
       "      <td>27.0</td>\n",
       "      <td>4</td>\n",
       "      <td>140.0</td>\n",
       "      <td>86</td>\n",
       "      <td>2790</td>\n",
       "      <td>15.6</td>\n",
       "      <td>82</td>\n",
       "      <td>North America</td>\n",
       "      <td>ford mustang gl</td>\n",
       "      <td>ford</td>\n",
       "    </tr>\n",
       "    <tr>\n",
       "      <th>388</th>\n",
       "      <td>44.0</td>\n",
       "      <td>4</td>\n",
       "      <td>97.0</td>\n",
       "      <td>52</td>\n",
       "      <td>2130</td>\n",
       "      <td>24.6</td>\n",
       "      <td>82</td>\n",
       "      <td>Europe</td>\n",
       "      <td>vw pickup</td>\n",
       "      <td>volkswagen</td>\n",
       "    </tr>\n",
       "    <tr>\n",
       "      <th>389</th>\n",
       "      <td>32.0</td>\n",
       "      <td>4</td>\n",
       "      <td>135.0</td>\n",
       "      <td>84</td>\n",
       "      <td>2295</td>\n",
       "      <td>11.6</td>\n",
       "      <td>82</td>\n",
       "      <td>North America</td>\n",
       "      <td>dodge rampage</td>\n",
       "      <td>dodge</td>\n",
       "    </tr>\n",
       "    <tr>\n",
       "      <th>390</th>\n",
       "      <td>28.0</td>\n",
       "      <td>4</td>\n",
       "      <td>120.0</td>\n",
       "      <td>79</td>\n",
       "      <td>2625</td>\n",
       "      <td>18.6</td>\n",
       "      <td>82</td>\n",
       "      <td>North America</td>\n",
       "      <td>ford ranger</td>\n",
       "      <td>ford</td>\n",
       "    </tr>\n",
       "    <tr>\n",
       "      <th>391</th>\n",
       "      <td>31.0</td>\n",
       "      <td>4</td>\n",
       "      <td>119.0</td>\n",
       "      <td>82</td>\n",
       "      <td>2720</td>\n",
       "      <td>19.4</td>\n",
       "      <td>82</td>\n",
       "      <td>North America</td>\n",
       "      <td>chevy s-10</td>\n",
       "      <td>chevrolet</td>\n",
       "    </tr>\n",
       "  </tbody>\n",
       "</table>\n",
       "</div>"
      ],
      "text/plain": [
       "      mpg  cyl  displ  hp  weight  accel  yr         origin             name  \\\n",
       "387  27.0    4  140.0  86    2790   15.6  82  North America  ford mustang gl   \n",
       "388  44.0    4   97.0  52    2130   24.6  82         Europe        vw pickup   \n",
       "389  32.0    4  135.0  84    2295   11.6  82  North America    dodge rampage   \n",
       "390  28.0    4  120.0  79    2625   18.6  82  North America      ford ranger   \n",
       "391  31.0    4  119.0  82    2720   19.4  82  North America       chevy s-10   \n",
       "\n",
       "            mfr  \n",
       "387        ford  \n",
       "388  volkswagen  \n",
       "389       dodge  \n",
       "390        ford  \n",
       "391   chevrolet  "
      ]
     },
     "execution_count": 37,
     "metadata": {},
     "output_type": "execute_result"
    }
   ],
   "source": [
    "df.tail()"
   ]
  },
  {
   "cell_type": "code",
   "execution_count": 42,
   "id": "e3d08d42",
   "metadata": {},
   "outputs": [
    {
     "data": {
      "text/html": [
       "<div>\n",
       "<style scoped>\n",
       "    .dataframe tbody tr th:only-of-type {\n",
       "        vertical-align: middle;\n",
       "    }\n",
       "\n",
       "    .dataframe tbody tr th {\n",
       "        vertical-align: top;\n",
       "    }\n",
       "\n",
       "    .dataframe thead th {\n",
       "        text-align: right;\n",
       "    }\n",
       "</style>\n",
       "<table border=\"1\" class=\"dataframe\">\n",
       "  <thead>\n",
       "    <tr style=\"text-align: right;\">\n",
       "      <th></th>\n",
       "      <th>mpg</th>\n",
       "      <th>cyl</th>\n",
       "      <th>displ</th>\n",
       "      <th>hp</th>\n",
       "      <th>weight</th>\n",
       "      <th>accel</th>\n",
       "      <th>yr</th>\n",
       "    </tr>\n",
       "  </thead>\n",
       "  <tbody>\n",
       "    <tr>\n",
       "      <th>count</th>\n",
       "      <td>392.000000</td>\n",
       "      <td>392.000000</td>\n",
       "      <td>392.000000</td>\n",
       "      <td>392.000000</td>\n",
       "      <td>392.000000</td>\n",
       "      <td>392.000000</td>\n",
       "      <td>392.000000</td>\n",
       "    </tr>\n",
       "    <tr>\n",
       "      <th>mean</th>\n",
       "      <td>23.445918</td>\n",
       "      <td>5.471939</td>\n",
       "      <td>194.411990</td>\n",
       "      <td>104.469388</td>\n",
       "      <td>2977.584184</td>\n",
       "      <td>15.541327</td>\n",
       "      <td>75.979592</td>\n",
       "    </tr>\n",
       "    <tr>\n",
       "      <th>std</th>\n",
       "      <td>7.805007</td>\n",
       "      <td>1.705783</td>\n",
       "      <td>104.644004</td>\n",
       "      <td>38.491160</td>\n",
       "      <td>849.402560</td>\n",
       "      <td>2.758864</td>\n",
       "      <td>3.683737</td>\n",
       "    </tr>\n",
       "    <tr>\n",
       "      <th>min</th>\n",
       "      <td>9.000000</td>\n",
       "      <td>3.000000</td>\n",
       "      <td>68.000000</td>\n",
       "      <td>46.000000</td>\n",
       "      <td>1613.000000</td>\n",
       "      <td>8.000000</td>\n",
       "      <td>70.000000</td>\n",
       "    </tr>\n",
       "    <tr>\n",
       "      <th>25%</th>\n",
       "      <td>17.000000</td>\n",
       "      <td>4.000000</td>\n",
       "      <td>105.000000</td>\n",
       "      <td>75.000000</td>\n",
       "      <td>2225.250000</td>\n",
       "      <td>13.775000</td>\n",
       "      <td>73.000000</td>\n",
       "    </tr>\n",
       "    <tr>\n",
       "      <th>50%</th>\n",
       "      <td>22.750000</td>\n",
       "      <td>4.000000</td>\n",
       "      <td>151.000000</td>\n",
       "      <td>93.500000</td>\n",
       "      <td>2803.500000</td>\n",
       "      <td>15.500000</td>\n",
       "      <td>76.000000</td>\n",
       "    </tr>\n",
       "    <tr>\n",
       "      <th>75%</th>\n",
       "      <td>29.000000</td>\n",
       "      <td>8.000000</td>\n",
       "      <td>275.750000</td>\n",
       "      <td>126.000000</td>\n",
       "      <td>3614.750000</td>\n",
       "      <td>17.025000</td>\n",
       "      <td>79.000000</td>\n",
       "    </tr>\n",
       "    <tr>\n",
       "      <th>max</th>\n",
       "      <td>46.600000</td>\n",
       "      <td>8.000000</td>\n",
       "      <td>455.000000</td>\n",
       "      <td>230.000000</td>\n",
       "      <td>5140.000000</td>\n",
       "      <td>24.800000</td>\n",
       "      <td>82.000000</td>\n",
       "    </tr>\n",
       "  </tbody>\n",
       "</table>\n",
       "</div>"
      ],
      "text/plain": [
       "              mpg         cyl       displ          hp       weight  \\\n",
       "count  392.000000  392.000000  392.000000  392.000000   392.000000   \n",
       "mean    23.445918    5.471939  194.411990  104.469388  2977.584184   \n",
       "std      7.805007    1.705783  104.644004   38.491160   849.402560   \n",
       "min      9.000000    3.000000   68.000000   46.000000  1613.000000   \n",
       "25%     17.000000    4.000000  105.000000   75.000000  2225.250000   \n",
       "50%     22.750000    4.000000  151.000000   93.500000  2803.500000   \n",
       "75%     29.000000    8.000000  275.750000  126.000000  3614.750000   \n",
       "max     46.600000    8.000000  455.000000  230.000000  5140.000000   \n",
       "\n",
       "            accel          yr  \n",
       "count  392.000000  392.000000  \n",
       "mean    15.541327   75.979592  \n",
       "std      2.758864    3.683737  \n",
       "min      8.000000   70.000000  \n",
       "25%     13.775000   73.000000  \n",
       "50%     15.500000   76.000000  \n",
       "75%     17.025000   79.000000  \n",
       "max     24.800000   82.000000  "
      ]
     },
     "execution_count": 42,
     "metadata": {},
     "output_type": "execute_result"
    }
   ],
   "source": [
    "df.describe()"
   ]
  },
  {
   "cell_type": "markdown",
   "id": "75eb5660",
   "metadata": {},
   "source": [
    "### Using Pandas `.plot()`\n",
    "\n",
    "The first thing that we'd like to do with this data is visualize two features of the dataset: mpg and hp. So we would like to make a scatter or points plot where _x_ is mpg and _y_ is hp. \n",
    "\n",
    "We can do that for the smaller dataframe using the `pandas.plot` API and Matplotlib:"
   ]
  },
  {
   "cell_type": "code",
   "execution_count": 34,
   "id": "98a9ff63",
   "metadata": {},
   "outputs": [
    {
     "data": {
      "text/plain": [
       "<AxesSubplot:xlabel='mpg', ylabel='hp'>"
      ]
     },
     "execution_count": 34,
     "metadata": {},
     "output_type": "execute_result"
    },
    {
     "data": {
      "image/png": "[encoded data removed]",
      "text/plain": [
       "<Figure size 432x288 with 1 Axes>"
      ]
     },
     "metadata": {
      "needs_background": "light"
     },
     "output_type": "display_data"
    }
   ],
   "source": [
    "df.plot.scatter(x='mpg', y='hp')"
   ]
  },
  {
   "cell_type": "markdown",
   "id": "13b72f0f",
   "metadata": {},
   "source": [
    "### Using .hvplot\n",
    "As you can see above, the Pandas API gives you a usable plot very easily. You can make a very similar plot with the same arguments using hvplot, after importing hvplot.pandas to install hvPlot support into Pandas:"
   ]
  },
  {
   "cell_type": "code",
   "execution_count": 47,
   "id": "76d7a510",
   "metadata": {},
   "outputs": [],
   "source": [
    "import hvplot.pandas "
   ]
  },
  {
   "cell_type": "code",
   "execution_count": 48,
   "id": "62d0c2ee",
   "metadata": {},
   "outputs": [
    {
     "data": {},
     "metadata": {},
     "output_type": "display_data"
    },
    {
     "data": {
      "application/vnd.holoviews_exec.v0+json": "",
      "text/html": [
       "<div id='2604'>\n",
       "\n",
       "\n",
       "\n",
       "\n",
       "\n",
       "  <div class=\"bk-root\" id=\"b6b3ce84-d8dd-475f-ad94-6b6d62ad25aa\" data-root-id=\"2604\"></div>\n",
       "</div>\n",
       "<script type=\"application/javascript\">(function(root) {\n",
       "  function embed_document(root) {\n",
       "    var docs_json = {\"60d7b682-c8a4-4a52-adcf-c530c32ec634\":{\"defs\":[{\"extends\":null,\"module\":null,\"name\":\"ReactiveHTML1\",\"overrides\":[],\"properties\":[]},{\"extends\":null,\"module\":null,\"name\":\"FlexBox1\",\"overrides\":[],\"properties\":[{\"default\":\"flex-start\",\"kind\":null,\"name\":\"align_content\"},{\"default\":\"flex-start\",\"kind\":null,\"name\":\"align_items\"},{\"default\":\"row\",\"kind\":null,\"name\":\"flex_direction\"},{\"default\":\"wrap\",\"kind\":null,\"name\":\"flex_wrap\"},{\"default\":\"flex-start\",\"kind\":null,\"name\":\"justify_content\"}]},{\"extends\":null,\"module\":null,\"name\":\"TemplateActions1\",\"overrides\":[],\"properties\":[{\"default\":0,\"kind\":null,\"name\":\"open_modal\"},{\"default\":0,\"kind\":null,\"name\":\"close_modal\"}]},{\"extends\":null,\"module\":null,\"name\":\"MaterialTemplateActions1\",\"overrides\":[],\"properties\":[{\"default\":0,\"kind\":null,\"name\":\"open_modal\"},{\"default\":0,\"kind\":null,\"name\":\"close_modal\"}]}],\"roots\":{\"references\":[{\"attributes\":{\"axis_label\":\"mpg\",\"formatter\":{\"id\":\"2650\"},\"major_label_policy\":{\"id\":\"2648\"},\"ticker\":{\"id\":\"2619\"}},\"id\":\"2618\",\"type\":\"LinearAxis\"},{\"attributes\":{},\"id\":\"2614\",\"type\":\"LinearScale\"},{\"attributes\":{\"axis\":{\"id\":\"2618\"},\"grid_line_color\":null,\"ticker\":null},\"id\":\"2621\",\"type\":\"Grid\"},{\"attributes\":{},\"id\":\"2650\",\"type\":\"BasicTickFormatter\"},{\"attributes\":{\"data\":{\"hp\":[130,165,150,150,140,198,220,215,225,190,170,160,150,225,95,95,97,85,88,46,87,90,95,113,90,215,200,210,193,88,90,95,100,105,100,88,100,165,175,153,150,180,170,175,110,72,100,88,86,90,70,76,65,69,60,70,95,80,54,90,86,165,175,150,153,150,208,155,160,190,97,150,130,140,150,112,76,87,69,86,92,97,80,88,175,150,145,137,150,198,150,158,150,215,225,175,105,100,100,88,95,46,150,167,170,180,100,88,72,94,90,85,107,90,145,230,49,75,91,112,150,110,122,180,95,100,100,67,80,65,75,100,110,105,140,150,150,140,150,83,67,78,52,61,75,75,75,97,93,67,95,105,72,72,170,145,150,148,110,105,110,95,110,110,129,75,83,100,78,96,71,97,97,70,90,95,88,98,115,53,86,81,92,79,83,140,150,120,152,100,105,81,90,52,60,70,53,100,78,110,95,71,70,75,72,102,150,88,108,120,180,145,130,150,68,80,58,96,70,145,110,145,130,110,105,100,98,180,170,190,149,78,88,75,89,63,83,67,78,97,110,110,48,66,52,70,60,110,140,139,105,95,85,88,100,90,105,85,110,120,145,165,139,140,68,95,97,75,95,105,85,97,103,125,115,133,71,68,115,85,88,90,110,130,129,138,135,155,142,125,150,71,65,80,80,77,125,71,90,70,70,65,69,90,115,115,90,76,60,70,65,90,88,90,90,78,90,75,92,75,65,105,65,48,48,67,67,67,67,62,132,100,88,72,84,84,92,110,84,58,64,60,67,65,62,68,63,65,65,74,75,75,100,74,80,76,116,120,110,105,88,85,88,88,88,85,84,90,92,74,68,68,63,70,88,75,70,67,67,67,110,85,92,112,96,84,90,86,52,84,79,82],\"mpg\":{\"__ndarray__\":\"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\",\"dtype\":\"float64\",\"order\":\"little\",\"shape\":[392]}},\"selected\":{\"id\":\"2640\"},\"selection_policy\":{\"id\":\"2662\"}},\"id\":\"2639\",\"type\":\"ColumnDataSource\"},{\"attributes\":{},\"id\":\"2653\",\"type\":\"BasicTickFormatter\"},{\"attributes\":{\"axis\":{\"id\":\"2622\"},\"dimension\":1,\"grid_line_color\":null,\"ticker\":null},\"id\":\"2625\",\"type\":\"Grid\"},{\"attributes\":{},\"id\":\"2651\",\"type\":\"AllLabels\"},{\"attributes\":{\"axis_label\":\"hp\",\"formatter\":{\"id\":\"2653\"},\"major_label_policy\":{\"id\":\"2651\"},\"ticker\":{\"id\":\"2623\"}},\"id\":\"2622\",\"type\":\"LinearAxis\"},{\"attributes\":{},\"id\":\"2623\",\"type\":\"BasicTicker\"},{\"attributes\":{},\"id\":\"2628\",\"type\":\"WheelZoomTool\"},{\"attributes\":{},\"id\":\"2626\",\"type\":\"SaveTool\"},{\"attributes\":{\"overlay\":{\"id\":\"2631\"}},\"id\":\"2629\",\"type\":\"BoxZoomTool\"},{\"attributes\":{\"fill_alpha\":{\"value\":0.1},\"fill_color\":{\"value\":\"#30a2da\"},\"line_alpha\":{\"value\":0.1},\"line_color\":{\"value\":\"#30a2da\"},\"size\":{\"value\":5.477225575051661},\"x\":{\"field\":\"mpg\"},\"y\":{\"field\":\"hp\"}},\"id\":\"2643\",\"type\":\"Scatter\"},{\"attributes\":{},\"id\":\"2630\",\"type\":\"ResetTool\"},{\"attributes\":{\"active_multi\":null,\"tools\":[{\"id\":\"2608\"},{\"id\":\"2626\"},{\"id\":\"2627\"},{\"id\":\"2628\"},{\"id\":\"2629\"},{\"id\":\"2630\"}]},\"id\":\"2632\",\"type\":\"Toolbar\"},{\"attributes\":{\"fill_color\":{\"value\":\"#30a2da\"},\"line_color\":{\"value\":\"#30a2da\"},\"size\":{\"value\":5.477225575051661},\"x\":{\"field\":\"mpg\"},\"y\":{\"field\":\"hp\"}},\"id\":\"2642\",\"type\":\"Scatter\"},{\"attributes\":{},\"id\":\"2640\",\"type\":\"Selection\"},{\"attributes\":{\"callback\":null,\"renderers\":[{\"id\":\"2645\"}],\"tags\":[\"hv_created\"],\"tooltips\":[[\"mpg\",\"@{mpg}\"],[\"hp\",\"@{hp}\"]]},\"id\":\"2608\",\"type\":\"HoverTool\"},{\"attributes\":{\"end\":48.21142857142857,\"reset_end\":48.21142857142857,\"reset_start\":7.388571428571429,\"start\":7.388571428571429,\"tags\":[[[\"mpg\",\"mpg\",null]]]},\"id\":\"2606\",\"type\":\"Range1d\"},{\"attributes\":{\"source\":{\"id\":\"2639\"}},\"id\":\"2646\",\"type\":\"CDSView\"},{\"attributes\":{\"data_source\":{\"id\":\"2639\"},\"glyph\":{\"id\":\"2642\"},\"hover_glyph\":null,\"muted_glyph\":{\"id\":\"2644\"},\"nonselection_glyph\":{\"id\":\"2643\"},\"selection_glyph\":{\"id\":\"2647\"},\"view\":{\"id\":\"2646\"}},\"id\":\"2645\",\"type\":\"GlyphRenderer\"},{\"attributes\":{\"fill_alpha\":{\"value\":0.2},\"fill_color\":{\"value\":\"#30a2da\"},\"line_alpha\":{\"value\":0.2},\"line_color\":{\"value\":\"#30a2da\"},\"size\":{\"value\":5.477225575051661},\"x\":{\"field\":\"mpg\"},\"y\":{\"field\":\"hp\"}},\"id\":\"2644\",\"type\":\"Scatter\"},{\"attributes\":{},\"id\":\"2619\",\"type\":\"BasicTicker\"},{\"attributes\":{\"angle\":{\"value\":0.0},\"fill_alpha\":{\"value\":1.0},\"fill_color\":{\"value\":\"#30a2da\"},\"hatch_alpha\":{\"value\":1.0},\"hatch_color\":{\"value\":\"black\"},\"hatch_scale\":{\"value\":12.0},\"hatch_weight\":{\"value\":1.0},\"line_alpha\":{\"value\":1.0},\"line_cap\":{\"value\":\"butt\"},\"line_color\":{\"value\":\"#30a2da\"},\"line_dash\":{\"value\":[]},\"line_dash_offset\":{\"value\":0},\"line_join\":{\"value\":\"bevel\"},\"line_width\":{\"value\":1},\"marker\":{\"value\":\"circle\"},\"size\":{\"value\":5.477225575051661},\"x\":{\"field\":\"mpg\"},\"y\":{\"field\":\"hp\"}},\"id\":\"2647\",\"type\":\"Scatter\"},{\"attributes\":{\"margin\":[5,5,5,5],\"name\":\"HSpacer04787\",\"sizing_mode\":\"stretch_width\"},\"id\":\"2605\",\"type\":\"Spacer\"},{\"attributes\":{\"margin\":[5,5,5,5],\"name\":\"HSpacer04788\",\"sizing_mode\":\"stretch_width\"},\"id\":\"2674\",\"type\":\"Spacer\"},{\"attributes\":{\"children\":[{\"id\":\"2605\"},{\"id\":\"2609\"},{\"id\":\"2674\"}],\"margin\":[0,0,0,0],\"name\":\"Row04783\",\"tags\":[\"embedded\"]},\"id\":\"2604\",\"type\":\"Row\"},{\"attributes\":{\"text_color\":\"black\",\"text_font_size\":\"12pt\"},\"id\":\"2610\",\"type\":\"Title\"},{\"attributes\":{\"bottom_units\":\"screen\",\"fill_alpha\":0.5,\"fill_color\":\"lightgrey\",\"left_units\":\"screen\",\"level\":\"overlay\",\"line_alpha\":1.0,\"line_color\":\"black\",\"line_dash\":[4,4],\"line_width\":2,\"right_units\":\"screen\",\"syncable\":false,\"top_units\":\"screen\"},\"id\":\"2631\",\"type\":\"BoxAnnotation\"},{\"attributes\":{\"end\":248.4,\"reset_end\":248.4,\"reset_start\":27.599999999999998,\"start\":27.599999999999998,\"tags\":[[[\"hp\",\"hp\",null]]]},\"id\":\"2607\",\"type\":\"Range1d\"},{\"attributes\":{},\"id\":\"2648\",\"type\":\"AllLabels\"},{\"attributes\":{\"below\":[{\"id\":\"2618\"}],\"center\":[{\"id\":\"2621\"},{\"id\":\"2625\"}],\"height\":300,\"left\":[{\"id\":\"2622\"}],\"margin\":[5,5,5,5],\"min_border_bottom\":10,\"min_border_left\":10,\"min_border_right\":10,\"min_border_top\":10,\"renderers\":[{\"id\":\"2645\"}],\"sizing_mode\":\"fixed\",\"title\":{\"id\":\"2610\"},\"toolbar\":{\"id\":\"2632\"},\"width\":700,\"x_range\":{\"id\":\"2606\"},\"x_scale\":{\"id\":\"2614\"},\"y_range\":{\"id\":\"2607\"},\"y_scale\":{\"id\":\"2616\"}},\"id\":\"2609\",\"subtype\":\"Figure\",\"type\":\"Plot\"},{\"attributes\":{},\"id\":\"2662\",\"type\":\"UnionRenderers\"},{\"attributes\":{},\"id\":\"2627\",\"type\":\"PanTool\"},{\"attributes\":{},\"id\":\"2616\",\"type\":\"LinearScale\"}],\"root_ids\":[\"2604\"]},\"title\":\"Bokeh Application\",\"version\":\"2.3.3\"}};\n",
       "    var render_items = [{\"docid\":\"60d7b682-c8a4-4a52-adcf-c530c32ec634\",\"root_ids\":[\"2604\"],\"roots\":{\"2604\":\"b6b3ce84-d8dd-475f-ad94-6b6d62ad25aa\"}}];\n",
       "    root.Bokeh.embed.embed_items_notebook(docs_json, render_items);\n",
       "  }\n",
       "  if (root.Bokeh !== undefined && root.Bokeh.Panel !== undefined) {\n",
       "    embed_document(root);\n",
       "  } else {\n",
       "    var attempts = 0;\n",
       "    var timer = setInterval(function(root) {\n",
       "      if (root.Bokeh !== undefined && root.Bokeh.Panel !== undefined) {\n",
       "        clearInterval(timer);\n",
       "        embed_document(root);\n",
       "      } else if (document.readyState == \"complete\") {\n",
       "        attempts++;\n",
       "        if (attempts > 200) {\n",
       "          clearInterval(timer);\n",
       "          console.log(\"Bokeh: ERROR: Unable to run BokehJS code because BokehJS library is missing\");\n",
       "        }\n",
       "      }\n",
       "    }, 25, root)\n",
       "  }\n",
       "})(window);</script>"
      ],
      "text/plain": [
       ":Scatter   [mpg]   (hp)"
      ]
     },
     "execution_count": 48,
     "metadata": {
      "application/vnd.holoviews_exec.v0+json": {
       "id": "2604"
      }
     },
     "output_type": "execute_result"
    }
   ],
   "source": [
    "df.hvplot.scatter(x='mpg', y='hp')"
   ]
  },
  {
   "cell_type": "markdown",
   "id": "abf561bd",
   "metadata": {},
   "source": [
    "Here unlike in the Pandas .plot() there is a default hover action on the datapoints to show the values, and you can always pan and zoom to focus on any particular region of the data of interest.\n",
    "\n"
   ]
  },
  {
   "cell_type": "markdown",
   "id": "eb8bf22c",
   "metadata": {},
   "source": [
    "#### Exercise\n",
    "\n",
    "Try changing the x axis on the plot above to see the relationship between weight and hp. \n",
    "<details><summary><i><u>(Solution)</u><i></summary><br>\n",
    "    \n",
    "```python\n",
    "df.hvplot.scatter(x='weight', y='hp')\n",
    "```\n",
    "\n",
    "</details>"
   ]
  },
  {
   "cell_type": "markdown",
   "id": "a765b3ee",
   "metadata": {},
   "source": [
    "### Getting help with hvplot options\n",
    "\n",
    "You may be wondering how you can learn about all the options that are available with `hvplot`. For this purpose, you can use tab-completion in the Jupyter notebook or the `hvplot.help` function which are documented in the [user guide](https://hvplot.holoviz.org/user_guide/Customization.html).\n",
    "\n",
    "For tab completion, you can press tab after the opening parenthesis in a `obj.hvplot.<kind>(` call. For instance, you can try pressing tab after the partial expression `df.hvplot.scatter(<TAB>`.\n",
    "\n",
    "Alternatively, you can call `hvplot.help(<kind>)` to see a documentation pane pop up in the notebook. Try uncommenting the following line and executing it:"
   ]
  },
  {
   "cell_type": "code",
   "execution_count": 59,
   "id": "cb7af666",
   "metadata": {},
   "outputs": [
    {
     "name": "stdout",
     "output_type": "stream",
     "text": [
      "\n",
      "Scatter plot\n",
      "\n",
      "Parameters\n",
      "----------\n",
      "x, y : string, optional\n",
      "    Field name to draw x- and y-positions from\n",
      "c: string, optional\n",
      "    Name of the field to color points by\n",
      "s: string, optional\n",
      "    Name of the field to scale point size by\n",
      "scale: number, optional\n",
      "    Scaling factor to apply to point scaling\n",
      "**kwds : optional\n",
      "    Keyword arguments to pass on to\n",
      "    :py:meth:`hvplot.converter.HoloViewsConverter`.\n",
      "Returns\n",
      "-------\n",
      "obj : HoloViews object\n",
      "    The HoloViews representation of the plot.\n",
      "\n",
      "\n",
      "Generic options\n",
      "---------------\n",
      "clim: tuple\n",
      "    Lower and upper bound of the color scale\n",
      "cnorm (default='linear'): str\n",
      "    Color scaling which must be one of 'linear', 'log' or 'eq_hist'\n",
      "colorbar (default=False): boolean\n",
      "    Enables a colorbar\n",
      "fontscale: number\n",
      "    Scales the size of all fonts by the same amount, e.g. fontscale=1.5\n",
      "    enlarges all fonts (title, xticks, labels etc.) by 50%\n",
      "fontsize: number or dict\n",
      "    Set title, label and legend text to the same fontsize. Finer control\n",
      "    by using a dict: {'title': '15pt', 'ylabel': '5px', 'ticks': 20}\n",
      "flip_xaxis/flip_yaxis: boolean\n",
      "    Whether to flip the axis left to right or up and down respectively\n",
      "grid (default=False): boolean\n",
      "    Whether to show a grid\n",
      "hover : boolean\n",
      "    Whether to show hover tooltips, default is True unless datashade is\n",
      "    True in which case hover is False by default\n",
      "hover_cols (default=[]): list or str\n",
      "    Additional columns to add to the hover tool or 'all' which will\n",
      "    includes all columns (including indexes if use_index is True).\n",
      "invert (default=False): boolean\n",
      "    Swaps x- and y-axis\n",
      "frame_width/frame_height: int\n",
      "    The width and height of the data area of the plot\n",
      "legend (default=True): boolean or str\n",
      "    Whether to show a legend, or a legend position\n",
      "    ('top', 'bottom', 'left', 'right')\n",
      "logx/logy (default=False): boolean\n",
      "    Enables logarithmic x- and y-axis respectively\n",
      "logz (default=False): boolean\n",
      "    Enables logarithmic colormapping\n",
      "loglog (default=False): boolean\n",
      "    Enables logarithmic x- and y-axis\n",
      "max_width/max_height: int\n",
      "    The maximum width and height of the plot for responsive modes\n",
      "min_width/min_height: int\n",
      "    The minimum width and height of the plot for responsive modes\n",
      "padding: number or tuple\n",
      "    Fraction by which to increase auto-ranged extents to make\n",
      "    datapoints more visible around borders. Supports tuples to\n",
      "    specify different amount of padding for x- and y-axis and\n",
      "    tuples of tuples to specify different amounts of padding for\n",
      "    upper and lower bounds.\n",
      "responsive: boolean\n",
      "    Whether the plot should responsively resize depending on the\n",
      "    size of the browser. Responsive mode will only work if at\n",
      "    least one dimension of the plot is left undefined, e.g. when\n",
      "    width and height or width and aspect are set the plot is set\n",
      "    to a fixed size, ignoring any responsive option.\n",
      "rot: number\n",
      "    Rotates the axis ticks along the x-axis by the specified\n",
      "    number of degrees.\n",
      "shared_axes (default=True): boolean\n",
      "    Whether to link axes between plots\n",
      "transforms (default={}): dict\n",
      "    A dictionary of HoloViews dim transforms to apply before plotting\n",
      "title (default=''): str\n",
      "    Title for the plot\n",
      "tools (default=[]): list\n",
      "    List of tool instances or strings (e.g. ['tap', box_select'])\n",
      "xaxis/yaxis: str or None\n",
      "    Whether to show the x/y-axis and whether to place it at the\n",
      "    'top'/'bottom' and 'left'/'right' respectively.\n",
      "xformatter/yformatter (default=None): str or TickFormatter\n",
      "    Formatter for the x-axis and y-axis (accepts printf formatter,\n",
      "    e.g. '%.3f', and bokeh TickFormatter)\n",
      "xlabel/ylabel/clabel (default=None): str\n",
      "    Axis labels for the x-axis, y-axis, and colorbar\n",
      "xlim/ylim (default=None): tuple or list\n",
      "    Plot limits of the x- and y-axis\n",
      "xticks/yticks (default=None): int or list\n",
      "    Ticks along x- and y-axis specified as an integer, list of\n",
      "    ticks positions, or list of tuples of the tick positions and labels\n",
      "width (default=700)/height (default=300): int\n",
      "    The width and height of the plot in pixels\n",
      "attr_labels (default=None): bool\n",
      "    Whether to use an xarray object's attributes as labels, defaults to\n",
      "    None to allow best effort without throwing a warning. Set to True\n",
      "    to see warning if the attrs can't be found, set to False to disable\n",
      "    the behavior.\n",
      "sort_date (default=True): bool\n",
      "    Whether to sort the x-axis by date before plotting\n",
      "symmetric (default=None): bool\n",
      "    Whether the data are symmetric around zero. If left unset, the data\n",
      "    will be checked for symmetry as long as the size is less than\n",
      "    ``check_symmetric_max``.\n",
      "check_symmetric_max (default=1000000):\n",
      "    Size above which to stop checking for symmetry by default on the data.\n",
      "\n",
      "Datashader options\n",
      "------------------\n",
      "aggregator (default=None):\n",
      "    Aggregator to use when applying rasterize or datashade operation\n",
      "    (valid options include 'mean', 'count', 'min', 'max' and more, and\n",
      "    datashader reduction objects)\n",
      "dynamic (default=True):\n",
      "    Whether to return a dynamic plot which sends updates on widget and\n",
      "    zoom/pan events or whether all the data should be embedded\n",
      "    (warning: for large groupby operations embedded data can become\n",
      "    very large if dynamic=False)\n",
      "datashade (default=False):\n",
      "    Whether to apply rasterization and shading using datashader\n",
      "    library returning an RGB object\n",
      "dynspread (default=False):\n",
      "    Allows plots generated with datashade=True or rasterize=True \n",
      "    to increase the point size to make sparse regions more visible\n",
      "rasterize (default=False):\n",
      "    Whether to apply rasterization using the datashader library\n",
      "    returning an aggregated Image\n",
      "x_sampling/y_sampling (default=None):\n",
      "    Specifies the smallest allowed sampling interval along the x/y axis.\n",
      "\n",
      "Geographic options\n",
      "------------------\n",
      "coastline (default=False):\n",
      "    Whether to display a coastline on top of the plot, setting\n",
      "    coastline='10m'/'50m'/'110m' specifies a specific scale.\n",
      "crs (default=None):\n",
      "    Coordinate reference system of the data specified as Cartopy\n",
      "    CRS object, proj.4 string or EPSG code.\n",
      "features (default=None): dict or list\n",
      "    A list of features or a dictionary of features and the scale\n",
      "    at which to render it. Available features include 'borders',\n",
      "    'coastline', 'lakes', 'land', 'ocean', 'rivers' and 'states'.\n",
      "    Available scales include '10m'/'50m'/'110m'.\n",
      "geo (default=False):\n",
      "    Whether the plot should be treated as geographic (and assume\n",
      "    PlateCarree, i.e. lat/lon coordinates).\n",
      "global_extent (default=False):\n",
      "    Whether to expand the plot extent to span the whole globe.\n",
      "project (default=False):\n",
      "    Whether to project the data before plotting (adds initial\n",
      "    overhead but avoids projecting data when plot is dynamically\n",
      "    updated).\n",
      "tiles (default=False):\n",
      "    Whether to overlay the plot on a tile source. Tiles sources\n",
      "    can be selected by name or a tiles object or class can be passed,\n",
      "    the default is 'Wikipedia'.\n",
      "\n",
      "Style options\n",
      "-------------\n",
      "\n",
      "alpha\n",
      "angle\n",
      "cmap\n",
      "color\n",
      "fill_alpha\n",
      "fill_color\n",
      "hover_alpha\n",
      "hover_color\n",
      "hover_fill_alpha\n",
      "hover_fill_color\n",
      "hover_line_alpha\n",
      "hover_line_color\n",
      "line_alpha\n",
      "line_cap\n",
      "line_color\n",
      "line_dash\n",
      "line_join\n",
      "line_width\n",
      "marker\n",
      "muted_alpha\n",
      "muted_color\n",
      "muted_fill_alpha\n",
      "muted_fill_color\n",
      "muted_line_alpha\n",
      "muted_line_color\n",
      "nonselection_alpha\n",
      "nonselection_color\n",
      "nonselection_fill_alpha\n",
      "nonselection_fill_color\n",
      "nonselection_line_alpha\n",
      "nonselection_line_color\n",
      "palette\n",
      "selection_alpha\n",
      "selection_color\n",
      "selection_fill_alpha\n",
      "selection_fill_color\n",
      "selection_line_alpha\n",
      "selection_line_color\n",
      "size\n",
      "visible\n"
     ]
    }
   ],
   "source": [
    "hvplot.help('scatter')"
   ]
  },
  {
   "cell_type": "markdown",
   "id": "87964a45",
   "metadata": {},
   "source": [
    "You will see there are a lot of options!  You can control which section of the documentation you view with the `generic`, `docstring` and `style` boolean switches also documented in the  [user guide](https://hvplot.holoviz.org/user_guide/Customization.html). If you run the following cell, you will see that `alpha` is listed in the 'Style options'."
   ]
  },
  {
   "cell_type": "code",
   "execution_count": 60,
   "id": "68d4939e",
   "metadata": {
    "scrolled": true
   },
   "outputs": [
    {
     "name": "stdout",
     "output_type": "stream",
     "text": [
      "\n",
      "Scatter plot\n",
      "\n",
      "Parameters\n",
      "----------\n",
      "x, y : string, optional\n",
      "    Field name to draw x- and y-positions from\n",
      "c: string, optional\n",
      "    Name of the field to color points by\n",
      "s: string, optional\n",
      "    Name of the field to scale point size by\n",
      "scale: number, optional\n",
      "    Scaling factor to apply to point scaling\n",
      "**kwds : optional\n",
      "    Keyword arguments to pass on to\n",
      "    :py:meth:`hvplot.converter.HoloViewsConverter`.\n",
      "Returns\n",
      "-------\n",
      "obj : HoloViews object\n",
      "    The HoloViews representation of the plot.\n",
      "\n",
      "Style options\n",
      "-------------\n",
      "\n",
      "alpha\n",
      "angle\n",
      "cmap\n",
      "color\n",
      "fill_alpha\n",
      "fill_color\n",
      "hover_alpha\n",
      "hover_color\n",
      "hover_fill_alpha\n",
      "hover_fill_color\n",
      "hover_line_alpha\n",
      "hover_line_color\n",
      "line_alpha\n",
      "line_cap\n",
      "line_color\n",
      "line_dash\n",
      "line_join\n",
      "line_width\n",
      "marker\n",
      "muted_alpha\n",
      "muted_color\n",
      "muted_fill_alpha\n",
      "muted_fill_color\n",
      "muted_line_alpha\n",
      "muted_line_color\n",
      "nonselection_alpha\n",
      "nonselection_color\n",
      "nonselection_fill_alpha\n",
      "nonselection_fill_color\n",
      "nonselection_line_alpha\n",
      "nonselection_line_color\n",
      "palette\n",
      "selection_alpha\n",
      "selection_color\n",
      "selection_fill_alpha\n",
      "selection_fill_color\n",
      "selection_line_alpha\n",
      "selection_line_color\n",
      "size\n",
      "visible\n"
     ]
    }
   ],
   "source": [
    "hvplot.help('scatter', style=True, generic=False)"
   ]
  },
  {
   "cell_type": "code",
   "execution_count": 65,
   "id": "da613944",
   "metadata": {},
   "outputs": [
    {
     "data": {},
     "metadata": {},
     "output_type": "display_data"
    },
    {
     "data": {
      "application/vnd.holoviews_exec.v0+json": "",
      "text/html": [
       "<div id='4098'>\n",
       "\n",
       "\n",
       "\n",
       "\n",
       "\n",
       "  <div class=\"bk-root\" id=\"d7718703-a8fb-45ff-8445-8940c3cb5ac1\" data-root-id=\"4098\"></div>\n",
       "</div>\n",
       "<script type=\"application/javascript\">(function(root) {\n",
       "  function embed_document(root) {\n",
       "    var docs_json = {\"da54fb18-ada6-4856-846c-15d71088517f\":{\"defs\":[{\"extends\":null,\"module\":null,\"name\":\"ReactiveHTML1\",\"overrides\":[],\"properties\":[]},{\"extends\":null,\"module\":null,\"name\":\"FlexBox1\",\"overrides\":[],\"properties\":[{\"default\":\"flex-start\",\"kind\":null,\"name\":\"align_content\"},{\"default\":\"flex-start\",\"kind\":null,\"name\":\"align_items\"},{\"default\":\"row\",\"kind\":null,\"name\":\"flex_direction\"},{\"default\":\"wrap\",\"kind\":null,\"name\":\"flex_wrap\"},{\"default\":\"flex-start\",\"kind\":null,\"name\":\"justify_content\"}]},{\"extends\":null,\"module\":null,\"name\":\"TemplateActions1\",\"overrides\":[],\"properties\":[{\"default\":0,\"kind\":null,\"name\":\"open_modal\"},{\"default\":0,\"kind\":null,\"name\":\"close_modal\"}]},{\"extends\":null,\"module\":null,\"name\":\"MaterialTemplateActions1\",\"overrides\":[],\"properties\":[{\"default\":0,\"kind\":null,\"name\":\"open_modal\"},{\"default\":0,\"kind\":null,\"name\":\"close_modal\"}]}],\"roots\":{\"references\":[{\"attributes\":{\"background\":\"#88d8b0\",\"height\":50,\"margin\":[5,5,5,5],\"name\":\"HSpacer07030\",\"sizing_mode\":\"stretch_width\"},\"id\":\"4101\",\"type\":\"Spacer\"},{\"attributes\":{\"client_comm_id\":\"e973a691641540a6ac0345934d5fabc2\",\"comm_id\":\"fc7fb9fc492249a6880c6b9b45281ea3\",\"plot_id\":\"4098\"},\"id\":\"4102\",\"type\":\"panel.models.comm_manager.CommManager\"},{\"attributes\":{\"background\":\"#ff6f69\",\"height\":50,\"margin\":[5,5,5,5],\"name\":\"HSpacer07028\",\"sizing_mode\":\"stretch_width\"},\"id\":\"4099\",\"type\":\"Spacer\"},{\"attributes\":{\"children\":[{\"id\":\"4099\"},{\"id\":\"4100\"},{\"id\":\"4101\"}],\"margin\":[0,0,0,0],\"name\":\"Row07031\"},\"id\":\"4098\",\"type\":\"Row\"},{\"attributes\":{\"background\":\"#ffcc5c\",\"height\":50,\"margin\":[5,5,5,5],\"name\":\"HSpacer07029\",\"sizing_mode\":\"stretch_width\"},\"id\":\"4100\",\"type\":\"Spacer\"}],\"root_ids\":[\"4098\",\"4102\"]},\"title\":\"Bokeh Application\",\"version\":\"2.3.3\"}};\n",
       "    var render_items = [{\"docid\":\"da54fb18-ada6-4856-846c-15d71088517f\",\"root_ids\":[\"4098\"],\"roots\":{\"4098\":\"d7718703-a8fb-45ff-8445-8940c3cb5ac1\"}}];\n",
       "    root.Bokeh.embed.embed_items_notebook(docs_json, render_items);\n",
       "  }\n",
       "  if (root.Bokeh !== undefined && root.Bokeh.Panel !== undefined) {\n",
       "    embed_document(root);\n",
       "  } else {\n",
       "    var attempts = 0;\n",
       "    var timer = setInterval(function(root) {\n",
       "      if (root.Bokeh !== undefined && root.Bokeh.Panel !== undefined) {\n",
       "        clearInterval(timer);\n",
       "        embed_document(root);\n",
       "      } else if (document.readyState == \"complete\") {\n",
       "        attempts++;\n",
       "        if (attempts > 200) {\n",
       "          clearInterval(timer);\n",
       "          console.log(\"Bokeh: ERROR: Unable to run BokehJS code because BokehJS library is missing\");\n",
       "        }\n",
       "      }\n",
       "    }, 25, root)\n",
       "  }\n",
       "})(window);</script>"
      ],
      "text/plain": [
       "Row\n",
       "    [0] HSpacer(background='#ff6f69', height=50)\n",
       "    [1] HSpacer(background='#ffcc5c', height=50)\n",
       "    [2] HSpacer(background='#88d8b0', height=50)"
      ]
     },
     "execution_count": 65,
     "metadata": {
      "application/vnd.holoviews_exec.v0+json": {
       "id": "4098"
      }
     },
     "output_type": "execute_result"
    }
   ],
   "source": [
    "PALETTE = [\"#ff6f69\", \"#ffcc5c\", \"#88d8b0\", ]\n",
    "pn.Row(\n",
    "    pn.layout.HSpacer(height=50, background=PALETTE[0]),\n",
    "    pn.layout.HSpacer(height=50, background=PALETTE[1]),\n",
    "    pn.layout.HSpacer(height=50, background=PALETTE[2]),\n",
    ")"
   ]
  },
  {
   "cell_type": "markdown",
   "id": "5f7af8ea",
   "metadata": {},
   "source": [
    "#### Exercise\n",
    "\n",
    "Try changing color, width, height, and alpha value of the plot. \n",
    "<details><summary><i><u>(Solution)</u><i></summary><br>\n",
    "    \n",
    "```python\n",
    "df.hvplot.scatter(\n",
    "    x='mpg', \n",
    "    y='hp',\n",
    "    color=PALETTE,\n",
    "    width=600,\n",
    "    height=300,\n",
    "    alpha=0.5\n",
    ")\n",
    "```\n",
    "\n",
    "</details>"
   ]
  },
  {
   "cell_type": "code",
   "execution_count": 83,
   "id": "1b5095b9",
   "metadata": {},
   "outputs": [
    {
     "data": {},
     "metadata": {},
     "output_type": "display_data"
    },
    {
     "data": {
      "application/vnd.holoviews_exec.v0+json": "",
      "text/html": [
       "<div id='5811'>\n",
       "\n",
       "\n",
       "\n",
       "\n",
       "\n",
       "  <div class=\"bk-root\" id=\"c420b8b4-1bb8-45c5-b625-a309870e7ff9\" data-root-id=\"5811\"></div>\n",
       "</div>\n",
       "<script type=\"application/javascript\">(function(root) {\n",
       "  function embed_document(root) {\n",
       "    var docs_json = {\"8d67c034-f39a-4329-b319-a7d378a6acba\":{\"defs\":[{\"extends\":null,\"module\":null,\"name\":\"ReactiveHTML1\",\"overrides\":[],\"properties\":[]},{\"extends\":null,\"module\":null,\"name\":\"FlexBox1\",\"overrides\":[],\"properties\":[{\"default\":\"flex-start\",\"kind\":null,\"name\":\"align_content\"},{\"default\":\"flex-start\",\"kind\":null,\"name\":\"align_items\"},{\"default\":\"row\",\"kind\":null,\"name\":\"flex_direction\"},{\"default\":\"wrap\",\"kind\":null,\"name\":\"flex_wrap\"},{\"default\":\"flex-start\",\"kind\":null,\"name\":\"justify_content\"}]},{\"extends\":null,\"module\":null,\"name\":\"TemplateActions1\",\"overrides\":[],\"properties\":[{\"default\":0,\"kind\":null,\"name\":\"open_modal\"},{\"default\":0,\"kind\":null,\"name\":\"close_modal\"}]},{\"extends\":null,\"module\":null,\"name\":\"MaterialTemplateActions1\",\"overrides\":[],\"properties\":[{\"default\":0,\"kind\":null,\"name\":\"open_modal\"},{\"default\":0,\"kind\":null,\"name\":\"close_modal\"}]}],\"roots\":{\"references\":[{\"attributes\":{\"margin\":[5,5,5,5],\"name\":\"HSpacer09907\",\"sizing_mode\":\"stretch_width\"},\"id\":\"5881\",\"type\":\"Spacer\"},{\"attributes\":{},\"id\":\"5834\",\"type\":\"PanTool\"},{\"attributes\":{\"bottom\":{\"value\":0},\"fill_alpha\":{\"value\":0.2},\"fill_color\":{\"value\":\"#30a2da\"},\"left\":{\"field\":\"left\"},\"line_alpha\":{\"value\":0.2},\"right\":{\"field\":\"right\"},\"top\":{\"field\":\"top\"}},\"id\":\"5851\",\"type\":\"Quad\"},{\"attributes\":{\"data_source\":{\"id\":\"5846\"},\"glyph\":{\"id\":\"5849\"},\"hover_glyph\":null,\"muted_glyph\":{\"id\":\"5851\"},\"nonselection_glyph\":{\"id\":\"5850\"},\"selection_glyph\":{\"id\":\"5854\"},\"view\":{\"id\":\"5853\"}},\"id\":\"5852\",\"type\":\"GlyphRenderer\"},{\"attributes\":{\"children\":[{\"id\":\"5812\"},{\"id\":\"5816\"},{\"id\":\"5881\"}],\"margin\":[0,0,0,0],\"name\":\"Row09902\",\"tags\":[\"embedded\"]},\"id\":\"5811\",\"type\":\"Row\"},{\"attributes\":{\"text_color\":\"black\",\"text_font_size\":\"12pt\"},\"id\":\"5817\",\"type\":\"Title\"},{\"attributes\":{\"data\":{\"left\":{\"__ndarray__\":\"AAAAAAAAIkCF61G4HoUpQIXrUbgehTBASOF6FK5HNEAK16NwPQo4QM3MzMzMzDtAkML1KFyPP0ApXI/C9ahBQArXo3A9ikNA7FG4HoVrRUA=\",\"dtype\":\"float64\",\"order\":\"little\",\"shape\":[10]},\"mpg\":{\"__ndarray__\":\"wvUoXI/CJUBI4XoUrkctQGZmZmZmZjJAKVyPwvUoNkDsUbgehes5QK5H4XoUrj1AuB6F61G4QECamZmZmZlCQHsUrkfhekRAXI/C9ShcRkA=\",\"dtype\":\"float64\",\"order\":\"little\",\"shape\":[10]},\"mpg_count\":[13,78,73,58,53,48,37,22,4,6],\"right\":{\"__ndarray__\":\"hetRuB6FKUCF61G4HoUwQEjhehSuRzRACtejcD0KOEDNzMzMzMw7QJDC9Shcjz9AKVyPwvWoQUAK16NwPYpDQOxRuB6Fa0VAzczMzMxMR0A=\",\"dtype\":\"float64\",\"order\":\"little\",\"shape\":[10]},\"top\":[13,78,73,58,53,48,37,22,4,6]},\"selected\":{\"id\":\"5847\"},\"selection_policy\":{\"id\":\"5869\"}},\"id\":\"5846\",\"type\":\"ColumnDataSource\"},{\"attributes\":{\"margin\":[5,5,5,5],\"name\":\"HSpacer09906\",\"sizing_mode\":\"stretch_width\"},\"id\":\"5812\",\"type\":\"Spacer\"},{\"attributes\":{\"source\":{\"id\":\"5846\"}},\"id\":\"5853\",\"type\":\"CDSView\"},{\"attributes\":{\"callback\":null,\"renderers\":[{\"id\":\"5852\"}],\"tags\":[\"hv_created\"],\"tooltips\":[[\"mpg\",\"@{mpg}\"],[\"Count\",\"@{mpg_count}\"]]},\"id\":\"5815\",\"type\":\"HoverTool\"},{\"attributes\":{\"bottom_units\":\"screen\",\"fill_alpha\":0.5,\"fill_color\":\"lightgrey\",\"left_units\":\"screen\",\"level\":\"overlay\",\"line_alpha\":1.0,\"line_color\":\"black\",\"line_dash\":[4,4],\"line_width\":2,\"right_units\":\"screen\",\"syncable\":false,\"top_units\":\"screen\"},\"id\":\"5838\",\"type\":\"BoxAnnotation\"},{\"attributes\":{\"below\":[{\"id\":\"5825\"}],\"center\":[{\"id\":\"5828\"},{\"id\":\"5832\"}],\"height\":300,\"left\":[{\"id\":\"5829\"}],\"margin\":[5,5,5,5],\"min_border_bottom\":10,\"min_border_left\":10,\"min_border_right\":10,\"min_border_top\":10,\"renderers\":[{\"id\":\"5852\"}],\"sizing_mode\":\"fixed\",\"title\":{\"id\":\"5817\"},\"toolbar\":{\"id\":\"5839\"},\"width\":700,\"x_range\":{\"id\":\"5813\"},\"x_scale\":{\"id\":\"5821\"},\"y_range\":{\"id\":\"5814\"},\"y_scale\":{\"id\":\"5823\"}},\"id\":\"5816\",\"subtype\":\"Figure\",\"type\":\"Plot\"},{\"attributes\":{},\"id\":\"5821\",\"type\":\"LinearScale\"},{\"attributes\":{\"bottom\":{\"value\":0},\"fill_alpha\":{\"value\":1.0},\"fill_color\":{\"value\":\"#30a2da\"},\"hatch_alpha\":{\"value\":1.0},\"hatch_color\":{\"value\":\"black\"},\"hatch_scale\":{\"value\":12.0},\"hatch_weight\":{\"value\":1.0},\"left\":{\"field\":\"left\"},\"line_alpha\":{\"value\":1.0},\"line_cap\":{\"value\":\"butt\"},\"line_color\":{\"value\":\"black\"},\"line_dash\":{\"value\":[]},\"line_dash_offset\":{\"value\":0},\"line_join\":{\"value\":\"bevel\"},\"line_width\":{\"value\":1},\"right\":{\"field\":\"right\"},\"top\":{\"field\":\"top\"}},\"id\":\"5854\",\"type\":\"Quad\"},{\"attributes\":{\"active_multi\":null,\"tools\":[{\"id\":\"5815\"},{\"id\":\"5833\"},{\"id\":\"5834\"},{\"id\":\"5835\"},{\"id\":\"5836\"},{\"id\":\"5837\"}]},\"id\":\"5839\",\"type\":\"Toolbar\"},{\"attributes\":{},\"id\":\"5826\",\"type\":\"BasicTicker\"},{\"attributes\":{\"axis_label\":\"mpg\",\"formatter\":{\"id\":\"5857\"},\"major_label_policy\":{\"id\":\"5855\"},\"ticker\":{\"id\":\"5826\"}},\"id\":\"5825\",\"type\":\"LinearAxis\"},{\"attributes\":{},\"id\":\"5823\",\"type\":\"LinearScale\"},{\"attributes\":{\"axis\":{\"id\":\"5829\"},\"dimension\":1,\"grid_line_color\":null,\"ticker\":null},\"id\":\"5832\",\"type\":\"Grid\"},{\"attributes\":{\"axis\":{\"id\":\"5825\"},\"grid_line_color\":null,\"ticker\":null},\"id\":\"5828\",\"type\":\"Grid\"},{\"attributes\":{},\"id\":\"5869\",\"type\":\"UnionRenderers\"},{\"attributes\":{\"axis_label\":\"\",\"formatter\":{\"id\":\"5860\"},\"major_label_policy\":{\"id\":\"5858\"},\"ticker\":{\"id\":\"5830\"}},\"id\":\"5829\",\"type\":\"LinearAxis\"},{\"attributes\":{},\"id\":\"5857\",\"type\":\"BasicTickFormatter\"},{\"attributes\":{},\"id\":\"5830\",\"type\":\"BasicTicker\"},{\"attributes\":{},\"id\":\"5858\",\"type\":\"AllLabels\"},{\"attributes\":{},\"id\":\"5835\",\"type\":\"WheelZoomTool\"},{\"attributes\":{},\"id\":\"5833\",\"type\":\"SaveTool\"},{\"attributes\":{\"end\":85.4,\"reset_end\":85.4,\"reset_start\":0.0,\"tags\":[[[\"mpg_count\",\"Count\",null]]]},\"id\":\"5814\",\"type\":\"Range1d\"},{\"attributes\":{\"overlay\":{\"id\":\"5838\"}},\"id\":\"5836\",\"type\":\"BoxZoomTool\"},{\"attributes\":{},\"id\":\"5860\",\"type\":\"BasicTickFormatter\"},{\"attributes\":{},\"id\":\"5837\",\"type\":\"ResetTool\"},{\"attributes\":{},\"id\":\"5855\",\"type\":\"AllLabels\"},{\"attributes\":{\"bottom\":{\"value\":0},\"fill_color\":{\"value\":\"#30a2da\"},\"left\":{\"field\":\"left\"},\"right\":{\"field\":\"right\"},\"top\":{\"field\":\"top\"}},\"id\":\"5849\",\"type\":\"Quad\"},{\"attributes\":{\"end\":48.21142857142857,\"reset_end\":48.21142857142857,\"reset_start\":7.388571428571429,\"start\":7.388571428571429,\"tags\":[[[\"mpg\",\"mpg\",null]]]},\"id\":\"5813\",\"type\":\"Range1d\"},{\"attributes\":{\"bottom\":{\"value\":0},\"fill_alpha\":{\"value\":0.1},\"fill_color\":{\"value\":\"#30a2da\"},\"left\":{\"field\":\"left\"},\"line_alpha\":{\"value\":0.1},\"right\":{\"field\":\"right\"},\"top\":{\"field\":\"top\"}},\"id\":\"5850\",\"type\":\"Quad\"},{\"attributes\":{},\"id\":\"5847\",\"type\":\"Selection\"}],\"root_ids\":[\"5811\"]},\"title\":\"Bokeh Application\",\"version\":\"2.3.3\"}};\n",
       "    var render_items = [{\"docid\":\"8d67c034-f39a-4329-b319-a7d378a6acba\",\"root_ids\":[\"5811\"],\"roots\":{\"5811\":\"c420b8b4-1bb8-45c5-b625-a309870e7ff9\"}}];\n",
       "    root.Bokeh.embed.embed_items_notebook(docs_json, render_items);\n",
       "  }\n",
       "  if (root.Bokeh !== undefined && root.Bokeh.Panel !== undefined) {\n",
       "    embed_document(root);\n",
       "  } else {\n",
       "    var attempts = 0;\n",
       "    var timer = setInterval(function(root) {\n",
       "      if (root.Bokeh !== undefined && root.Bokeh.Panel !== undefined) {\n",
       "        clearInterval(timer);\n",
       "        embed_document(root);\n",
       "      } else if (document.readyState == \"complete\") {\n",
       "        attempts++;\n",
       "        if (attempts > 200) {\n",
       "          clearInterval(timer);\n",
       "          console.log(\"Bokeh: ERROR: Unable to run BokehJS code because BokehJS library is missing\");\n",
       "        }\n",
       "      }\n",
       "    }, 25, root)\n",
       "  }\n",
       "})(window);</script>"
      ],
      "text/plain": [
       ":Histogram   [mpg]   (mpg_count)"
      ]
     },
     "execution_count": 83,
     "metadata": {
      "application/vnd.holoviews_exec.v0+json": {
       "id": "5811"
      }
     },
     "output_type": "execute_result"
    }
   ],
   "source": [
    "df.hvplot.hist('mpg', bins=10)"
   ]
  },
  {
   "cell_type": "markdown",
   "id": "50a9dfa5",
   "metadata": {},
   "source": [
    "#### Exercise\n",
    "\n",
    "Create a kernel density estimate (kde) plot of mpg for `df`:\n",
    "<details><summary><i><u>(Solution)</u><i></summary><br>\n",
    "\n",
    "```python\n",
    "df.hvplot.kde('mpg')\n",
    "```\n",
    "\n",
    "</details>"
   ]
  },
  {
   "cell_type": "code",
   "execution_count": 82,
   "id": "e2c082a3",
   "metadata": {},
   "outputs": [
    {
     "data": {},
     "metadata": {},
     "output_type": "display_data"
    },
    {
     "data": {
      "application/vnd.holoviews_exec.v0+json": "",
      "text/html": [
       "<div id='5689'>\n",
       "\n",
       "\n",
       "\n",
       "\n",
       "\n",
       "  <div class=\"bk-root\" id=\"4c803d32-5e7a-49c5-ab0d-bbd6c4680a2e\" data-root-id=\"5689\"></div>\n",
       "</div>\n",
       "<script type=\"application/javascript\">(function(root) {\n",
       "  function embed_document(root) {\n",
       "    var docs_json = {\"c53cadba-49f0-4757-99c4-3b02974fb8b9\":{\"defs\":[{\"extends\":null,\"module\":null,\"name\":\"ReactiveHTML1\",\"overrides\":[],\"properties\":[]},{\"extends\":null,\"module\":null,\"name\":\"FlexBox1\",\"overrides\":[],\"properties\":[{\"default\":\"flex-start\",\"kind\":null,\"name\":\"align_content\"},{\"default\":\"flex-start\",\"kind\":null,\"name\":\"align_items\"},{\"default\":\"row\",\"kind\":null,\"name\":\"flex_direction\"},{\"default\":\"wrap\",\"kind\":null,\"name\":\"flex_wrap\"},{\"default\":\"flex-start\",\"kind\":null,\"name\":\"justify_content\"}]},{\"extends\":null,\"module\":null,\"name\":\"TemplateActions1\",\"overrides\":[],\"properties\":[{\"default\":0,\"kind\":null,\"name\":\"open_modal\"},{\"default\":0,\"kind\":null,\"name\":\"close_modal\"}]},{\"extends\":null,\"module\":null,\"name\":\"MaterialTemplateActions1\",\"overrides\":[],\"properties\":[{\"default\":0,\"kind\":null,\"name\":\"open_modal\"},{\"default\":0,\"kind\":null,\"name\":\"close_modal\"}]}],\"roots\":{\"references\":[{\"attributes\":{},\"id\":\"5701\",\"type\":\"LinearScale\"},{\"attributes\":{},\"id\":\"5735\",\"type\":\"BasicTickFormatter\"},{\"attributes\":{},\"id\":\"5711\",\"type\":\"SaveTool\"},{\"attributes\":{\"source\":{\"id\":\"5724\"}},\"id\":\"5731\",\"type\":\"CDSView\"},{\"attributes\":{\"fill_alpha\":0.5,\"fill_color\":\"#30a2da\",\"x\":{\"field\":\"x\"},\"y\":{\"field\":\"y\"}},\"id\":\"5732\",\"type\":\"Patch\"},{\"attributes\":{},\"id\":\"5736\",\"type\":\"AllLabels\"},{\"attributes\":{\"axis_label\":\"mpg\",\"formatter\":{\"id\":\"5735\"},\"major_label_policy\":{\"id\":\"5733\"},\"ticker\":{\"id\":\"5704\"}},\"id\":\"5703\",\"type\":\"LinearAxis\"},{\"attributes\":{\"fill_alpha\":0.2,\"fill_color\":\"#30a2da\",\"line_alpha\":0.2,\"x\":{\"field\":\"x\"},\"y\":{\"field\":\"y\"}},\"id\":\"5729\",\"type\":\"Patch\"},{\"attributes\":{\"fill_alpha\":0.5,\"fill_color\":\"#30a2da\",\"line_alpha\":1,\"x\":{\"field\":\"x\"},\"y\":{\"field\":\"y\"}},\"id\":\"5728\",\"type\":\"Patch\"},{\"attributes\":{},\"id\":\"5725\",\"type\":\"Selection\"},{\"attributes\":{\"end\":0.05167958714118593,\"reset_end\":0.05167958714118593,\"reset_start\":0.0,\"tags\":[[[\"mpg_density\",\"Density\",null]]]},\"id\":\"5692\",\"type\":\"Range1d\"},{\"attributes\":{},\"id\":\"5733\",\"type\":\"AllLabels\"},{\"attributes\":{\"text_color\":\"black\",\"text_font_size\":\"12pt\"},\"id\":\"5695\",\"type\":\"Title\"},{\"attributes\":{\"fill_alpha\":0.5,\"fill_color\":\"#30a2da\",\"x\":{\"field\":\"x\"},\"y\":{\"field\":\"y\"}},\"id\":\"5727\",\"type\":\"Patch\"},{\"attributes\":{\"active_multi\":null,\"tools\":[{\"id\":\"5693\"},{\"id\":\"5711\"},{\"id\":\"5712\"},{\"id\":\"5713\"},{\"id\":\"5714\"},{\"id\":\"5715\"}]},\"id\":\"5717\",\"type\":\"Toolbar\"},{\"attributes\":{\"margin\":[5,5,5,5],\"name\":\"HSpacer09606\",\"sizing_mode\":\"stretch_width\"},\"id\":\"5759\",\"type\":\"Spacer\"},{\"attributes\":{\"bottom_units\":\"screen\",\"fill_alpha\":0.5,\"fill_color\":\"lightgrey\",\"left_units\":\"screen\",\"level\":\"overlay\",\"line_alpha\":1.0,\"line_color\":\"black\",\"line_dash\":[4,4],\"line_width\":2,\"right_units\":\"screen\",\"syncable\":false,\"top_units\":\"screen\"},\"id\":\"5716\",\"type\":\"BoxAnnotation\"},{\"attributes\":{},\"id\":\"5715\",\"type\":\"ResetTool\"},{\"attributes\":{\"data_source\":{\"id\":\"5724\"},\"glyph\":{\"id\":\"5727\"},\"hover_glyph\":null,\"muted_glyph\":{\"id\":\"5729\"},\"nonselection_glyph\":{\"id\":\"5728\"},\"selection_glyph\":{\"id\":\"5732\"},\"view\":{\"id\":\"5731\"}},\"id\":\"5730\",\"type\":\"GlyphRenderer\"},{\"attributes\":{\"end\":53.693120948448666,\"reset_end\":53.693120948448666,\"reset_start\":1.9068790515513392,\"start\":1.9068790515513392,\"tags\":[[[\"mpg\",\"mpg\",null]]]},\"id\":\"5691\",\"type\":\"Range1d\"},{\"attributes\":{},\"id\":\"5738\",\"type\":\"BasicTickFormatter\"},{\"attributes\":{\"overlay\":{\"id\":\"5716\"}},\"id\":\"5714\",\"type\":\"BoxZoomTool\"},{\"attributes\":{\"callback\":null,\"renderers\":[{\"id\":\"5730\"}],\"tags\":[\"hv_created\"],\"tooltips\":[[\"mpg\",\"@{mpg}\"],[\"Density\",\"@{mpg_density}\"]]},\"id\":\"5693\",\"type\":\"HoverTool\"},{\"attributes\":{\"margin\":[5,5,5,5],\"name\":\"HSpacer09605\",\"sizing_mode\":\"stretch_width\"},\"id\":\"5690\",\"type\":\"Spacer\"},{\"attributes\":{\"children\":[{\"id\":\"5690\"},{\"id\":\"5694\"},{\"id\":\"5759\"}],\"margin\":[0,0,0,0],\"name\":\"Row09601\",\"tags\":[\"embedded\"]},\"id\":\"5689\",\"type\":\"Row\"},{\"attributes\":{},\"id\":\"5712\",\"type\":\"PanTool\"},{\"attributes\":{},\"id\":\"5747\",\"type\":\"UnionRenderers\"},{\"attributes\":{\"axis_label\":\"Density\",\"formatter\":{\"id\":\"5738\"},\"major_label_policy\":{\"id\":\"5736\"},\"ticker\":{\"id\":\"5708\"}},\"id\":\"5707\",\"type\":\"LinearAxis\"},{\"attributes\":{},\"id\":\"5713\",\"type\":\"WheelZoomTool\"},{\"attributes\":{},\"id\":\"5704\",\"type\":\"BasicTicker\"},{\"attributes\":{\"data\":{\"x\":{\"__ndarray__\":\"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\",\"dtype\":\"float64\",\"order\":\"little\",\"shape\":[200]},\"y\":{\"__ndarray__\":\"AAAAAAAAAAAAAAAAAAAAAAAAAAAAAAAAAAAAAAAAAAAAAAAAAAAAAAAAAAAAAAAAAAAAAAAAAAAAAAAAAAAAAAAAAAAAAAAAAAAAAAAAAAAAAAAAAAAAAAAAAAAAAAAAAAAAAAAAAAAAAAAAAAAAAAAAAAAAAAAAAAAAAAAAAAAAAAAAAAAAAAAAAAAAAAAAAAAAAAAAAAAAAAAAAAAAAAAAAAAAAAAAAAAAAAAAAAAAAAAAAAAAAAAAAAAAAAAAAAAAAAAAAAAAAAAAAAAAAAAAAAAAAAAAAAAAAAAAAAAAAAAAAAAAAAAAAAAAAAAAAAAAAAAAAAAAAAAAAAAAAAAAAAAAAAAAAAAAAAAAAAAAAAAAAAAAAAAAAAAAAAAAAAAAAAAAAAAAAAAAAAAAAAAAAAAAAAAAAAAAAAAAAAAAAAAAAAAAAAAAAAAAAAAAAAAAAAAAAAAAAAAAAAAAAAAAAAAAAAAAAAAAAAAAAAAAAAAAAAAAAAAAAAAAAAAAAAAAAAAAAAAAAAAAAAAAAAAAAAAAAAAAAAAAAAAAAAAAAAAAAAAAAAAAAAAAAAAAAAAAAAAAAAAAAAAAAAAAAAAAAAAAAAAAAAAAAAAAAAAAAAAAAAAAAAAAAAAAAAAAAAAAAAAAAAAAAAAAAAAAAAAAAAAAAAAAAAAAAAAAAAAAAAAAAAAAAAAAAAAAAAAAAAAAAAAAAAAAAAAAAAAAAAAAAAAAAAAAAAAAAAAAAAAAAAAAAAAAAAAAAAAAAAAAAAAAAAAAAAAAAAAAAAAAAAAAAAAAAAAAAAAAAAAAAAAAAAAAAAAAAAAAAAAAAAAAAAAAAAAAAAAAAAAAAAAAAAAAAAAAAAAAAAAAAAAAAAAAAAAAAAAAAAAAAAAAAAAAAAAAAAAAAAAAAAAAAAAAAAAAAAAAAAAAAAAAAAAAAAAAAAAAAAAAAAAAAAAAAAAAAAAAAAAAAAAAAAAAAAAAAAAAAAAAAAAAAAAAAAAAAAAAAAAAAAAAAAAAAAAAAAAAAAAAAAAAAAAAAAAAAAAAAAAAAAAAAAAAAAAAAAAAAAAniGxUGHfWPp8x7Le21uU+B6gF3wJU9D7T1BTIPSMCP8PcuVaqDw8/xejizYmOGT9JqGJiszskP6nFCBp43i4/1ztZKEi4Nj+a9oDZeidAP9YqgopnN0Y/KYxEWpOTTT9lRxC9oRJTP6mTwJkN2Vc/zUHT/HruXD9UsQXE7wthP7HT/wfui2M/t0NEtLLeZT/Z2YFjO/pnP2uh6Uhm6mk/4yCGog7Vaz9IupPmFPltP/me5V3OU3A/lU6fziIccj+G3dP3RH10Pz0IOxKtk3c/LeShoxprez9kICWYL/x/P3j2TTrhloI/19lXSNlshT894PbOE2qIPz+66Uy9eYs/9ZYdmmSLjj/zzg+pYcqQP9MbMoDNSJI/VzBZ1ejAkz+qGHjQQzOVP5mgPc6cn5Y/spcKGgEEmD/eYRXG1lyZP6nAcTHWpZo/T3ZB257bmz9gyHw0UP2cPz1I229+DZ4/3SXECgcSnz8IDSjpUgmgP2Z0YLNNi6A/C00XVQkRoT8AorSwDJqhP9ojSA7xIqI/A99kitWloj/nCQBWlhujP0TVd7iAfaM/vrJVPhnHoz8bo/15g/ejP0M0NR0xEqQ/XFAPeqgepD8jZzkfZSekP6HIrJQFOKQ/3rluHB9bpD8uyDAGJpikPwZnHnna8aQ/Km/RMZRlpT9rRaNOnOulP5wtspCIeKY/4EzGF0v/pj/hEhY2dXOnPy/nfo0Vy6c/vOhniK7/pz/+O8j3Aw6oP89IUjLe9Kc/NXFETUCzpz+TII/FyUanP3cvKd32qqY/cKd0WanZpT92TNFa7MykP8mONF9tgaM/XmvE39j4oT/RhatQSDugP4FVX+lzrpw//qjoegfAmD9aXx6pVtaUP7a0czG2GpE/acDxCNxeiz8G2trKhFiFPzMaBu2cOoA/MdeOqdIPeD+uHmF802RxPzDnvEGdhGg/mwMDBPrWYD9Z+Ly5RoZWP7aZFiC4TU0/TGrXD3eDQj+2uBHSMa82PweCwmMx6Co/FgZ8r/TXHj9q97y2WQ4RP13HcaX5KwI/7U86hNOf8j7mzrqt11biPg==\",\"dtype\":\"float64\",\"order\":\"little\",\"shape\":[200]}},\"selected\":{\"id\":\"5725\"},\"selection_policy\":{\"id\":\"5747\"}},\"id\":\"5724\",\"type\":\"ColumnDataSource\"},{\"attributes\":{\"axis\":{\"id\":\"5707\"},\"dimension\":1,\"grid_line_color\":null,\"ticker\":null},\"id\":\"5710\",\"type\":\"Grid\"},{\"attributes\":{\"below\":[{\"id\":\"5703\"}],\"center\":[{\"id\":\"5706\"},{\"id\":\"5710\"}],\"height\":300,\"left\":[{\"id\":\"5707\"}],\"margin\":[5,5,5,5],\"min_border_bottom\":10,\"min_border_left\":10,\"min_border_right\":10,\"min_border_top\":10,\"renderers\":[{\"id\":\"5730\"}],\"sizing_mode\":\"fixed\",\"title\":{\"id\":\"5695\"},\"toolbar\":{\"id\":\"5717\"},\"width\":700,\"x_range\":{\"id\":\"5691\"},\"x_scale\":{\"id\":\"5699\"},\"y_range\":{\"id\":\"5692\"},\"y_scale\":{\"id\":\"5701\"}},\"id\":\"5694\",\"subtype\":\"Figure\",\"type\":\"Plot\"},{\"attributes\":{},\"id\":\"5708\",\"type\":\"BasicTicker\"},{\"attributes\":{},\"id\":\"5699\",\"type\":\"LinearScale\"},{\"attributes\":{\"axis\":{\"id\":\"5703\"},\"grid_line_color\":null,\"ticker\":null},\"id\":\"5706\",\"type\":\"Grid\"}],\"root_ids\":[\"5689\"]},\"title\":\"Bokeh Application\",\"version\":\"2.3.3\"}};\n",
       "    var render_items = [{\"docid\":\"c53cadba-49f0-4757-99c4-3b02974fb8b9\",\"root_ids\":[\"5689\"],\"roots\":{\"5689\":\"4c803d32-5e7a-49c5-ab0d-bbd6c4680a2e\"}}];\n",
       "    root.Bokeh.embed.embed_items_notebook(docs_json, render_items);\n",
       "  }\n",
       "  if (root.Bokeh !== undefined && root.Bokeh.Panel !== undefined) {\n",
       "    embed_document(root);\n",
       "  } else {\n",
       "    var attempts = 0;\n",
       "    var timer = setInterval(function(root) {\n",
       "      if (root.Bokeh !== undefined && root.Bokeh.Panel !== undefined) {\n",
       "        clearInterval(timer);\n",
       "        embed_document(root);\n",
       "      } else if (document.readyState == \"complete\") {\n",
       "        attempts++;\n",
       "        if (attempts > 200) {\n",
       "          clearInterval(timer);\n",
       "          console.log(\"Bokeh: ERROR: Unable to run BokehJS code because BokehJS library is missing\");\n",
       "        }\n",
       "      }\n",
       "    }, 25, root)\n",
       "  }\n",
       "})(window);</script>"
      ],
      "text/plain": [
       ":Distribution   [mpg]   (Density)"
      ]
     },
     "execution_count": 82,
     "metadata": {
      "application/vnd.holoviews_exec.v0+json": {
       "id": "5689"
      }
     },
     "output_type": "execute_result"
    }
   ],
   "source": [
    "df.hvplot.kde('mpg')"
   ]
  },
  {
   "cell_type": "code",
   "execution_count": 94,
   "id": "c9df0357",
   "metadata": {},
   "outputs": [
    {
     "data": {
      "text/plain": [
       "False    392\n",
       "Name: hp, dtype: int64"
      ]
     },
     "execution_count": 94,
     "metadata": {},
     "output_type": "execute_result"
    }
   ],
   "source": [
    "df.hp.isna().value_counts()"
   ]
  },
  {
   "cell_type": "code",
   "execution_count": 84,
   "id": "3a57f586",
   "metadata": {},
   "outputs": [
    {
     "data": {},
     "metadata": {},
     "output_type": "display_data"
    },
    {
     "data": {
      "application/vnd.holoviews_exec.v0+json": "",
      "text/html": [
       "<div id='5933'>\n",
       "\n",
       "\n",
       "\n",
       "\n",
       "\n",
       "  <div class=\"bk-root\" id=\"67506521-a6b9-4c2a-9d1e-51b790abe184\" data-root-id=\"5933\"></div>\n",
       "</div>\n",
       "<script type=\"application/javascript\">(function(root) {\n",
       "  function embed_document(root) {\n",
       "    var docs_json = {\"9716cb0d-b165-4193-8562-0cf0c34b1a88\":{\"defs\":[{\"extends\":null,\"module\":null,\"name\":\"ReactiveHTML1\",\"overrides\":[],\"properties\":[]},{\"extends\":null,\"module\":null,\"name\":\"FlexBox1\",\"overrides\":[],\"properties\":[{\"default\":\"flex-start\",\"kind\":null,\"name\":\"align_content\"},{\"default\":\"flex-start\",\"kind\":null,\"name\":\"align_items\"},{\"default\":\"row\",\"kind\":null,\"name\":\"flex_direction\"},{\"default\":\"wrap\",\"kind\":null,\"name\":\"flex_wrap\"},{\"default\":\"flex-start\",\"kind\":null,\"name\":\"justify_content\"}]},{\"extends\":null,\"module\":null,\"name\":\"TemplateActions1\",\"overrides\":[],\"properties\":[{\"default\":0,\"kind\":null,\"name\":\"open_modal\"},{\"default\":0,\"kind\":null,\"name\":\"close_modal\"}]},{\"extends\":null,\"module\":null,\"name\":\"MaterialTemplateActions1\",\"overrides\":[],\"properties\":[{\"default\":0,\"kind\":null,\"name\":\"open_modal\"},{\"default\":0,\"kind\":null,\"name\":\"close_modal\"}]}],\"roots\":{\"references\":[{\"attributes\":{\"active_multi\":null,\"tools\":[{\"id\":\"5937\"},{\"id\":\"5955\"},{\"id\":\"5956\"},{\"id\":\"5957\"},{\"id\":\"5958\"},{\"id\":\"5959\"}]},\"id\":\"5961\",\"type\":\"Toolbar\"},{\"attributes\":{\"margin\":[5,5,5,5],\"name\":\"HSpacer10074\",\"sizing_mode\":\"stretch_width\"},\"id\":\"6008\",\"type\":\"Spacer\"},{\"attributes\":{\"axis\":{\"id\":\"5951\"},\"dimension\":1,\"grid_line_color\":null,\"ticker\":null},\"id\":\"5954\",\"type\":\"Grid\"},{\"attributes\":{\"margin\":[5,5,5,5],\"name\":\"HSpacer10073\",\"sizing_mode\":\"stretch_width\"},\"id\":\"5934\",\"type\":\"Spacer\"},{\"attributes\":{},\"id\":\"5956\",\"type\":\"PanTool\"},{\"attributes\":{\"overlay\":{\"id\":\"5960\"}},\"id\":\"5958\",\"type\":\"BoxZoomTool\"},{\"attributes\":{\"aspect_scale\":4.8936170212765955,\"fill_alpha\":{\"value\":0.2},\"fill_color\":{\"field\":\"Count\",\"transform\":{\"id\":\"5968\"}},\"line_alpha\":{\"value\":0.2},\"line_color\":{\"field\":\"Count\",\"transform\":{\"id\":\"5968\"}},\"q\":{\"field\":\"q\"},\"r\":{\"field\":\"r\"},\"size\":2.453333333333333},\"id\":\"5974\",\"type\":\"HexTile\"},{\"attributes\":{},\"id\":\"5959\",\"type\":\"ResetTool\"},{\"attributes\":{\"callback\":null,\"renderers\":[{\"id\":\"5975\"}],\"tags\":[\"hv_created\"],\"tooltips\":[[\"Count\",\"@{Count}\"]]},\"id\":\"5937\",\"type\":\"HoverTool\"},{\"attributes\":{},\"id\":\"5977\",\"type\":\"BasicTicker\"},{\"attributes\":{\"data\":{\"Count\":[2,1,1,4,3,1,1,1,2,1,1,1,5,5,2,3,2,6,2,3,3,3,1,2,1,1,2,1,4,5,2,1,4,3,1,2,2,7,2,2,3,4,1,3,2,2,1,4,1,1,2,2,1,4,1,1,1,1,1,2,3,1,1,1,1,1,3,2,1,1,4,1,1,1,3,2,2,1,1,1,1,1,1,2,4,1,1,2,1,1,1,1,1,1,1,2,4,1,1,1,1,2,1,2,1,1,2,2,3,2,2,1,3,1,2,2,1,3,1,1,3,3,2,1,3,1,1,1,1,1,1,1,1,1,1,4,1,2,1,1,1,1,1,1,1,1,2,1,1,1,2,1,1,2,2,3,2,2,1,1,1,1,1,2,2,1,1,1,1,1,1,1,3,1,1,2,1,2,1,2,1,1,1,1,1,1,1,3,1,1,1,3,2,1,1,1,1,1,1,2,1,1,1,3,1,1,1,1,1,1,1,1,2,1,1,1,1,1,1,2,1,1,1,1,1,1,1,1,1,1,1,1,1,1,1,1,1,2,1,1,1,1,1,1,1,1],\"q\":[38,40,41,39,39,44,46,45,47,43,40,38,38,41,38,34,36,43,36,41,40,42,45,36,41,39,41,37,44,35,33,33,34,34,39,40,37,37,38,38,39,36,35,33,38,44,45,45,50,39,39,40,34,35,37,40,36,36,41,35,32,34,36,37,45,40,43,35,35,41,35,36,44,44,35,32,39,33,36,34,38,33,39,42,37,50,40,38,36,37,43,40,37,36,31,41,46,39,33,37,35,45,39,40,43,45,42,40,42,27,41,36,35,32,39,38,43,37,37,38,43,38,39,44,45,44,41,42,34,40,39,40,36,31,33,46,40,37,36,35,44,46,49,48,40,35,38,43,44,44,40,44,50,44,46,40,56,51,55,50,41,42,36,37,35,35,37,42,43,40,45,44,46,41,39,41,37,40,37,43,34,37,38,39,40,39,42,48,52,43,41,49,52,45,49,46,51,58,52,52,50,47,55,47,63,46,56,58,60,43,56,52,43,42,42,46,53,54,48,52,48,49,48,49,51,45,44,41,45,32,51,47,51,45,51,53,52,53,44,55,50,53,58,48,43,47],\"r\":[-35,-45,-41,-41,-38,-54,-60,-58,-61,-52,-46,-44,-41,-26,-26,-26,-23,-24,-12,-24,-25,-26,-31,-24,-59,-55,-57,-53,-24,-27,-29,-27,-24,-27,-45,-48,-42,-41,-49,-46,-48,-30,-20,-24,-23,-19,-21,-18,-19,-16,-19,-22,-15,-24,-45,-41,-42,-44,-52,-26,-35,-38,-21,-23,-25,-27,-22,-40,-37,-54,-41,-43,-58,-61,-29,-27,-26,-41,-45,-20,-25,-23,-29,-24,-39,-63,-13,-20,-25,-30,-30,-33,-49,-26,-27,-22,-18,-20,-30,-38,-38,-23,-18,-21,-14,-17,-20,-20,-25,-20,-46,-40,-30,-30,-30,-30,-20,-27,-21,-19,-19,-24,-27,-31,-14,-23,-25,-22,-33,-29,-22,-14,-16,-21,-26,-19,-19,-28,-29,-32,-49,-22,-16,-19,-39,-35,-29,-49,-52,-21,-24,-17,-23,-18,-21,-30,-13,-18,-19,-16,-38,-38,-28,-26,-23,-25,-33,-39,-45,-38,-26,-26,-20,-29,-23,-27,-34,-31,-36,-18,-23,-35,-38,-37,-42,-34,-41,-18,-22,-34,-19,-19,-19,-24,-31,-31,-25,-21,-16,-18,-21,-25,-25,-20,-18,-28,-18,-13,-18,-17,-36,-24,-23,-23,-30,-23,-16,-18,-16,-17,-17,-18,-20,-20,-27,-32,-33,-30,-29,-23,-24,-23,-20,-19,-19,-24,-21,-18,-30,-23,-26,-23,-14,-23,-21,-22]},\"selected\":{\"id\":\"5970\"},\"selection_policy\":{\"id\":\"5995\"}},\"id\":\"5969\",\"type\":\"ColumnDataSource\"},{\"attributes\":{\"aspect_scale\":4.8936170212765955,\"fill_alpha\":{\"value\":1.0},\"fill_color\":{\"field\":\"Count\",\"transform\":{\"id\":\"5968\"}},\"hatch_alpha\":{\"value\":1.0},\"hatch_color\":{\"value\":\"black\"},\"hatch_scale\":{\"value\":12.0},\"hatch_weight\":{\"value\":1.0},\"line_alpha\":{\"value\":1.0},\"line_cap\":{\"value\":\"butt\"},\"line_color\":{\"field\":\"Count\",\"transform\":{\"id\":\"5968\"}},\"line_dash\":{\"value\":[]},\"line_dash_offset\":{\"value\":0},\"line_join\":{\"value\":\"bevel\"},\"line_width\":{\"value\":1},\"q\":{\"field\":\"q\"},\"r\":{\"field\":\"r\"},\"scale\":{\"value\":1.0},\"size\":2.453333333333333},\"id\":\"5979\",\"type\":\"HexTile\"},{\"attributes\":{},\"id\":\"5995\",\"type\":\"UnionRenderers\"},{\"attributes\":{},\"id\":\"5980\",\"type\":\"AllLabels\"},{\"attributes\":{\"bar_line_color\":\"black\",\"color_mapper\":{\"id\":\"5968\"},\"label_standoff\":8,\"location\":[0,0],\"major_label_policy\":{\"id\":\"5987\"},\"major_tick_line_color\":\"black\",\"ticker\":{\"id\":\"5977\"}},\"id\":\"5978\",\"type\":\"ColorBar\"},{\"attributes\":{},\"id\":\"5987\",\"type\":\"NoOverlap\"},{\"attributes\":{\"below\":[{\"id\":\"5947\"}],\"center\":[{\"id\":\"5950\"},{\"id\":\"5954\"}],\"height\":300,\"left\":[{\"id\":\"5951\"}],\"margin\":[5,5,5,5],\"min_border_bottom\":10,\"min_border_left\":10,\"min_border_right\":10,\"min_border_top\":10,\"renderers\":[{\"id\":\"5975\"}],\"right\":[{\"id\":\"5978\"}],\"sizing_mode\":\"fixed\",\"title\":{\"id\":\"5939\"},\"toolbar\":{\"id\":\"5961\"},\"width\":700,\"x_range\":{\"id\":\"5935\"},\"x_scale\":{\"id\":\"5943\"},\"y_range\":{\"id\":\"5936\"},\"y_scale\":{\"id\":\"5945\"}},\"id\":\"5938\",\"subtype\":\"Figure\",\"type\":\"Plot\"},{\"attributes\":{\"data_source\":{\"id\":\"5969\"},\"glyph\":{\"id\":\"5972\"},\"hover_glyph\":null,\"muted_glyph\":{\"id\":\"5974\"},\"nonselection_glyph\":{\"id\":\"5973\"},\"selection_glyph\":{\"id\":\"5979\"},\"view\":{\"id\":\"5976\"}},\"id\":\"5975\",\"type\":\"GlyphRenderer\"},{\"attributes\":{\"axis_label\":\"mpg\",\"formatter\":{\"id\":\"5982\"},\"major_label_policy\":{\"id\":\"5980\"},\"ticker\":{\"id\":\"5948\"}},\"id\":\"5947\",\"type\":\"LinearAxis\"},{\"attributes\":{\"high\":7,\"low\":1,\"palette\":[\"#b3fef5\",\"#b0fef5\",\"#adfdf5\",\"#a9fcf5\",\"#a6fbf6\",\"#a3faf6\",\"#a0faf6\",\"#9df9f6\",\"#9af8f6\",\"#97f7f6\",\"#93f7f6\",\"#90f6f6\",\"#8df5f6\",\"#8af4f7\",\"#87f3f7\",\"#83f2f7\",\"#80f2f7\",\"#7df1f7\",\"#79f0f7\",\"#76eff7\",\"#73eef7\",\"#6fedf8\",\"#6cecf8\",\"#68ecf8\",\"#65ebf8\",\"#61eaf8\",\"#5ee9f8\",\"#5ae8f8\",\"#57e7f8\",\"#53e6f8\",\"#50e5f9\",\"#4ce4f9\",\"#49e3f9\",\"#45e2f9\",\"#42e1f9\",\"#3ee0f9\",\"#3bdff9\",\"#38def9\",\"#35ddf9\",\"#32dcf9\",\"#30dbfa\",\"#2ed9fa\",\"#2dd8fa\",\"#2cd7fa\",\"#2bd6fa\",\"#2bd5fa\",\"#2ad3fa\",\"#2ad2fa\",\"#29d1fa\",\"#29d0fb\",\"#29cffb\",\"#28cdfb\",\"#28ccfb\",\"#28cbfb\",\"#28cafb\",\"#28c8fb\",\"#28c7fb\",\"#29c6fb\",\"#29c5fb\",\"#29c4fb\",\"#29c2fb\",\"#2ac1fb\",\"#2ac0fb\",\"#2bbffb\",\"#2bbdfc\",\"#2cbcfc\",\"#2dbbfc\",\"#2db9fc\",\"#2eb8fc\",\"#2fb7fc\",\"#2fb6fc\",\"#30b4fc\",\"#31b3fc\",\"#32b2fc\",\"#32b0fc\",\"#33affc\",\"#33aefc\",\"#34adfc\",\"#34abfc\",\"#34aafc\",\"#35a9fc\",\"#35a8fc\",\"#35a6fc\",\"#35a5fc\",\"#35a4fc\",\"#35a3fc\",\"#35a1fc\",\"#35a0fc\",\"#359ffc\",\"#359dfc\",\"#359cfc\",\"#359bfc\",\"#349afd\",\"#3498fd\",\"#3497fd\",\"#3396fd\",\"#3395fd\",\"#3293fd\",\"#3292fd\",\"#3191fd\",\"#3090fd\",\"#308ffd\",\"#2f8dfd\",\"#2f8cfd\",\"#2e8bfd\",\"#2e8afd\",\"#2d88fd\",\"#2d87fd\",\"#2c86fd\",\"#2c84fd\",\"#2c83fd\",\"#2c82fd\",\"#2b81fd\",\"#2b7ffd\",\"#2b7efd\",\"#2b7dfd\",\"#2b7bfd\",\"#2b7afd\",\"#2b79fd\",\"#2b77fd\",\"#2b76fd\",\"#2b75fd\",\"#2b73fd\",\"#2c72fd\",\"#2c71fd\",\"#2c6ffd\",\"#2c6efd\",\"#2d6cfd\",\"#2d6bfd\",\"#2d6afc\",\"#2e68fc\",\"#2e67fc\",\"#2e65fc\",\"#2e64fc\",\"#2f62fc\",\"#2f61fc\",\"#2f5ffc\",\"#2f5efc\",\"#2f5dfc\",\"#2f5bfc\",\"#2f5afc\",\"#2f58fb\",\"#2f57fb\",\"#2f55fb\",\"#2f53fb\",\"#2f52fb\",\"#2f50fb\",\"#2f4ffb\",\"#2f4dfb\",\"#2e4cfb\",\"#2e4afb\",\"#2e48fb\",\"#2e47fa\",\"#2d45fa\",\"#2d43fa\",\"#2d42fa\",\"#2d40fa\",\"#2c3efa\",\"#2c3dfa\",\"#2b3bf9\",\"#2b39f9\",\"#2a37f9\",\"#2a36f8\",\"#2934f8\",\"#2832f7\",\"#2831f7\",\"#272ff6\",\"#262ef5\",\"#252cf5\",\"#252af4\",\"#2429f3\",\"#2327f2\",\"#2226f1\",\"#2124f0\",\"#2023ef\",\"#1f22ee\",\"#1e20ed\",\"#1d1feb\",\"#1c1eea\",\"#1b1ce9\",\"#1a1be7\",\"#181ae6\",\"#1719e5\",\"#1618e3\",\"#1417e1\",\"#1316e0\",\"#1215de\",\"#1014dc\",\"#0f13db\",\"#0e12d9\",\"#0d11d7\",\"#0c10d5\",\"#0b0fd3\",\"#0a0ed1\",\"#090dd0\",\"#080dce\",\"#080ccc\",\"#070bca\",\"#070ac8\",\"#0709c6\",\"#0708c4\",\"#0707c2\",\"#0707bf\",\"#0806bd\",\"#0806bb\",\"#0905b9\",\"#0904b7\",\"#0a04b5\",\"#0a04b2\",\"#0b03b0\",\"#0c03ae\",\"#0d02ab\",\"#0e02a9\",\"#0e02a7\",\"#0f02a4\",\"#0f01a2\",\"#1001a0\",\"#10019d\",\"#10019b\",\"#100199\",\"#100197\",\"#100194\",\"#0f0192\",\"#0f0190\",\"#0f018e\",\"#0e018b\",\"#0e0189\",\"#0d0187\",\"#0d0185\",\"#0c0183\",\"#0b0181\",\"#0b017e\",\"#0a017c\",\"#09017a\",\"#090178\",\"#080276\",\"#070274\",\"#060272\",\"#060270\",\"#05026e\",\"#04026c\",\"#030269\",\"#030267\",\"#020265\",\"#010263\",\"#010261\",\"#00025f\",\"#00025d\",\"#00025b\",\"#000259\",\"#000257\",\"#000255\",\"#000154\",\"#000152\",\"#000150\",\"#00004e\"]},\"id\":\"5968\",\"type\":\"LinearColorMapper\"},{\"attributes\":{\"children\":[{\"id\":\"5934\"},{\"id\":\"5938\"},{\"id\":\"6008\"}],\"margin\":[0,0,0,0],\"name\":\"Row10069\",\"tags\":[\"embedded\"]},\"id\":\"5933\",\"type\":\"Row\"},{\"attributes\":{},\"id\":\"5945\",\"type\":\"LinearScale\"},{\"attributes\":{\"end\":248.4,\"reset_end\":248.4,\"reset_start\":27.599999999999998,\"start\":27.599999999999998,\"tags\":[[[\"hp\",\"hp\",null]]]},\"id\":\"5936\",\"type\":\"Range1d\"},{\"attributes\":{\"bottom_units\":\"screen\",\"fill_alpha\":0.5,\"fill_color\":\"lightgrey\",\"left_units\":\"screen\",\"level\":\"overlay\",\"line_alpha\":1.0,\"line_color\":\"black\",\"line_dash\":[4,4],\"line_width\":2,\"right_units\":\"screen\",\"syncable\":false,\"top_units\":\"screen\"},\"id\":\"5960\",\"type\":\"BoxAnnotation\"},{\"attributes\":{},\"id\":\"5955\",\"type\":\"SaveTool\"},{\"attributes\":{\"aspect_scale\":4.8936170212765955,\"fill_alpha\":{\"value\":0.1},\"fill_color\":{\"field\":\"Count\",\"transform\":{\"id\":\"5968\"}},\"line_alpha\":{\"value\":0.1},\"line_color\":{\"field\":\"Count\",\"transform\":{\"id\":\"5968\"}},\"q\":{\"field\":\"q\"},\"r\":{\"field\":\"r\"},\"size\":2.453333333333333},\"id\":\"5973\",\"type\":\"HexTile\"},{\"attributes\":{},\"id\":\"5957\",\"type\":\"WheelZoomTool\"},{\"attributes\":{},\"id\":\"5970\",\"type\":\"Selection\"},{\"attributes\":{\"aspect_scale\":4.8936170212765955,\"fill_color\":{\"field\":\"Count\",\"transform\":{\"id\":\"5968\"}},\"line_color\":{\"field\":\"Count\",\"transform\":{\"id\":\"5968\"}},\"q\":{\"field\":\"q\"},\"r\":{\"field\":\"r\"},\"size\":2.453333333333333},\"id\":\"5972\",\"type\":\"HexTile\"},{\"attributes\":{},\"id\":\"5982\",\"type\":\"BasicTickFormatter\"},{\"attributes\":{},\"id\":\"5943\",\"type\":\"LinearScale\"},{\"attributes\":{\"end\":46.6,\"reset_end\":46.6,\"reset_start\":9.0,\"start\":9.0,\"tags\":[[[\"mpg\",\"mpg\",null]]]},\"id\":\"5935\",\"type\":\"Range1d\"},{\"attributes\":{\"source\":{\"id\":\"5969\"}},\"id\":\"5976\",\"type\":\"CDSView\"},{\"attributes\":{},\"id\":\"5985\",\"type\":\"BasicTickFormatter\"},{\"attributes\":{\"text_color\":\"black\",\"text_font_size\":\"12pt\"},\"id\":\"5939\",\"type\":\"Title\"},{\"attributes\":{},\"id\":\"5983\",\"type\":\"AllLabels\"},{\"attributes\":{},\"id\":\"5948\",\"type\":\"BasicTicker\"},{\"attributes\":{},\"id\":\"5952\",\"type\":\"BasicTicker\"},{\"attributes\":{\"axis\":{\"id\":\"5947\"},\"grid_line_color\":null,\"ticker\":null},\"id\":\"5950\",\"type\":\"Grid\"},{\"attributes\":{\"axis_label\":\"hp\",\"formatter\":{\"id\":\"5985\"},\"major_label_policy\":{\"id\":\"5983\"},\"ticker\":{\"id\":\"5952\"}},\"id\":\"5951\",\"type\":\"LinearAxis\"}],\"root_ids\":[\"5933\"]},\"title\":\"Bokeh Application\",\"version\":\"2.3.3\"}};\n",
       "    var render_items = [{\"docid\":\"9716cb0d-b165-4193-8562-0cf0c34b1a88\",\"root_ids\":[\"5933\"],\"roots\":{\"5933\":\"67506521-a6b9-4c2a-9d1e-51b790abe184\"}}];\n",
       "    root.Bokeh.embed.embed_items_notebook(docs_json, render_items);\n",
       "  }\n",
       "  if (root.Bokeh !== undefined && root.Bokeh.Panel !== undefined) {\n",
       "    embed_document(root);\n",
       "  } else {\n",
       "    var attempts = 0;\n",
       "    var timer = setInterval(function(root) {\n",
       "      if (root.Bokeh !== undefined && root.Bokeh.Panel !== undefined) {\n",
       "        clearInterval(timer);\n",
       "        embed_document(root);\n",
       "      } else if (document.readyState == \"complete\") {\n",
       "        attempts++;\n",
       "        if (attempts > 200) {\n",
       "          clearInterval(timer);\n",
       "          console.log(\"Bokeh: ERROR: Unable to run BokehJS code because BokehJS library is missing\");\n",
       "        }\n",
       "      }\n",
       "    }, 25, root)\n",
       "  }\n",
       "})(window);</script>"
      ],
      "text/plain": [
       ":HexTiles   [mpg,hp]"
      ]
     },
     "execution_count": 84,
     "metadata": {
      "application/vnd.holoviews_exec.v0+json": {
       "id": "5933"
      }
     },
     "output_type": "execute_result"
    }
   ],
   "source": [
    "df.hvplot.hexbin(x='mpg', y='hp')"
   ]
  },
  {
   "cell_type": "markdown",
   "id": "9a6984ee",
   "metadata": {},
   "source": [
    "#### Grouping\n",
    "\n",
    "We can overlay all our groups on the same plot using the `by` option:"
   ]
  },
  {
   "cell_type": "code",
   "execution_count": 87,
   "id": "01f39061",
   "metadata": {},
   "outputs": [
    {
     "data": {},
     "metadata": {},
     "output_type": "display_data"
    },
    {
     "data": {
      "application/vnd.holoviews_exec.v0+json": "",
      "text/html": [
       "<div id='6536'>\n",
       "\n",
       "\n",
       "\n",
       "\n",
       "\n",
       "  <div class=\"bk-root\" id=\"b42b53ce-bac4-4fe0-8101-2a05297d202c\" data-root-id=\"6536\"></div>\n",
       "</div>\n",
       "<script type=\"application/javascript\">(function(root) {\n",
       "  function embed_document(root) {\n",
       "    var docs_json = {\"e6776939-0c24-42ac-ac2c-68cee5704932\":{\"defs\":[{\"extends\":null,\"module\":null,\"name\":\"ReactiveHTML1\",\"overrides\":[],\"properties\":[]},{\"extends\":null,\"module\":null,\"name\":\"FlexBox1\",\"overrides\":[],\"properties\":[{\"default\":\"flex-start\",\"kind\":null,\"name\":\"align_content\"},{\"default\":\"flex-start\",\"kind\":null,\"name\":\"align_items\"},{\"default\":\"row\",\"kind\":null,\"name\":\"flex_direction\"},{\"default\":\"wrap\",\"kind\":null,\"name\":\"flex_wrap\"},{\"default\":\"flex-start\",\"kind\":null,\"name\":\"justify_content\"}]},{\"extends\":null,\"module\":null,\"name\":\"TemplateActions1\",\"overrides\":[],\"properties\":[{\"default\":0,\"kind\":null,\"name\":\"open_modal\"},{\"default\":0,\"kind\":null,\"name\":\"close_modal\"}]},{\"extends\":null,\"module\":null,\"name\":\"MaterialTemplateActions1\",\"overrides\":[],\"properties\":[{\"default\":0,\"kind\":null,\"name\":\"open_modal\"},{\"default\":0,\"kind\":null,\"name\":\"close_modal\"}]}],\"roots\":{\"references\":[{\"attributes\":{\"fill_alpha\":{\"value\":0.1},\"fill_color\":{\"value\":\"#fc4f30\"},\"line_alpha\":{\"value\":0.1},\"line_color\":{\"value\":\"#fc4f30\"},\"size\":{\"value\":5.477225575051661},\"x\":{\"field\":\"mpg\"},\"y\":{\"field\":\"hp\"}},\"id\":\"6604\",\"type\":\"Scatter\"},{\"attributes\":{\"fill_color\":{\"value\":\"#fc4f30\"},\"line_color\":{\"value\":\"#fc4f30\"},\"size\":{\"value\":5.477225575051661},\"x\":{\"field\":\"mpg\"},\"y\":{\"field\":\"hp\"}},\"id\":\"6603\",\"type\":\"Scatter\"},{\"attributes\":{\"click_policy\":\"mute\",\"items\":[{\"id\":\"6598\"},{\"id\":\"6620\"},{\"id\":\"6644\"}],\"location\":[0,0],\"title\":\"origin\"},\"id\":\"6597\",\"type\":\"Legend\"},{\"attributes\":{\"text_color\":\"black\",\"text_font_size\":\"12pt\"},\"id\":\"6544\",\"type\":\"Title\"},{\"attributes\":{},\"id\":\"6575\",\"type\":\"BasicTickFormatter\"},{\"attributes\":{\"source\":{\"id\":\"6600\"}},\"id\":\"6607\",\"type\":\"CDSView\"},{\"attributes\":{\"fill_alpha\":{\"value\":0.2},\"fill_color\":{\"value\":\"#30a2da\"},\"line_alpha\":{\"value\":0.2},\"line_color\":{\"value\":\"#30a2da\"},\"size\":{\"value\":5.477225575051661},\"x\":{\"field\":\"mpg\"},\"y\":{\"field\":\"hp\"}},\"id\":\"6584\",\"type\":\"Scatter\"},{\"attributes\":{\"end\":48.21142857142857,\"reset_end\":48.21142857142857,\"reset_start\":7.388571428571429,\"start\":7.388571428571429,\"tags\":[[[\"mpg\",\"mpg\",null]]]},\"id\":\"6538\",\"type\":\"Range1d\"},{\"attributes\":{\"data\":{\"hp\":[95,88,88,95,65,69,95,97,92,97,88,88,94,90,122,67,65,52,61,97,93,75,96,97,53,53,70,75,108,68,70,75,67,97,110,52,70,60,95,97,95,97,68,65,65,60,65,90,75,92,75,65,65,67,67,132,100,72,58,60,67,65,62,68,75,75,100,74,116,120,68,68,88,75,70,67,67,67,96],\"mpg\":{\"__ndarray__\":\"AAAAAAAAOEAAAAAAAAA7QAAAAAAAADtAAAAAAAAAOUAAAAAAAAA/QAAAAAAAgEFAAAAAAAAAOEAAAAAAAAAzQAAAAAAAADxAAAAAAAAAN0AAAAAAAAA7QAAAAAAAADRAAAAAAAAANkAAAAAAAAAyQAAAAAAAADRAAAAAAAAAP0AAAAAAAABAQAAAAAAAAD9AAAAAAAAAQEAAAAAAAAA4QAAAAAAAADpAAAAAAAAAPUAAAAAAAAA4QAAAAAAAADhAAAAAAACAQEAAAAAAAIBAQAAAAAAAAEBAAAAAAAAAPEAAAAAAAAAzQAAAAAAAgD9AAAAAAADAQEAAAAAAAAA6QAAAAAAAAD5AAAAAAAAANkAAAAAAAIA1QGZmZmZmZkBAMzMzMzOzQ0DNzMzMzAxCQAAAAAAAgDtAMzMzMzMzO0CamZmZmRk1QGZmZmZm5jdAAAAAAACAPUDNzMzMzAxBQM3MzMzMzD9AzczMzMwMQ0CamZmZmZlCQM3MzMzMzD1AzczMzMxMP0AAAAAAAIBCQJqZmZmZGUBAzczMzMxMR0BmZmZmZmZEQM3MzMzMTEZAZmZmZmbmQECamZmZmVlAQDMzMzMzszdAMzMzMzMzQEDNzMzMzIxDQM3MzMzMjEFAZmZmZmYmQEAAAAAAAIBCQJqZmZmZ2UJAzczMzMwMQUCamZmZmdlAQDMzMzMzM0BAMzMzMzNzQECamZmZmZk/QGZmZmZmZjlAMzMzMzMzOEAAAAAAAIBCQAAAAAAAAD9AAAAAAAAAQkAAAAAAAABCQAAAAAAAAEFAAAAAAAAAQ0AAAAAAAABAQAAAAAAAAENAAAAAAAAAQEA=\",\"dtype\":\"float64\",\"order\":\"little\",\"shape\":[79]},\"origin\":[\"Asia\",\"Asia\",\"Asia\",\"Asia\",\"Asia\",\"Asia\",\"Asia\",\"Asia\",\"Asia\",\"Asia\",\"Asia\",\"Asia\",\"Asia\",\"Asia\",\"Asia\",\"Asia\",\"Asia\",\"Asia\",\"Asia\",\"Asia\",\"Asia\",\"Asia\",\"Asia\",\"Asia\",\"Asia\",\"Asia\",\"Asia\",\"Asia\",\"Asia\",\"Asia\",\"Asia\",\"Asia\",\"Asia\",\"Asia\",\"Asia\",\"Asia\",\"Asia\",\"Asia\",\"Asia\",\"Asia\",\"Asia\",\"Asia\",\"Asia\",\"Asia\",\"Asia\",\"Asia\",\"Asia\",\"Asia\",\"Asia\",\"Asia\",\"Asia\",\"Asia\",\"Asia\",\"Asia\",\"Asia\",\"Asia\",\"Asia\",\"Asia\",\"Asia\",\"Asia\",\"Asia\",\"Asia\",\"Asia\",\"Asia\",\"Asia\",\"Asia\",\"Asia\",\"Asia\",\"Asia\",\"Asia\",\"Asia\",\"Asia\",\"Asia\",\"Asia\",\"Asia\",\"Asia\",\"Asia\",\"Asia\",\"Asia\"]},\"selected\":{\"id\":\"6580\"},\"selection_policy\":{\"id\":\"6595\"}},\"id\":\"6579\",\"type\":\"ColumnDataSource\"},{\"attributes\":{\"label\":{\"value\":\"Asia\"},\"renderers\":[{\"id\":\"6585\"}]},\"id\":\"6598\",\"type\":\"LegendItem\"},{\"attributes\":{\"label\":{\"value\":\"Europe\"},\"renderers\":[{\"id\":\"6606\"}]},\"id\":\"6620\",\"type\":\"LegendItem\"},{\"attributes\":{\"axis\":{\"id\":\"6552\"},\"grid_line_color\":null,\"ticker\":null},\"id\":\"6555\",\"type\":\"Grid\"},{\"attributes\":{},\"id\":\"6595\",\"type\":\"UnionRenderers\"},{\"attributes\":{\"data_source\":{\"id\":\"6622\"},\"glyph\":{\"id\":\"6625\"},\"hover_glyph\":null,\"muted_glyph\":{\"id\":\"6627\"},\"nonselection_glyph\":{\"id\":\"6626\"},\"selection_glyph\":{\"id\":\"6645\"},\"view\":{\"id\":\"6629\"}},\"id\":\"6628\",\"type\":\"GlyphRenderer\"},{\"attributes\":{},\"id\":\"6623\",\"type\":\"Selection\"},{\"attributes\":{\"end\":248.4,\"reset_end\":248.4,\"reset_start\":27.599999999999998,\"start\":27.599999999999998,\"tags\":[[[\"hp\",\"hp\",null]]]},\"id\":\"6539\",\"type\":\"Range1d\"},{\"attributes\":{\"fill_alpha\":{\"value\":0.2},\"fill_color\":{\"value\":\"#fc4f30\"},\"line_alpha\":{\"value\":0.2},\"line_color\":{\"value\":\"#fc4f30\"},\"size\":{\"value\":5.477225575051661},\"x\":{\"field\":\"mpg\"},\"y\":{\"field\":\"hp\"}},\"id\":\"6605\",\"type\":\"Scatter\"},{\"attributes\":{},\"id\":\"6578\",\"type\":\"BasicTickFormatter\"},{\"attributes\":{},\"id\":\"6642\",\"type\":\"UnionRenderers\"},{\"attributes\":{\"angle\":{\"value\":0.0},\"fill_alpha\":{\"value\":1.0},\"fill_color\":{\"value\":\"#fc4f30\"},\"hatch_alpha\":{\"value\":1.0},\"hatch_color\":{\"value\":\"black\"},\"hatch_scale\":{\"value\":12.0},\"hatch_weight\":{\"value\":1.0},\"line_alpha\":{\"value\":1.0},\"line_cap\":{\"value\":\"butt\"},\"line_color\":{\"value\":\"#fc4f30\"},\"line_dash\":{\"value\":[]},\"line_dash_offset\":{\"value\":0},\"line_join\":{\"value\":\"bevel\"},\"line_width\":{\"value\":1},\"marker\":{\"value\":\"circle\"},\"size\":{\"value\":5.477225575051661},\"x\":{\"field\":\"mpg\"},\"y\":{\"field\":\"hp\"}},\"id\":\"6621\",\"type\":\"Scatter\"},{\"attributes\":{\"margin\":[5,5,5,5],\"name\":\"HSpacer11237\",\"sizing_mode\":\"stretch_width\"},\"id\":\"6772\",\"type\":\"Spacer\"},{\"attributes\":{\"callback\":null,\"renderers\":[{\"id\":\"6585\"},{\"id\":\"6606\"},{\"id\":\"6628\"}],\"tags\":[\"hv_created\"],\"tooltips\":[[\"origin\",\"@{origin}\"],[\"mpg\",\"@{mpg}\"],[\"hp\",\"@{hp}\"]]},\"id\":\"6540\",\"type\":\"HoverTool\"},{\"attributes\":{\"data\":{\"hp\":[130,165,150,150,140,198,220,215,225,190,170,160,150,225,95,97,85,90,215,200,210,193,90,100,105,100,88,100,165,175,153,150,180,170,175,110,72,100,88,86,70,80,90,86,165,175,150,153,150,208,155,160,190,150,130,140,150,86,80,175,150,145,137,150,198,150,158,150,215,225,175,105,100,100,88,95,150,167,170,180,100,72,85,107,145,230,150,180,95,100,100,80,75,100,110,105,140,150,150,140,150,75,95,105,72,72,170,145,150,148,110,105,110,95,110,110,129,83,100,78,97,90,92,79,140,150,120,152,100,105,81,90,52,60,100,78,110,95,72,150,180,145,130,150,80,96,145,110,145,130,110,105,100,98,180,170,190,149,88,89,63,83,66,110,140,139,105,95,85,88,100,90,105,85,110,120,145,165,139,140,68,75,105,85,115,85,88,90,110,130,129,138,135,155,142,125,150,80,80,125,90,70,70,90,115,115,90,70,90,88,90,90,105,84,84,92,110,84,64,63,65,65,110,105,88,85,88,88,88,85,84,90,92,63,70,110,85,92,112,84,90,86,84,79,82],\"mpg\":{\"__ndarray__\":\"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\",\"dtype\":\"float64\",\"order\":\"little\",\"shape\":[245]},\"origin\":[\"North America\",\"North America\",\"North America\",\"North America\",\"North America\",\"North America\",\"North America\",\"North America\",\"North America\",\"North America\",\"North America\",\"North America\",\"North America\",\"North America\",\"North America\",\"North America\",\"North America\",\"North America\",\"North America\",\"North America\",\"North America\",\"North America\",\"North America\",\"North America\",\"North America\",\"North America\",\"North America\",\"North America\",\"North America\",\"North America\",\"North America\",\"North America\",\"North America\",\"North America\",\"North America\",\"North America\",\"North America\",\"North America\",\"North America\",\"North America\",\"North America\",\"North America\",\"North America\",\"North America\",\"North America\",\"North America\",\"North America\",\"North America\",\"North America\",\"North America\",\"North America\",\"North America\",\"North America\",\"North America\",\"North America\",\"North America\",\"North America\",\"North America\",\"North America\",\"North America\",\"North America\",\"North America\",\"North America\",\"North America\",\"North America\",\"North America\",\"North America\",\"North America\",\"North America\",\"North America\",\"North America\",\"North America\",\"North America\",\"North America\",\"North America\",\"North America\",\"North America\",\"North America\",\"North America\",\"North America\",\"North America\",\"North America\",\"North America\",\"North America\",\"North America\",\"North America\",\"North America\",\"North America\",\"North America\",\"North America\",\"North America\",\"North America\",\"North America\",\"North America\",\"North America\",\"North America\",\"North America\",\"North America\",\"North America\",\"North America\",\"North America\",\"North America\",\"North America\",\"North America\",\"North America\",\"North America\",\"North America\",\"North America\",\"North America\",\"North America\",\"North America\",\"North America\",\"North America\",\"North America\",\"North America\",\"North America\",\"North America\",\"North America\",\"North America\",\"North America\",\"North America\",\"North America\",\"North America\",\"North America\",\"North America\",\"North America\",\"North America\",\"North America\",\"North America\",\"North America\",\"North America\",\"North America\",\"North America\",\"North America\",\"North America\",\"North America\",\"North America\",\"North America\",\"North America\",\"North America\",\"North America\",\"North America\",\"North America\",\"North America\",\"North America\",\"North America\",\"North America\",\"North America\",\"North America\",\"North America\",\"North America\",\"North America\",\"North America\",\"North America\",\"North America\",\"North America\",\"North America\",\"North America\",\"North America\",\"North America\",\"North America\",\"North America\",\"North America\",\"North America\",\"North America\",\"North America\",\"North America\",\"North America\",\"North America\",\"North America\",\"North America\",\"North America\",\"North America\",\"North America\",\"North America\",\"North America\",\"North America\",\"North America\",\"North America\",\"North America\",\"North America\",\"North America\",\"North America\",\"North America\",\"North America\",\"North America\",\"North America\",\"North America\",\"North America\",\"North America\",\"North America\",\"North America\",\"North America\",\"North America\",\"North America\",\"North America\",\"North America\",\"North America\",\"North America\",\"North America\",\"North America\",\"North America\",\"North America\",\"North America\",\"North America\",\"North America\",\"North America\",\"North America\",\"North America\",\"North America\",\"North America\",\"North America\",\"North America\",\"North America\",\"North America\",\"North America\",\"North America\",\"North America\",\"North America\",\"North America\",\"North America\",\"North America\",\"North America\",\"North America\",\"North America\",\"North America\",\"North America\",\"North America\",\"North America\",\"North America\",\"North America\",\"North America\",\"North America\",\"North America\",\"North America\",\"North America\",\"North America\",\"North America\",\"North America\",\"North America\",\"North America\",\"North America\",\"North America\",\"North America\",\"North America\"]},\"selected\":{\"id\":\"6623\"},\"selection_policy\":{\"id\":\"6642\"}},\"id\":\"6622\",\"type\":\"ColumnDataSource\"},{\"attributes\":{},\"id\":\"6573\",\"type\":\"AllLabels\"},{\"attributes\":{\"data_source\":{\"id\":\"6600\"},\"glyph\":{\"id\":\"6603\"},\"hover_glyph\":null,\"muted_glyph\":{\"id\":\"6605\"},\"nonselection_glyph\":{\"id\":\"6604\"},\"selection_glyph\":{\"id\":\"6621\"},\"view\":{\"id\":\"6607\"}},\"id\":\"6606\",\"type\":\"GlyphRenderer\"},{\"attributes\":{},\"id\":\"6553\",\"type\":\"BasicTicker\"},{\"attributes\":{\"bottom_units\":\"screen\",\"fill_alpha\":0.5,\"fill_color\":\"lightgrey\",\"left_units\":\"screen\",\"level\":\"overlay\",\"line_alpha\":1.0,\"line_color\":\"black\",\"line_dash\":[4,4],\"line_width\":2,\"right_units\":\"screen\",\"syncable\":false,\"top_units\":\"screen\"},\"id\":\"6565\",\"type\":\"BoxAnnotation\"},{\"attributes\":{\"below\":[{\"id\":\"6552\"}],\"center\":[{\"id\":\"6555\"},{\"id\":\"6559\"}],\"height\":300,\"left\":[{\"id\":\"6556\"}],\"margin\":[5,5,5,5],\"min_border_bottom\":10,\"min_border_left\":10,\"min_border_right\":10,\"min_border_top\":10,\"renderers\":[{\"id\":\"6585\"},{\"id\":\"6606\"},{\"id\":\"6628\"}],\"right\":[{\"id\":\"6597\"}],\"sizing_mode\":\"fixed\",\"title\":{\"id\":\"6544\"},\"toolbar\":{\"id\":\"6566\"},\"width\":700,\"x_range\":{\"id\":\"6538\"},\"x_scale\":{\"id\":\"6548\"},\"y_range\":{\"id\":\"6539\"},\"y_scale\":{\"id\":\"6550\"}},\"id\":\"6543\",\"subtype\":\"Figure\",\"type\":\"Plot\"},{\"attributes\":{\"fill_alpha\":{\"value\":0.1},\"fill_color\":{\"value\":\"#e5ae38\"},\"line_alpha\":{\"value\":0.1},\"line_color\":{\"value\":\"#e5ae38\"},\"size\":{\"value\":5.477225575051661},\"x\":{\"field\":\"mpg\"},\"y\":{\"field\":\"hp\"}},\"id\":\"6626\",\"type\":\"Scatter\"},{\"attributes\":{\"data\":{\"hp\":[46,87,90,95,113,90,70,76,60,54,112,76,87,69,46,90,49,75,91,112,110,83,67,78,75,75,67,71,70,95,88,98,115,86,81,83,70,71,102,88,120,58,78,78,110,48,103,125,115,133,71,71,77,71,69,76,78,48,48,67,67,62,88,74,80,76,74,52],\"mpg\":{\"__ndarray__\":\"AAAAAAAAOkAAAAAAAAA5QAAAAAAAADhAAAAAAAAAOUAAAAAAAAA6QAAAAAAAADxAAAAAAAAAPkAAAAAAAAA+QAAAAAAAADtAAAAAAAAAN0AAAAAAAAAyQAAAAAAAADZAAAAAAAAANUAAAAAAAAA6QAAAAAAAADpAAAAAAAAAOkAAAAAAAAA9QAAAAAAAADhAAAAAAAAANEAAAAAAAAAzQAAAAAAAADhAAAAAAAAAPUAAAAAAAAA6QAAAAAAAADpAAAAAAAAAOEAAAAAAAAA6QAAAAAAAAD9AAAAAAAAAOUAAAAAAAAA9QAAAAAAAADdAAAAAAAAAN0AAAAAAAAA2QAAAAAAAADlAAAAAAAAAPEAAAAAAAAA5QAAAAAAAADtAAAAAAAAAPUAAAAAAAIA9QAAAAAAAADRAAAAAAAAAM0AAAAAAAIAwQAAAAAAAAEJAAAAAAAAAPUAAAAAAAIA+QAAAAAAAgDVAzczMzMyMRUDNzMzMzEw0QAAAAAAAADFAmpmZmZmZNUAzMzMzMzMwQAAAAAAAgD9AZmZmZmbmP0BmZmZmZmY5QDMzMzMzMztAZmZmZmamQkAAAAAAAMBEQGZmZmZmJkFAZmZmZmYmRkAzMzMzM7NFQDMzMzMzM0JAAAAAAAAAPkDNzMzMzMw9QAAAAAAAgEFAAAAAAACAQECamZmZmRk8QDMzMzMzsz5AAAAAAAAAQkAAAAAAAABGQA==\",\"dtype\":\"float64\",\"order\":\"little\",\"shape\":[68]},\"origin\":[\"Europe\",\"Europe\",\"Europe\",\"Europe\",\"Europe\",\"Europe\",\"Europe\",\"Europe\",\"Europe\",\"Europe\",\"Europe\",\"Europe\",\"Europe\",\"Europe\",\"Europe\",\"Europe\",\"Europe\",\"Europe\",\"Europe\",\"Europe\",\"Europe\",\"Europe\",\"Europe\",\"Europe\",\"Europe\",\"Europe\",\"Europe\",\"Europe\",\"Europe\",\"Europe\",\"Europe\",\"Europe\",\"Europe\",\"Europe\",\"Europe\",\"Europe\",\"Europe\",\"Europe\",\"Europe\",\"Europe\",\"Europe\",\"Europe\",\"Europe\",\"Europe\",\"Europe\",\"Europe\",\"Europe\",\"Europe\",\"Europe\",\"Europe\",\"Europe\",\"Europe\",\"Europe\",\"Europe\",\"Europe\",\"Europe\",\"Europe\",\"Europe\",\"Europe\",\"Europe\",\"Europe\",\"Europe\",\"Europe\",\"Europe\",\"Europe\",\"Europe\",\"Europe\",\"Europe\"]},\"selected\":{\"id\":\"6601\"},\"selection_policy\":{\"id\":\"6618\"}},\"id\":\"6600\",\"type\":\"ColumnDataSource\"},{\"attributes\":{\"active_multi\":null,\"tools\":[{\"id\":\"6540\"},{\"id\":\"6560\"},{\"id\":\"6561\"},{\"id\":\"6562\"},{\"id\":\"6563\"},{\"id\":\"6564\"}]},\"id\":\"6566\",\"type\":\"Toolbar\"},{\"attributes\":{},\"id\":\"6548\",\"type\":\"LinearScale\"},{\"attributes\":{\"margin\":[5,5,5,5],\"name\":\"HSpacer11236\",\"sizing_mode\":\"stretch_width\"},\"id\":\"6537\",\"type\":\"Spacer\"},{\"attributes\":{\"angle\":{\"value\":0.0},\"fill_alpha\":{\"value\":1.0},\"fill_color\":{\"value\":\"#e5ae38\"},\"hatch_alpha\":{\"value\":1.0},\"hatch_color\":{\"value\":\"black\"},\"hatch_scale\":{\"value\":12.0},\"hatch_weight\":{\"value\":1.0},\"line_alpha\":{\"value\":1.0},\"line_cap\":{\"value\":\"butt\"},\"line_color\":{\"value\":\"#e5ae38\"},\"line_dash\":{\"value\":[]},\"line_dash_offset\":{\"value\":0},\"line_join\":{\"value\":\"bevel\"},\"line_width\":{\"value\":1},\"marker\":{\"value\":\"circle\"},\"size\":{\"value\":5.477225575051661},\"x\":{\"field\":\"mpg\"},\"y\":{\"field\":\"hp\"}},\"id\":\"6645\",\"type\":\"Scatter\"},{\"attributes\":{},\"id\":\"6550\",\"type\":\"LinearScale\"},{\"attributes\":{\"children\":[{\"id\":\"6537\"},{\"id\":\"6543\"},{\"id\":\"6772\"}],\"margin\":[0,0,0,0],\"name\":\"Row11232\",\"tags\":[\"embedded\"]},\"id\":\"6536\",\"type\":\"Row\"},{\"attributes\":{\"fill_color\":{\"value\":\"#e5ae38\"},\"line_color\":{\"value\":\"#e5ae38\"},\"size\":{\"value\":5.477225575051661},\"x\":{\"field\":\"mpg\"},\"y\":{\"field\":\"hp\"}},\"id\":\"6625\",\"type\":\"Scatter\"},{\"attributes\":{},\"id\":\"6576\",\"type\":\"AllLabels\"},{\"attributes\":{\"axis_label\":\"mpg\",\"formatter\":{\"id\":\"6575\"},\"major_label_policy\":{\"id\":\"6573\"},\"ticker\":{\"id\":\"6553\"}},\"id\":\"6552\",\"type\":\"LinearAxis\"},{\"attributes\":{},\"id\":\"6618\",\"type\":\"UnionRenderers\"},{\"attributes\":{},\"id\":\"6557\",\"type\":\"BasicTicker\"},{\"attributes\":{\"source\":{\"id\":\"6622\"}},\"id\":\"6629\",\"type\":\"CDSView\"},{\"attributes\":{},\"id\":\"6561\",\"type\":\"PanTool\"},{\"attributes\":{\"label\":{\"value\":\"North America\"},\"renderers\":[{\"id\":\"6628\"}]},\"id\":\"6644\",\"type\":\"LegendItem\"},{\"attributes\":{\"axis_label\":\"hp\",\"formatter\":{\"id\":\"6578\"},\"major_label_policy\":{\"id\":\"6576\"},\"ticker\":{\"id\":\"6557\"}},\"id\":\"6556\",\"type\":\"LinearAxis\"},{\"attributes\":{\"fill_alpha\":{\"value\":0.2},\"fill_color\":{\"value\":\"#e5ae38\"},\"line_alpha\":{\"value\":0.2},\"line_color\":{\"value\":\"#e5ae38\"},\"size\":{\"value\":5.477225575051661},\"x\":{\"field\":\"mpg\"},\"y\":{\"field\":\"hp\"}},\"id\":\"6627\",\"type\":\"Scatter\"},{\"attributes\":{},\"id\":\"6580\",\"type\":\"Selection\"},{\"attributes\":{},\"id\":\"6562\",\"type\":\"WheelZoomTool\"},{\"attributes\":{\"axis\":{\"id\":\"6556\"},\"dimension\":1,\"grid_line_color\":null,\"ticker\":null},\"id\":\"6559\",\"type\":\"Grid\"},{\"attributes\":{},\"id\":\"6560\",\"type\":\"SaveTool\"},{\"attributes\":{\"overlay\":{\"id\":\"6565\"}},\"id\":\"6563\",\"type\":\"BoxZoomTool\"},{\"attributes\":{\"fill_color\":{\"value\":\"#30a2da\"},\"line_color\":{\"value\":\"#30a2da\"},\"size\":{\"value\":5.477225575051661},\"x\":{\"field\":\"mpg\"},\"y\":{\"field\":\"hp\"}},\"id\":\"6582\",\"type\":\"Scatter\"},{\"attributes\":{},\"id\":\"6564\",\"type\":\"ResetTool\"},{\"attributes\":{\"angle\":{\"value\":0.0},\"fill_alpha\":{\"value\":1.0},\"fill_color\":{\"value\":\"#30a2da\"},\"hatch_alpha\":{\"value\":1.0},\"hatch_color\":{\"value\":\"black\"},\"hatch_scale\":{\"value\":12.0},\"hatch_weight\":{\"value\":1.0},\"line_alpha\":{\"value\":1.0},\"line_cap\":{\"value\":\"butt\"},\"line_color\":{\"value\":\"#30a2da\"},\"line_dash\":{\"value\":[]},\"line_dash_offset\":{\"value\":0},\"line_join\":{\"value\":\"bevel\"},\"line_width\":{\"value\":1},\"marker\":{\"value\":\"circle\"},\"size\":{\"value\":5.477225575051661},\"x\":{\"field\":\"mpg\"},\"y\":{\"field\":\"hp\"}},\"id\":\"6599\",\"type\":\"Scatter\"},{\"attributes\":{\"fill_alpha\":{\"value\":0.1},\"fill_color\":{\"value\":\"#30a2da\"},\"line_alpha\":{\"value\":0.1},\"line_color\":{\"value\":\"#30a2da\"},\"size\":{\"value\":5.477225575051661},\"x\":{\"field\":\"mpg\"},\"y\":{\"field\":\"hp\"}},\"id\":\"6583\",\"type\":\"Scatter\"},{\"attributes\":{},\"id\":\"6601\",\"type\":\"Selection\"},{\"attributes\":{\"source\":{\"id\":\"6579\"}},\"id\":\"6586\",\"type\":\"CDSView\"},{\"attributes\":{\"data_source\":{\"id\":\"6579\"},\"glyph\":{\"id\":\"6582\"},\"hover_glyph\":null,\"muted_glyph\":{\"id\":\"6584\"},\"nonselection_glyph\":{\"id\":\"6583\"},\"selection_glyph\":{\"id\":\"6599\"},\"view\":{\"id\":\"6586\"}},\"id\":\"6585\",\"type\":\"GlyphRenderer\"}],\"root_ids\":[\"6536\"]},\"title\":\"Bokeh Application\",\"version\":\"2.3.3\"}};\n",
       "    var render_items = [{\"docid\":\"e6776939-0c24-42ac-ac2c-68cee5704932\",\"root_ids\":[\"6536\"],\"roots\":{\"6536\":\"b42b53ce-bac4-4fe0-8101-2a05297d202c\"}}];\n",
       "    root.Bokeh.embed.embed_items_notebook(docs_json, render_items);\n",
       "  }\n",
       "  if (root.Bokeh !== undefined && root.Bokeh.Panel !== undefined) {\n",
       "    embed_document(root);\n",
       "  } else {\n",
       "    var attempts = 0;\n",
       "    var timer = setInterval(function(root) {\n",
       "      if (root.Bokeh !== undefined && root.Bokeh.Panel !== undefined) {\n",
       "        clearInterval(timer);\n",
       "        embed_document(root);\n",
       "      } else if (document.readyState == \"complete\") {\n",
       "        attempts++;\n",
       "        if (attempts > 200) {\n",
       "          clearInterval(timer);\n",
       "          console.log(\"Bokeh: ERROR: Unable to run BokehJS code because BokehJS library is missing\");\n",
       "        }\n",
       "      }\n",
       "    }, 25, root)\n",
       "  }\n",
       "})(window);</script>"
      ],
      "text/plain": [
       ":NdOverlay   [origin]\n",
       "   :Scatter   [mpg]   (hp)"
      ]
     },
     "execution_count": 87,
     "metadata": {
      "application/vnd.holoviews_exec.v0+json": {
       "id": "6536"
      }
     },
     "output_type": "execute_result"
    }
   ],
   "source": [
    "df.hvplot.scatter(x='mpg', y='hp', by='origin')"
   ]
  },
  {
   "cell_type": "markdown",
   "id": "eaf755ba",
   "metadata": {},
   "source": [
    "#### Exercise\n",
    "\n",
    "Add `subplots=True` and `width=300` to see the different classes side-by-side instead of overlaid. The axes will be linked, so try zooming.\n",
    "\n",
    "<details><summary><i><u>(Solution)</u><i></summary><br>\n",
    "    \n",
    "```python\n",
    "df.hvplot.scatter(\n",
    "    x='mpg', \n",
    "    y='hp', \n",
    "    by='origin',\n",
    "    subplots=True,\n",
    "    width=300\n",
    "    )\n",
    "```\n",
    "\n",
    "</details>"
   ]
  },
  {
   "cell_type": "markdown",
   "id": "767a2548",
   "metadata": {},
   "source": [
    "What if you want a single plot, but want to see each class separately? You can use the `groupby` option to get a widget for toggling between classes, here in a bivariate plot (using a subset of the data as bivariate plots can be expensive to compute):"
   ]
  },
  {
   "cell_type": "code",
   "execution_count": 86,
   "id": "b41d3cbc",
   "metadata": {
    "scrolled": true
   },
   "outputs": [
    {
     "data": {},
     "metadata": {},
     "output_type": "display_data"
    },
    {
     "data": {
      "application/vnd.holoviews_exec.v0+json": "",
      "text/html": [
       "<div id='6373'>\n",
       "\n",
       "\n",
       "\n",
       "\n",
       "\n",
       "  <div class=\"bk-root\" id=\"d9aa0086-f14f-4bd1-8218-3d35b9c57a5b\" data-root-id=\"6373\"></div>\n",
       "</div>\n",
       "<script type=\"application/javascript\">(function(root) {\n",
       "  function embed_document(root) {\n",
       "    var docs_json = {\"a8a5810f-6dbb-4afc-ad41-0d3863230f91\":{\"defs\":[{\"extends\":null,\"module\":null,\"name\":\"ReactiveHTML1\",\"overrides\":[],\"properties\":[]},{\"extends\":null,\"module\":null,\"name\":\"FlexBox1\",\"overrides\":[],\"properties\":[{\"default\":\"flex-start\",\"kind\":null,\"name\":\"align_content\"},{\"default\":\"flex-start\",\"kind\":null,\"name\":\"align_items\"},{\"default\":\"row\",\"kind\":null,\"name\":\"flex_direction\"},{\"default\":\"wrap\",\"kind\":null,\"name\":\"flex_wrap\"},{\"default\":\"flex-start\",\"kind\":null,\"name\":\"justify_content\"}]},{\"extends\":null,\"module\":null,\"name\":\"TemplateActions1\",\"overrides\":[],\"properties\":[{\"default\":0,\"kind\":null,\"name\":\"open_modal\"},{\"default\":0,\"kind\":null,\"name\":\"close_modal\"}]},{\"extends\":null,\"module\":null,\"name\":\"MaterialTemplateActions1\",\"overrides\":[],\"properties\":[{\"default\":0,\"kind\":null,\"name\":\"open_modal\"},{\"default\":0,\"kind\":null,\"name\":\"close_modal\"}]}],\"roots\":{\"references\":[{\"attributes\":{},\"id\":\"6396\",\"type\":\"PanTool\"},{\"attributes\":{},\"id\":\"6409\",\"type\":\"Selection\"},{\"attributes\":{\"data\":{\"hp\":[130,165,150,150,140,198,220,215,225,190,170,160,150,225,95,97,85,90,215,200,210,193,90,100,105,100,88,100,165,175,153,150,180,170,175,110,72,100,88,86,70,80,90,86,165,175,150,153,150,208,155,160,190,150,130,140,150,86,80,175,150,145,137,150,198,150,158,150,215,225,175,105,100,100,88,95,150,167,170,180,100,72,85,107,145,230,150,180,95,100,100,80,75,100,110,105,140,150,150,140,150,75,95,105,72,72,170,145,150,148,110,105,110,95,110,110,129,83,100,78,97,90,92,79,140,150,120,152,100,105,81,90,52,60,100,78,110,95,72,150,180,145,130,150,80,96,145,110,145,130,110,105,100,98,180,170,190,149,88,89,63,83,66,110,140,139,105,95,85,88,100,90,105,85,110,120,145,165,139,140,68,75,105,85,115,85,88,90,110,130,129,138,135,155,142,125,150,80,80,125,90,70,70,90,115,115,90,70,90,88,90,90,105,84,84,92,110,84,64,63,65,65,110,105,88,85,88,88,88,85,84,90,92,63,70,110,85,92,112,84,90,86,84,79,82],\"mpg\":{\"__ndarray__\":\"AAAAAAAAMkAAAAAAAAAuQAAAAAAAADJAAAAAAAAAMEAAAAAAAAAxQAAAAAAAAC5AAAAAAAAALEAAAAAAAAAsQAAAAAAAACxAAAAAAAAALkAAAAAAAAAuQAAAAAAAACxAAAAAAAAALkAAAAAAAAAsQAAAAAAAADZAAAAAAAAAMkAAAAAAAAA1QAAAAAAAADVAAAAAAAAAJEAAAAAAAAAkQAAAAAAAACZAAAAAAAAAIkAAAAAAAAA8QAAAAAAAADNAAAAAAAAAMEAAAAAAAAAxQAAAAAAAADNAAAAAAAAAMkAAAAAAAAAsQAAAAAAAACxAAAAAAAAALEAAAAAAAAAsQAAAAAAAAChAAAAAAAAAKkAAAAAAAAAqQAAAAAAAADJAAAAAAAAANkAAAAAAAAAzQAAAAAAAADJAAAAAAAAAN0AAAAAAAAA6QAAAAAAAADlAAAAAAAAANEAAAAAAAAA1QAAAAAAAACpAAAAAAAAALEAAAAAAAAAuQAAAAAAAACxAAAAAAAAAMUAAAAAAAAAmQAAAAAAAACpAAAAAAAAAKEAAAAAAAAAqQAAAAAAAAC5AAAAAAAAAKkAAAAAAAAAqQAAAAAAAACxAAAAAAAAANkAAAAAAAAA8QAAAAAAAACpAAAAAAAAALEAAAAAAAAAqQAAAAAAAACxAAAAAAAAALkAAAAAAAAAoQAAAAAAAACpAAAAAAAAAKkAAAAAAAAAsQAAAAAAAACpAAAAAAAAAKEAAAAAAAAAqQAAAAAAAADJAAAAAAAAAMEAAAAAAAAAyQAAAAAAAADJAAAAAAAAAN0AAAAAAAAAmQAAAAAAAAChAAAAAAAAAKkAAAAAAAAAoQAAAAAAAADJAAAAAAAAANUAAAAAAAAAzQAAAAAAAADVAAAAAAAAALkAAAAAAAAAwQAAAAAAAAC5AAAAAAAAAJkAAAAAAAAA0QAAAAAAAADNAAAAAAAAALkAAAAAAAAA6QAAAAAAAADlAAAAAAAAAMEAAAAAAAAAwQAAAAAAAADJAAAAAAAAAMEAAAAAAAAAqQAAAAAAAACxAAAAAAAAALEAAAAAAAAAsQAAAAAAAADxAAAAAAAAAM0AAAAAAAAAyQAAAAAAAAC5AAAAAAAAALkAAAAAAAAAwQAAAAAAAAC5AAAAAAAAAMEAAAAAAAAAsQAAAAAAAADFAAAAAAAAAMEAAAAAAAAAuQAAAAAAAADJAAAAAAAAANUAAAAAAAAA0QAAAAAAAACpAAAAAAAAAN0AAAAAAAAA0QAAAAAAAADdAAAAAAAAAMkAAAAAAAAAzQAAAAAAAADlAAAAAAAAAOkAAAAAAAIAxQAAAAAAAADBAAAAAAAAAL0AAAAAAAAAtQAAAAAAAADZAAAAAAAAANkAAAAAAAAA4QAAAAAAAgDZAAAAAAAAAPUAAAAAAAIA4QAAAAAAAADRAAAAAAAAAMkAAAAAAAIAyQAAAAAAAgDFAAAAAAACAOkAAAAAAAAAqQAAAAAAAgDBAAAAAAAAAKkAAAAAAAAAqQAAAAAAAACpAAAAAAAAAPkAAAAAAAIA5QAAAAAAAgDFAAAAAAAAAMUAAAAAAAAAvQAAAAAAAAC5AAAAAAACAMUAAAAAAAIA0QAAAAAAAADNAAAAAAACAMkAAAAAAAAAwQAAAAAAAAC9AAAAAAAAAL0AAAAAAAAAwQAAAAAAAgDhAAAAAAACAOUAAAAAAAIA+QAAAAAAAwEBAzczMzMwMQkBmZmZmZuYzQGZmZmZmZjNAMzMzMzMzNEAzMzMzMzMzQAAAAAAAgDRAMzMzMzMzNECamZmZmRk5QAAAAAAAgDRAZmZmZmZmM0CamZmZmZk0QM3MzMzMzDRAmpmZmZmZMkCamZmZmRkyQDMzMzMzMzNAMzMzMzOzMUCamZmZmRkyQAAAAAAAgDFAAAAAAAAAPkBmZmZmZuY+QDMzMzMzMzdAzczMzMzMN0AAAAAAAIA1QM3MzMzMzDNAzczMzMxMNkAzMzMzMzM0QJqZmZmZmTRAAAAAAAAAMUCamZmZmZkxQAAAAAAAgDBAMzMzMzMzMkBmZmZmZuYwQAAAAAAAAC9AMzMzMzMzM0AAAAAAAIAyQJqZmZmZ2UFAZmZmZmZmO0AAAAAAAAA3QGZmZmZm5jdAmpmZmZkZQUAAAAAAAEBBQGZmZmZmZjxAzczMzMzMPEDNzMzMzMw6QAAAAAAAwEBAzczMzMwMQEAAAAAAAAA8QGZmZmZmZjpAzczMzMxMOECamZmZmRkzQGZmZmZm5jtAMzMzMzMzO0CamZmZmZk6QM3MzMzMzDlAAAAAAACAN0AAAAAAAAA+QAAAAAAAgENAmpmZmZlZQUAzMzMzMzNBQGZmZmZm5j1AZmZmZmZmNkCamZmZmZk6QDMzMzMzMzRAmpmZmZmZMUAAAAAAAAA8QAAAAAAAADtAAAAAAAAAQUAAAAAAAAA/QAAAAAAAAD1AAAAAAAAAO0AAAAAAAAA4QAAAAAAAAENAAAAAAAAAQkAAAAAAAAA5QAAAAAAAAENAAAAAAAAAOkAAAAAAAAA2QAAAAAAAAEJAAAAAAAAAO0AAAAAAAAA7QAAAAAAAAEBAAAAAAAAAPEAAAAAAAAA/QA==\",\"dtype\":\"float64\",\"order\":\"little\",\"shape\":[245]}},\"selected\":{\"id\":\"6409\"},\"selection_policy\":{\"id\":\"6437\"}},\"id\":\"6408\",\"type\":\"ColumnDataSource\"},{\"attributes\":{\"axis\":{\"id\":\"6391\"},\"dimension\":1,\"grid_line_color\":null,\"ticker\":null},\"id\":\"6394\",\"type\":\"Grid\"},{\"attributes\":{},\"id\":\"6397\",\"type\":\"WheelZoomTool\"},{\"attributes\":{},\"id\":\"6422\",\"type\":\"BasicTickFormatter\"},{\"attributes\":{\"margin\":[5,5,5,5],\"name\":\"VSpacer10873\",\"sizing_mode\":\"stretch_height\"},\"id\":\"6454\",\"type\":\"Spacer\"},{\"attributes\":{},\"id\":\"6395\",\"type\":\"SaveTool\"},{\"attributes\":{\"overlay\":{\"id\":\"6400\"}},\"id\":\"6398\",\"type\":\"BoxZoomTool\"},{\"attributes\":{\"margin\":[20,20,20,20],\"min_width\":250,\"options\":[\"North America\",\"Asia\",\"Europe\"],\"title\":\"origin\",\"value\":\"North America\",\"width\":250},\"id\":\"6453\",\"type\":\"Select\"},{\"attributes\":{},\"id\":\"6399\",\"type\":\"ResetTool\"},{\"attributes\":{\"margin\":[5,5,5,5],\"name\":\"HSpacer10876\",\"sizing_mode\":\"stretch_width\"},\"id\":\"6449\",\"type\":\"Spacer\"},{\"attributes\":{\"data_source\":{\"id\":\"6408\"},\"glyph\":{\"id\":\"6411\"},\"hover_glyph\":null,\"muted_glyph\":{\"id\":\"6413\"},\"nonselection_glyph\":{\"id\":\"6412\"},\"selection_glyph\":{\"id\":\"6416\"},\"view\":{\"id\":\"6415\"}},\"id\":\"6414\",\"type\":\"GlyphRenderer\"},{\"attributes\":{\"fill_alpha\":{\"value\":0.2},\"fill_color\":{\"value\":\"#30a2da\"},\"line_alpha\":{\"value\":0.2},\"line_color\":{\"value\":\"#30a2da\"},\"size\":{\"value\":5.477225575051661},\"x\":{\"field\":\"mpg\"},\"y\":{\"field\":\"hp\"}},\"id\":\"6413\",\"type\":\"Scatter\"},{\"attributes\":{\"angle\":{\"value\":0.0},\"fill_alpha\":{\"value\":1.0},\"fill_color\":{\"value\":\"#30a2da\"},\"hatch_alpha\":{\"value\":1.0},\"hatch_color\":{\"value\":\"black\"},\"hatch_scale\":{\"value\":12.0},\"hatch_weight\":{\"value\":1.0},\"line_alpha\":{\"value\":1.0},\"line_cap\":{\"value\":\"butt\"},\"line_color\":{\"value\":\"#30a2da\"},\"line_dash\":{\"value\":[]},\"line_dash_offset\":{\"value\":0},\"line_join\":{\"value\":\"bevel\"},\"line_width\":{\"value\":1},\"marker\":{\"value\":\"circle\"},\"size\":{\"value\":5.477225575051661},\"x\":{\"field\":\"mpg\"},\"y\":{\"field\":\"hp\"}},\"id\":\"6416\",\"type\":\"Scatter\"},{\"attributes\":{\"callback\":null,\"renderers\":[{\"id\":\"6414\"}],\"tags\":[\"hv_created\"],\"tooltips\":[[\"mpg\",\"@{mpg}\"],[\"hp\",\"@{hp}\"]]},\"id\":\"6377\",\"type\":\"HoverTool\"},{\"attributes\":{},\"id\":\"6437\",\"type\":\"UnionRenderers\"},{\"attributes\":{\"source\":{\"id\":\"6408\"}},\"id\":\"6415\",\"type\":\"CDSView\"},{\"attributes\":{},\"id\":\"6419\",\"type\":\"BasicTickFormatter\"},{\"attributes\":{\"client_comm_id\":\"9bb2dcb7ac99442fa6b2d839a070a9fe\",\"comm_id\":\"3a3d4da6b4e54e5b98227e0ba449d58e\",\"plot_id\":\"6373\"},\"id\":\"6485\",\"type\":\"panel.models.comm_manager.CommManager\"},{\"attributes\":{\"children\":[{\"id\":\"6453\"}],\"css_classes\":[\"panel-widget-box\"],\"margin\":[5,5,5,5],\"name\":\"WidgetBox10867\"},\"id\":\"6452\",\"type\":\"Column\"},{\"attributes\":{\"end\":40.285714285714285,\"reset_end\":40.285714285714285,\"reset_start\":7.714285714285714,\"start\":7.714285714285714,\"tags\":[[[\"mpg\",\"mpg\",null]]]},\"id\":\"6375\",\"type\":\"Range1d\"},{\"attributes\":{\"margin\":[5,5,5,5],\"name\":\"VSpacer10872\",\"sizing_mode\":\"stretch_height\"},\"id\":\"6451\",\"type\":\"Spacer\"},{\"attributes\":{\"text\":\"origin: North America\",\"text_color\":\"black\",\"text_font_size\":\"12pt\"},\"id\":\"6379\",\"type\":\"Title\"},{\"attributes\":{\"children\":[{\"id\":\"6451\"},{\"id\":\"6452\"},{\"id\":\"6454\"}],\"margin\":[0,0,0,0],\"name\":\"Column10874\"},\"id\":\"6450\",\"type\":\"Column\"},{\"attributes\":{},\"id\":\"6383\",\"type\":\"LinearScale\"},{\"attributes\":{\"fill_color\":{\"value\":\"#30a2da\"},\"line_color\":{\"value\":\"#30a2da\"},\"size\":{\"value\":5.477225575051661},\"x\":{\"field\":\"mpg\"},\"y\":{\"field\":\"hp\"}},\"id\":\"6411\",\"type\":\"Scatter\"},{\"attributes\":{},\"id\":\"6417\",\"type\":\"AllLabels\"},{\"attributes\":{\"bottom_units\":\"screen\",\"fill_alpha\":0.5,\"fill_color\":\"lightgrey\",\"left_units\":\"screen\",\"level\":\"overlay\",\"line_alpha\":1.0,\"line_color\":\"black\",\"line_dash\":[4,4],\"line_width\":2,\"right_units\":\"screen\",\"syncable\":false,\"top_units\":\"screen\"},\"id\":\"6400\",\"type\":\"BoxAnnotation\"},{\"attributes\":{\"end\":247.8,\"reset_end\":247.8,\"reset_start\":34.2,\"start\":34.2,\"tags\":[[[\"hp\",\"hp\",null]]]},\"id\":\"6376\",\"type\":\"Range1d\"},{\"attributes\":{\"fill_alpha\":{\"value\":0.1},\"fill_color\":{\"value\":\"#30a2da\"},\"line_alpha\":{\"value\":0.1},\"line_color\":{\"value\":\"#30a2da\"},\"size\":{\"value\":5.477225575051661},\"x\":{\"field\":\"mpg\"},\"y\":{\"field\":\"hp\"}},\"id\":\"6412\",\"type\":\"Scatter\"},{\"attributes\":{},\"id\":\"6392\",\"type\":\"BasicTicker\"},{\"attributes\":{},\"id\":\"6388\",\"type\":\"BasicTicker\"},{\"attributes\":{},\"id\":\"6385\",\"type\":\"LinearScale\"},{\"attributes\":{\"children\":[{\"id\":\"6374\"},{\"id\":\"6378\"},{\"id\":\"6449\"},{\"id\":\"6450\"}],\"margin\":[0,0,0,0],\"name\":\"Row10866\"},\"id\":\"6373\",\"type\":\"Row\"},{\"attributes\":{\"below\":[{\"id\":\"6387\"}],\"center\":[{\"id\":\"6390\"},{\"id\":\"6394\"}],\"height\":300,\"left\":[{\"id\":\"6391\"}],\"margin\":[5,5,5,5],\"min_border_bottom\":10,\"min_border_left\":10,\"min_border_right\":10,\"min_border_top\":10,\"renderers\":[{\"id\":\"6414\"}],\"sizing_mode\":\"fixed\",\"title\":{\"id\":\"6379\"},\"toolbar\":{\"id\":\"6401\"},\"width\":700,\"x_range\":{\"id\":\"6375\"},\"x_scale\":{\"id\":\"6383\"},\"y_range\":{\"id\":\"6376\"},\"y_scale\":{\"id\":\"6385\"}},\"id\":\"6378\",\"subtype\":\"Figure\",\"type\":\"Plot\"},{\"attributes\":{\"active_multi\":null,\"tools\":[{\"id\":\"6377\"},{\"id\":\"6395\"},{\"id\":\"6396\"},{\"id\":\"6397\"},{\"id\":\"6398\"},{\"id\":\"6399\"}]},\"id\":\"6401\",\"type\":\"Toolbar\"},{\"attributes\":{\"margin\":[5,5,5,5],\"name\":\"HSpacer10875\",\"sizing_mode\":\"stretch_width\"},\"id\":\"6374\",\"type\":\"Spacer\"},{\"attributes\":{\"axis\":{\"id\":\"6387\"},\"grid_line_color\":null,\"ticker\":null},\"id\":\"6390\",\"type\":\"Grid\"},{\"attributes\":{},\"id\":\"6420\",\"type\":\"AllLabels\"},{\"attributes\":{\"axis_label\":\"hp\",\"formatter\":{\"id\":\"6422\"},\"major_label_policy\":{\"id\":\"6420\"},\"ticker\":{\"id\":\"6392\"}},\"id\":\"6391\",\"type\":\"LinearAxis\"},{\"attributes\":{\"axis_label\":\"mpg\",\"formatter\":{\"id\":\"6419\"},\"major_label_policy\":{\"id\":\"6417\"},\"ticker\":{\"id\":\"6388\"}},\"id\":\"6387\",\"type\":\"LinearAxis\"}],\"root_ids\":[\"6373\",\"6485\"]},\"title\":\"Bokeh Application\",\"version\":\"2.3.3\"}};\n",
       "    var render_items = [{\"docid\":\"a8a5810f-6dbb-4afc-ad41-0d3863230f91\",\"root_ids\":[\"6373\"],\"roots\":{\"6373\":\"d9aa0086-f14f-4bd1-8218-3d35b9c57a5b\"}}];\n",
       "    root.Bokeh.embed.embed_items_notebook(docs_json, render_items);\n",
       "  }\n",
       "  if (root.Bokeh !== undefined && root.Bokeh.Panel !== undefined) {\n",
       "    embed_document(root);\n",
       "  } else {\n",
       "    var attempts = 0;\n",
       "    var timer = setInterval(function(root) {\n",
       "      if (root.Bokeh !== undefined && root.Bokeh.Panel !== undefined) {\n",
       "        clearInterval(timer);\n",
       "        embed_document(root);\n",
       "      } else if (document.readyState == \"complete\") {\n",
       "        attempts++;\n",
       "        if (attempts > 200) {\n",
       "          clearInterval(timer);\n",
       "          console.log(\"Bokeh: ERROR: Unable to run BokehJS code because BokehJS library is missing\");\n",
       "        }\n",
       "      }\n",
       "    }, 25, root)\n",
       "  }\n",
       "})(window);</script>"
      ],
      "text/plain": [
       ":DynamicMap   [origin]\n",
       "   :Scatter   [mpg]   (hp)"
      ]
     },
     "execution_count": 86,
     "metadata": {
      "application/vnd.holoviews_exec.v0+json": {
       "id": "6373"
      }
     },
     "output_type": "execute_result"
    }
   ],
   "source": [
    "df.hvplot.scatter(x='mpg', y='hp', groupby='origin')"
   ]
  },
  {
   "cell_type": "markdown",
   "id": "3d3cba64",
   "metadata": {},
   "source": [
    "# Exploring further\n",
    "\n",
    "As you can see, hvPlot makes it simple to explore your data interactively, with commands based on the widely used Pandas `.plot()` API but now supporting many more features and different types of data. The visualizations above just touch the surface of what is available from hvPlot, and you can explore the [hvPlot website](https://hvplot.pyviz.org) to see much more, or just explore it yourself using tab completion (`df.hvplot.`_[TAB]_). The following section will focus on how to put these plots together once you have them, linking them to understand and show their structure."
   ]
  }
 ],
 "metadata": {
  "kernelspec": {
   "display_name": "Python 3 (ipykernel)",
   "language": "python",
   "name": "python3"
  },
  "language_info": {
   "codemirror_mode": {
    "name": "ipython",
    "version": 3
   },
   "file_extension": ".py",
   "mimetype": "text/x-python",
   "name": "python",
   "nbconvert_exporter": "python",
   "pygments_lexer": "ipython3",
   "version": "3.9.6"
  }
 },
 "nbformat": 4,
 "nbformat_minor": 5
}
