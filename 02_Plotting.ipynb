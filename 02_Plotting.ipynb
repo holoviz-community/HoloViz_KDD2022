{
 "cells": [
  {
   "cell_type": "markdown",
   "id": "b6445830",
   "metadata": {},
   "source": [
    "<style>div.container { width: 100% }</style>\n",
    "<img style=\"float:left;  vertical-align:text-bottom;\" height=\"65\" width=\"172\" src=\"https://raw.githubusercontent.com/holoviz/holoviz/master/doc/_static/holoviz-logo-unstacked.svg\" />\n",
    "<div style=\"float:right; vertical-align:text-bottom;\"><h2>Tutorial 2. Plotting</h2></div>"
   ]
  },
  {
   "cell_type": "markdown",
   "id": "77b2e728",
   "metadata": {},
   "source": [
    "When trying to make sense of data, there are many representations to choose from, including data tables, textual summaries and so on. We'll mostly focus on plotting data to get an intuitive visual representation, using a simple but powerful plotting API.\n",
    "\n",
    "If you have tried to visualize a `pandas.DataFrame` before, then you have likely encountered the [Pandas .plot() API](https://pandas.pydata.org/pandas-docs/stable/user_guide/visualization.html). These plotting commands use [Matplotlib](http://matplotlib.org) to render static PNGs or SVGs in a Jupyter notebook using the `inline` backend, or interactive figures via `%matplotlib widget`, with a command that can be as simple as `df.plot()` for a DataFrame with one or two columns. \n",
    "\n",
    "The Pandas .plot() API has emerged as a de-facto standard for high-level plotting APIs in Python, and is now supported by many different libraries that use various underlying plotting engines to provide additional power and flexibility. Learning this API allows you to access capabilities provided by a wide variety of underlying tools, with relatively little additional effort. The libraries currently supporting this API include:\n",
    "\n",
    "- [Pandas](https://pandas.pydata.org/pandas-docs/stable/user_guide/visualization.html) -- Matplotlib-based API included with Pandas. Static or interactive output in Jupyter notebooks.\n",
    "- [xarray](https://xarray.pydata.org/en/stable/plotting.html) -- Matplotlib-based API included with xarray, based on pandas .plot API. Static or interactive output in Jupyter notebooks.\n",
    "- [hvPlot](https://hvplot.pyviz.org) -- HoloViews and Bokeh-based interactive plots for Pandas, GeoPandas, xarray, Dask, Intake, and Streamz data.\n",
    "- [Pandas Bokeh](https://github.com/PatrikHlobil/Pandas-Bokeh) -- Bokeh-based interactive plots, for Pandas, GeoPandas, and PySpark data.\n",
    "- [Cufflinks](https://github.com/santosjorge/cufflinks) -- Plotly-based interactive plots for Pandas data.\n",
    "- [Plotly Express](https://plotly.com/python/pandas-backend) -- Plotly-Express-based interactive plots for Pandas data; only partial support for the .plot API keywords.\n",
    "- [PdVega](https://altair-viz.github.io/pdvega) -- Vega-lite-based, JSON-encoded interactive plots for Pandas data.\n",
    "\n",
    "In this notebook we'll explore what is possible with the default `.plot` API and demonstrate the additional capabilities provided by `.hvplot`. "
   ]
  },
  {
   "cell_type": "markdown",
   "id": "ffa43ca8",
   "metadata": {},
   "source": [
    "### Import and configure packages\n",
    "\n",
    "Please note that in **Colab** you will need to `!pip install panel hvplot`."
   ]
  },
  {
   "cell_type": "code",
   "execution_count": null,
   "id": "8de31d02",
   "metadata": {},
   "outputs": [],
   "source": [
    "# !pip install panel==0.12.6 hvplot==0.7.3"
   ]
  },
  {
   "cell_type": "code",
   "execution_count": null,
   "id": "00e12a1c",
   "metadata": {},
   "outputs": [],
   "source": [
    "import holoviews as hv\n",
    "import hvplot.pandas\n",
    "import panel as pn"
   ]
  },
  {
   "cell_type": "markdown",
   "id": "7c8d4dfe",
   "metadata": {},
   "source": [
    "You will need to run the following to be able to see plots in **Colab**."
   ]
  },
  {
   "cell_type": "code",
   "execution_count": null,
   "id": "59b8dc2e",
   "metadata": {},
   "outputs": [],
   "source": [
    "# def _render(self, **kw):\n",
    "#   hv.extension('bokeh')\n",
    "#   return hv.Store.render(self)\n",
    "# hv.core.Dimensioned._repr_mimebundle_ = _render"
   ]
  },
  {
   "cell_type": "markdown",
   "id": "7fbc20e2",
   "metadata": {},
   "source": [
    "### Read in the data\n",
    "\n",
    "Here we will focus on Pandas, but a similar approach will work for any supported DataFrame type, including Dask for distributed computing or RAPIDS cuDF for GPU computing. This dataset is relatively large (2.1 million rows), but should still fit into memory on any recent machine, and thus won't need special out-of-core or distributed approaches like Dask provides."
   ]
  },
  {
   "cell_type": "code",
   "execution_count": null,
   "id": "77513924",
   "metadata": {},
   "outputs": [],
   "source": [
    "from bokeh.sampledata.autompg import autompg_clean as df\n",
    "# you may also read in data from a local file, for example using\n",
    "# df = pd.read_csv('data.csv')"
   ]
  },
  {
   "cell_type": "code",
   "execution_count": null,
   "id": "be6734d8",
   "metadata": {},
   "outputs": [],
   "source": [
    "len(df)"
   ]
  },
  {
   "cell_type": "code",
   "execution_count": null,
   "id": "767e761d",
   "metadata": {},
   "outputs": [],
   "source": [
    "df.head()"
   ]
  },
  {
   "cell_type": "code",
   "execution_count": null,
   "id": "722881d0",
   "metadata": {},
   "outputs": [],
   "source": [
    "df.tail()"
   ]
  },
  {
   "cell_type": "code",
   "execution_count": null,
   "id": "e62466a2",
   "metadata": {},
   "outputs": [],
   "source": [
    "df.describe()"
   ]
  },
  {
   "cell_type": "markdown",
   "id": "8107539b",
   "metadata": {},
   "source": [
    "### Using Pandas `.plot()`\n",
    "\n",
    "The first thing that we'd like to do with this data is visualize two features of the dataset: mpg and hp. So we would like to make a scatter or points plot where _x_ is mpg and _y_ is hp. \n",
    "\n",
    "We can do that for the smaller dataframe using the `pandas.plot` API and Matplotlib:"
   ]
  },
  {
   "cell_type": "code",
   "execution_count": null,
   "id": "3d8bce84",
   "metadata": {},
   "outputs": [],
   "source": [
    "df.plot.scatter(x='mpg', y='hp')"
   ]
  },
  {
   "cell_type": "markdown",
   "id": "d965b187",
   "metadata": {},
   "source": [
    "### Using .hvplot\n",
    "As you can see above, the Pandas API gives you a usable plot very easily. You can make a very similar plot with the same arguments using hvplot, after importing hvplot.pandas to install hvPlot support into Pandas:"
   ]
  },
  {
   "cell_type": "code",
   "execution_count": null,
   "id": "ac8d8abe",
   "metadata": {},
   "outputs": [],
   "source": [
    "import hvplot.pandas "
   ]
  },
  {
   "cell_type": "code",
   "execution_count": null,
   "id": "0610f815",
   "metadata": {},
   "outputs": [],
   "source": [
    "df.hvplot.scatter(x='mpg', y='hp')"
   ]
  },
  {
   "cell_type": "markdown",
   "id": "e08d3973",
   "metadata": {},
   "source": [
    "Here unlike in the Pandas .plot() there is a default hover action on the datapoints to show the values, and you can always pan and zoom to focus on any particular region of the data of interest.\n",
    "\n"
   ]
  },
  {
   "cell_type": "markdown",
   "id": "27a29eea",
   "metadata": {},
   "source": [
    "#### Exercise\n",
    "\n",
    "Try changing the x axis on the plot above to see the relationship between weight and hp. \n",
    "<details><summary><i><u>(Solution)</u><i></summary><br>\n",
    "    \n",
    "```python\n",
    "df.hvplot.scatter(x='weight', y='hp')\n",
    "```\n",
    "\n",
    "</details>"
   ]
  },
  {
   "cell_type": "markdown",
   "id": "1b3f469f",
   "metadata": {},
   "source": [
    "### Getting help with hvplot options\n",
    "\n",
    "You may be wondering how you can learn about all the options that are available with `hvplot`. For this purpose, you can use tab-completion in the Jupyter notebook or the `hvplot.help` function which are documented in the [user guide](https://hvplot.holoviz.org/user_guide/Customization.html).\n",
    "\n",
    "For tab completion, you can press tab after the opening parenthesis in a `obj.hvplot.<kind>(` call. For instance, you can try pressing tab after the partial expression `df.hvplot.scatter(<TAB>`.\n",
    "\n",
    "Alternatively, you can call `hvplot.help(<kind>)` to see a documentation pane pop up in the notebook. Try uncommenting the following line and executing it:"
   ]
  },
  {
   "cell_type": "code",
   "execution_count": null,
   "id": "127ae0fc",
   "metadata": {},
   "outputs": [],
   "source": [
    "hvplot.help('scatter')"
   ]
  },
  {
   "cell_type": "markdown",
   "id": "cb10357f",
   "metadata": {},
   "source": [
    "You will see there are a lot of options!  You can control which section of the documentation you view with the `generic`, `docstring` and `style` boolean switches also documented in the  [user guide](https://hvplot.holoviz.org/user_guide/Customization.html). If you run the following cell, you will see that `alpha` is listed in the 'Style options'."
   ]
  },
  {
   "cell_type": "code",
   "execution_count": null,
   "id": "0063468a",
   "metadata": {
    "scrolled": true
   },
   "outputs": [],
   "source": [
    "hvplot.help('scatter', style=True, generic=False)"
   ]
  },
  {
   "cell_type": "code",
   "execution_count": null,
   "id": "49895619",
   "metadata": {},
   "outputs": [],
   "source": [
    "PALETTE = [\"#ff6f69\", \"#ffcc5c\", \"#88d8b0\", ]\n",
    "pn.Row(\n",
    "    pn.layout.HSpacer(height=50, background=PALETTE[0]),\n",
    "    pn.layout.HSpacer(height=50, background=PALETTE[1]),\n",
    "    pn.layout.HSpacer(height=50, background=PALETTE[2]),\n",
    ")"
   ]
  },
  {
   "cell_type": "markdown",
   "id": "64402cd6",
   "metadata": {},
   "source": [
    "#### Exercise\n",
    "\n",
    "Try changing color, width, height, and alpha value of the plot. \n",
    "<details><summary><i><u>(Solution)</u><i></summary><br>\n",
    "    \n",
    "```python\n",
    "df.hvplot.scatter(\n",
    "    x='mpg', \n",
    "    y='hp',\n",
    "    color=PALETTE,\n",
    "    width=600,\n",
    "    height=300,\n",
    "    alpha=0.5\n",
    ")\n",
    "```\n",
    "\n",
    "</details>"
   ]
  },
  {
   "cell_type": "markdown",
   "id": "147a3a40",
   "metadata": {},
   "source": [
    "### Other kinds of plots\n",
    "\n",
    "Use tab completion to explore the available plot types.\n",
    "\n",
    "```\n",
    "df.hvplot.<TAB>\n",
    "```\n",
    "\n",
    "Plot types available include:\n",
    "\n",
    "- .area(): Plots a area chart similar to a line chart except for filling the area under the curve and optionally stacking\n",
    "\n",
    "- .bar(): Plots a bar chart that can be stacked or grouped\n",
    "\n",
    "- .bivariate(): Plots 2D density of a set of points\n",
    "\n",
    "- .box(): Plots a box-whisker chart comparing the distribution of one or more variables\n",
    "\n",
    "- .heatmap(): Plots a heatmap to visualizing a variable across two independent dimensions\n",
    "\n",
    "- .hexbins(): Plots hex bins\n",
    "\n",
    "- .hist(): Plots the distribution of one or histograms as a set of bins\n",
    "\n",
    "- .kde(): Plots the kernel density estimate of one or more variables.\n",
    "\n",
    "- .line(): Plots a line chart (such as for a time series)\n",
    "\n",
    "- .scatter(): Plots a scatter chart comparing two variables\n",
    "\n",
    "- .step(): Plots a step chart akin to a line plot\n",
    "\n",
    "- .table(): Generates a SlickGrid DataTable\n",
    "\n",
    "- .violin(): Plots a violin plot comparing the distribution of one or more variables using the kernel density estimate\n",
    "\n"
   ]
  },
  {
   "cell_type": "code",
   "execution_count": null,
   "id": "7ccc15ce",
   "metadata": {},
   "outputs": [],
   "source": [
    "# default is line plot\n",
    "df.sort_values(by='mpg').hvplot(x='mpg', y='hp')"
   ]
  },
  {
   "cell_type": "code",
   "execution_count": null,
   "id": "ddd47bee",
   "metadata": {},
   "outputs": [],
   "source": [
    "# histogram\n",
    "df.hvplot.hist('mpg', bins=10)"
   ]
  },
  {
   "cell_type": "markdown",
   "id": "b75f8714",
   "metadata": {},
   "source": [
    "#### Exercise\n",
    "\n",
    "Create a kernel density estimate (kde) plot of mpg for `df`:\n",
    "<details><summary><i><u>(Solution)</u><i></summary><br>\n",
    "\n",
    "```python\n",
    "df.hvplot.kde('mpg')\n",
    "```\n",
    "\n",
    "</details>"
   ]
  },
  {
   "cell_type": "code",
   "execution_count": null,
   "id": "180d0103",
   "metadata": {},
   "outputs": [],
   "source": [
    "# hex bins\n",
    "df.hvplot.hexbin(x='mpg', y='hp')"
   ]
  },
  {
   "cell_type": "markdown",
   "id": "90201a9d",
   "metadata": {},
   "source": [
    "### The kind argument \n",
    "Instead of using the hvplot namespace to call different types of plots directly (e.g., `df.hvplot.scatter(x='mpg', y='hp')`), we can use the kind argument to the plot call (e.g., `df.hvplot(x='mpg', y='hp', kind='scatter')`). "
   ]
  },
  {
   "cell_type": "code",
   "execution_count": null,
   "id": "2aaaa585",
   "metadata": {},
   "outputs": [],
   "source": [
    "df.hvplot(x='mpg', y='hp', kind='scatter')"
   ]
  },
  {
   "cell_type": "markdown",
   "id": "bdff91bf",
   "metadata": {},
   "source": [
    "## Grouping\n",
    "\n",
    "We can overlay all our groups on the same plot using the `by` option:"
   ]
  },
  {
   "cell_type": "code",
   "execution_count": null,
   "id": "76219272",
   "metadata": {},
   "outputs": [],
   "source": [
    "df.hvplot.scatter(x='mpg', y='hp', by='origin')"
   ]
  },
  {
   "cell_type": "markdown",
   "id": "627e61c1",
   "metadata": {},
   "source": [
    "#### Exercise\n",
    "\n",
    "Add `subplots=True` and `width=300` to see the different classes side-by-side instead of overlaid. The axes will be linked, so try zooming.\n",
    "\n",
    "<details><summary><i><u>(Solution)</u><i></summary><br>\n",
    "    \n",
    "```python\n",
    "df.hvplot.scatter(\n",
    "    x='mpg', \n",
    "    y='hp', \n",
    "    by='origin',\n",
    "    subplots=True,\n",
    "    width=300\n",
    "    )\n",
    "```\n",
    "\n",
    "</details>"
   ]
  },
  {
   "cell_type": "markdown",
   "id": "6586b185",
   "metadata": {},
   "source": [
    "What if you want a single plot, but want to see each class separately? You can use the `groupby` option to get a widget for toggling between classes, here in a bivariate plot (using a subset of the data as bivariate plots can be expensive to compute):"
   ]
  },
  {
   "cell_type": "code",
   "execution_count": null,
   "id": "242cf25e",
   "metadata": {
    "scrolled": true
   },
   "outputs": [],
   "source": [
    "df.hvplot.scatter(x='mpg', y='hp', groupby='origin')"
   ]
  },
  {
   "cell_type": "markdown",
   "id": "143efd8b",
   "metadata": {},
   "source": [
    "## Combine plots\n",
    "\n",
    "We can use a `+` symbol to compose HoloViews objects side-by-side with axes linked for any shared dimensions. "
   ]
  },
  {
   "cell_type": "code",
   "execution_count": null,
   "id": "6dc5ed7d",
   "metadata": {},
   "outputs": [],
   "source": [
    "df.hvplot.hist('mpg', bins=10) + df.hvplot.kde('mpg')"
   ]
  },
  {
   "cell_type": "markdown",
   "id": "b688215e",
   "metadata": {},
   "source": [
    "Organize plots into one columns:"
   ]
  },
  {
   "cell_type": "code",
   "execution_count": null,
   "id": "070f0a90",
   "metadata": {},
   "outputs": [],
   "source": [
    "(df.hvplot.hist('mpg', bins=10) + df.hvplot.kde('mpg')).cols(1)"
   ]
  },
  {
   "cell_type": "markdown",
   "id": "c556a63e",
   "metadata": {},
   "source": [
    "Try zooming in and out (including on the axes) to explore the linking between the plots above."
   ]
  },
  {
   "cell_type": "markdown",
   "id": "1f854bc7",
   "metadata": {},
   "source": [
    "# Interlinked plots"
   ]
  },
  {
   "cell_type": "markdown",
   "id": "0589192c",
   "metadata": {},
   "source": [
    "hvPlot allows you to generate a number of different types of plot quickly from a standard API, returning Bokeh-based [HoloViews](https://holoviews.org) objects as discussed in the previous notebook. Each initial plot will make some aspects of the data clear, and using the automatic interactive Bokeh pan, zoom, and hover tools you can find additional trends and outliers at different spatial locations and spatial scales within each plot.\n",
    "\n",
    "Beyond what you can discover from each plot individually, how do you understand how the various plots relate to each other? For instance, imagine you have a data frame with columns _u_, _v_, _w_, _z_, and have separate plots of _u_ vs. _v_, _u_ vs. _w_, and _w_ vs. _z_. If you see a few outliers or a clump of unusual datapoints in your  _u_ vs. _v_ plot, how can you find out the properties of those points in the _w_ vs. _z_ or other plots? Are those unusual _u_ vs. _v_ points typically high _w_, uniformly distributed along _w_, or some other pattern? \n",
    "\n",
    "To help understand multicolumnar and multidimensional datasets like this, scientists will often build complex multi-pane dashboards with custom functionality. HoloViz (and specifically Panel) tools are great for such dashboards, but here we can actually use the fact that hvPlot returns HoloViews objects to get quite sophisticated interlinking ([linked brushing](http://holoviews.org/user_guide/Linked_Brushing.html)) \"for free\", without needing to build any dashboard. HoloViews objects store metadata about what dimensions they cover, and we can use this metadata programmatically to let the user see how any data points in any plot relate across different plots.\n",
    "\n",
    "### Linked brushing across elements\n",
    "\n",
    "Previously, we saw how plot axes are automatically linked for panning and zooming when using the `+` operator, provided the dimensions match. When dimensions or an underlying index match across multiple plots, we can use a similar principle to achieve linked brushing, where user selections are also linked across plots.\n",
    "\n",
    "To illustrate, let us generate two histograms from our `df` DataFrame:"
   ]
  },
  {
   "cell_type": "code",
   "execution_count": null,
   "id": "fe06468c",
   "metadata": {},
   "outputs": [],
   "source": [
    "mpg_hist = df.hvplot.hist('mpg', width=300, height=150)\n",
    "hp_hist = df.hvplot.hist('hp', width=300, height=150)"
   ]
  },
  {
   "cell_type": "markdown",
   "id": "b6e4db55",
   "metadata": {},
   "source": [
    "These two histograms are plotting two different dimensions of our dataset (mpg and hp). The samples between these two histograms share an index, and the relationships between these data points can be discovered and exploited programmatically even though they are in different elements. To do this, we can create an object for linking selections across elements:"
   ]
  },
  {
   "cell_type": "code",
   "execution_count": null,
   "id": "f99177bf",
   "metadata": {},
   "outputs": [],
   "source": [
    "ls = hv.link_selections.instance()"
   ]
  },
  {
   "cell_type": "markdown",
   "id": "54559449",
   "metadata": {},
   "source": [
    "Given some HoloViews objects (elements, layouts, etc.), we can create versions of them linked to this shared linking object by calling `ls` on them:"
   ]
  },
  {
   "cell_type": "code",
   "execution_count": null,
   "id": "bfe07d90",
   "metadata": {},
   "outputs": [],
   "source": [
    "ls(mpg_hist + hp_hist)"
   ]
  },
  {
   "cell_type": "markdown",
   "id": "afadaa98",
   "metadata": {},
   "source": [
    "Try using the first Bokeh tool to select areas of either histogram: you'll then see both the mpg and hp distributions for the bins you have selected, compared to the overall distribution. By default, selections on both histograms are combined so that the selection is the intersection of the two regions selected (data points matching _both_ the constraints on depth and the constraints on magnitude that you select). You can use the Bokeh reset tool (double arrow) to clear your selection.\n",
    "\n",
    "### Linked brushing across element types\n",
    "\n",
    "The previous example linked across two histograms as a first example, but nothing prevents you from linked brushing across different element types. "
   ]
  },
  {
   "cell_type": "code",
   "execution_count": null,
   "id": "4e05f3ac",
   "metadata": {},
   "outputs": [],
   "source": [
    "points = df.hvplot.scatter(x='mpg', y='hp', c='origin',  height=150)\n",
    "mpg_hist = df.hvplot.hist('mpg', height=150)\n",
    "hp_violin = df.hvplot.violin('hp', height=150)"
   ]
  },
  {
   "cell_type": "code",
   "execution_count": null,
   "id": "ebd21799",
   "metadata": {},
   "outputs": [],
   "source": [
    "ls2 = hv.link_selections.instance()\n",
    "\n",
    "(ls2(points + mpg_hist + hp_violin)).cols(1)"
   ]
  },
  {
   "cell_type": "markdown",
   "id": "e23c9a37",
   "metadata": {},
   "source": [
    "## Accessing the data selection\n",
    "\n",
    "If you pass your `DataFrame` into the `.filter` method of your linked selection object, you can apply the active filter that you specified interactively:"
   ]
  },
  {
   "cell_type": "code",
   "execution_count": null,
   "id": "524886a0",
   "metadata": {},
   "outputs": [],
   "source": [
    "ls2.filter(df)"
   ]
  },
  {
   "cell_type": "markdown",
   "id": "398be058",
   "metadata": {},
   "source": [
    "If you pass your `DataFrame` into the `.filter` method of your linked selection object, you can apply the active filter that you specified interactively:"
   ]
  },
  {
   "cell_type": "markdown",
   "id": "6d568362",
   "metadata": {},
   "source": [
    "## Exploring further\n",
    "\n",
    "As you can see, hvPlot makes it simple to explore your data interactively, with commands based on the widely used Pandas `.plot()` API but now supporting many more features and different types of data. The visualizations above just touch the surface of what is available from hvPlot, and you can explore the [hvPlot website](https://hvplot.pyviz.org) to see much more, or just explore it yourself using tab completion (`df.hvplot.`_[TAB]_). The following section will focus on how to put these plots together once you have them, linking them to understand and show their structure."
   ]
  }
 ],
 "metadata": {
  "kernelspec": {
   "display_name": "Python 3 (ipykernel)",
   "language": "python",
   "name": "python3"
  },
  "language_info": {
   "codemirror_mode": {
    "name": "ipython",
    "version": 3
   },
   "file_extension": ".py",
   "mimetype": "text/x-python",
   "name": "python",
   "nbconvert_exporter": "python",
   "pygments_lexer": "ipython3",
   "version": "3.9.6"
  }
 },
 "nbformat": 4,
 "nbformat_minor": 5
}
