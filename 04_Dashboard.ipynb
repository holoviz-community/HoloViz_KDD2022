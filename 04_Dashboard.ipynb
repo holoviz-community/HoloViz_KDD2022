{
 "cells": [
  {
   "cell_type": "markdown",
   "id": "d23507f0",
   "metadata": {},
   "source": [
    "<style>div.container { width: 100% }</style>\n",
    "<img style=\"float:left;  vertical-align:text-bottom;\" height=\"65\" width=\"172\" src=\"https://raw.githubusercontent.com/holoviz/holoviz/master/doc/_static/holoviz-logo-unstacked.svg\" />\n",
    "<div style=\"float:right; vertical-align:text-bottom;\"><h2>Tutorial 4. Making dashboards</h2></div>"
   ]
  },
  {
   "cell_type": "markdown",
   "id": "040c997b",
   "metadata": {},
   "source": [
    "\n",
    "This tutorial demonstrates the Easiest Way to Create an Interactive Dashboard in Python from any DataFrame.  If you already know some Pandas, you can almost immediately use `hvPlot` `.interactive` and `Panel` to turn your DataFrame processing pipeline into a dashboard! It just takes a few lines of familiar code to make an interactive dashboard like this:\n",
    "![Data App](assets/easy-dataframe-dashboards.gif)\n",
    "\n"
   ]
  },
  {
   "cell_type": "markdown",
   "id": "a5fb15c6",
   "metadata": {},
   "source": [
    "## Define function to determine environment"
   ]
  },
  {
   "cell_type": "code",
   "execution_count": null,
   "id": "90d1b6b0",
   "metadata": {},
   "outputs": [],
   "source": [
    "def environment():\n",
    "    try:\n",
    "        get_ipython()\n",
    "        print('notebook')\n",
    "        return str(get_ipython())\n",
    "    except:\n",
    "        print('server')\n",
    "        return 'server'\n",
    "env = environment()"
   ]
  },
  {
   "cell_type": "markdown",
   "id": "abf60b58",
   "metadata": {},
   "source": [
    "## Import and configure packages\n",
    "\n",
    "Please note that in **Colab** you will need to `!pip install panel hvplot`."
   ]
  },
  {
   "cell_type": "code",
   "execution_count": null,
   "id": "87e951df",
   "metadata": {},
   "outputs": [],
   "source": [
    "if 'google.colab' in env:\n",
    "    print('Running on CoLab')\n",
    "    !pip install panel hvplot"
   ]
  },
  {
   "cell_type": "code",
   "execution_count": null,
   "id": "0f1112af",
   "metadata": {},
   "outputs": [],
   "source": [
    "import panel as pn\n",
    "\n",
    "pn.extension('tabulator', sizing_mode=\"stretch_width\")"
   ]
  },
  {
   "cell_type": "code",
   "execution_count": null,
   "id": "5adb11a6",
   "metadata": {},
   "outputs": [],
   "source": [
    "import hvplot.pandas\n",
    "import holoviews as hv\n",
    "\n",
    "hv.extension('bokeh')"
   ]
  },
  {
   "cell_type": "markdown",
   "id": "ef4ccd06",
   "metadata": {},
   "source": [
    "## Define Color Palette"
   ]
  },
  {
   "cell_type": "code",
   "execution_count": null,
   "id": "ce8c5f82",
   "metadata": {},
   "outputs": [],
   "source": [
    "PALETTE = [\"#ff6f69\", \"#ffcc5c\", \"#88d8b0\", ]\n",
    "pn.Row(\n",
    "    pn.layout.HSpacer(height=50, background=PALETTE[0]),\n",
    "    pn.layout.HSpacer(height=50, background=PALETTE[1]),\n",
    "    pn.layout.HSpacer(height=50, background=PALETTE[2]),\n",
    ")"
   ]
  },
  {
   "cell_type": "markdown",
   "id": "7698a74c",
   "metadata": {},
   "source": [
    "## Load Data"
   ]
  },
  {
   "cell_type": "code",
   "execution_count": null,
   "id": "09d60a44",
   "metadata": {},
   "outputs": [],
   "source": [
    "from bokeh.sampledata.autompg import autompg_clean as df\n",
    "df.head()"
   ]
  },
  {
   "cell_type": "markdown",
   "id": "1bfed521",
   "metadata": {},
   "source": [
    "## Define DataFrame Pipeline"
   ]
  },
  {
   "cell_type": "code",
   "execution_count": null,
   "id": "4a42b6e5",
   "metadata": {},
   "outputs": [],
   "source": [
    "(\n",
    "    df[\n",
    "        (df.cyl == 4) & \n",
    "        (df.mfr.isin(['ford','chevrolet']))\n",
    "    ]\n",
    "    .groupby(['origin', 'cyl', 'mfr', 'yr'])['hp'].mean()\n",
    "    .to_frame()\n",
    "    .reset_index()\n",
    "    .sort_values(by='yr')\n",
    ").head(1)"
   ]
  },
  {
   "cell_type": "markdown",
   "id": "f928f0ba",
   "metadata": {},
   "source": [
    "## Make DataFrame Pipeline Interactive\n",
    "\n",
    "What if we would like to turn the values of cyl, the values of mfr, and the variable hp into interactive widgets that we can change and control? Is it possible? Yes, it is, and with hvPlot it’s not even difficult. Here are the steps:\n",
    "\n",
    "- First, we need to wrap our dataframe with `.interactive()`: `idf = df.interactive()`, so that this dataframe becomes interactive and we can use Panel widgets on this dataframe.\n",
    "\n",
    "“.interactive stores a copy of your pipeline (series of method calls or other expressions on your data) and dynamically replays the pipeline whenever that widget changes.”\n"
   ]
  },
  {
   "cell_type": "code",
   "execution_count": null,
   "id": "6e12aa62",
   "metadata": {},
   "outputs": [],
   "source": [
    "idf = df.interactive()"
   ]
  },
  {
   "cell_type": "markdown",
   "id": "835b20da",
   "metadata": {},
   "source": [
    "Define [Panel widgets](https://panel.holoviz.org/reference/index.html#widgets)"
   ]
  },
  {
   "cell_type": "markdown",
   "id": "070c8be5",
   "metadata": {},
   "source": [
    "- Second, we can define the panel widgets we would like to use. Here I defined a panel widget for cylinders, a widget for the manufacturer, and a widget to select the y axis.\n"
   ]
  },
  {
   "cell_type": "code",
   "execution_count": null,
   "id": "956fa985",
   "metadata": {},
   "outputs": [],
   "source": [
    "cylinders = pn.widgets.IntSlider(name='Cylinders', start=4, end=8, step=2)\n",
    "cylinders"
   ]
  },
  {
   "cell_type": "code",
   "execution_count": null,
   "id": "4c51414d",
   "metadata": {},
   "outputs": [],
   "source": [
    "mfr = pn.widgets.ToggleGroup(\n",
    "    name='MFR',\n",
    "    options=['ford', 'chevrolet', 'honda', 'toyota', 'audi'], \n",
    "    value=['ford', 'chevrolet', 'honda', 'toyota', 'audi'],\n",
    "    button_type='success')\n",
    "mfr"
   ]
  },
  {
   "cell_type": "code",
   "execution_count": null,
   "id": "9cf44549",
   "metadata": {},
   "outputs": [],
   "source": [
    "yaxis = pn.widgets.RadioButtonGroup(\n",
    "    name='Y axis', \n",
    "    options=['hp', 'weight'],\n",
    "    button_type='success'\n",
    ")\n",
    "yaxis"
   ]
  },
  {
   "cell_type": "markdown",
   "id": "743aa619",
   "metadata": {},
   "source": [
    "- Finally, we can replace the values or variables from the original Pandas pipeline to these widgets we just defined. We define the output of the pipeline as ipipeline:\n"
   ]
  },
  {
   "cell_type": "code",
   "execution_count": null,
   "id": "b8883956",
   "metadata": {},
   "outputs": [],
   "source": [
    "ipipeline = (\n",
    "    idf[\n",
    "        (idf.cyl == cylinders) & \n",
    "        (idf.mfr.isin(mfr))\n",
    "    ]\n",
    "    .groupby(['origin', 'mpg'])[yaxis].mean()\n",
    "    .to_frame()\n",
    "    .reset_index()\n",
    "    .sort_values(by='mpg')  \n",
    "    .reset_index(drop=True)\n",
    ")\n",
    "ipipeline.head()"
   ]
  },
  {
   "cell_type": "markdown",
   "id": "bff77abf",
   "metadata": {},
   "source": [
    "## Pipe to Table"
   ]
  },
  {
   "cell_type": "code",
   "execution_count": null,
   "id": "95cfca51",
   "metadata": {},
   "outputs": [],
   "source": [
    "if environment()==\"server\":\n",
    "   theme=\"fast\"\n",
    "else:\n",
    "   theme=\"simple\""
   ]
  },
  {
   "cell_type": "code",
   "execution_count": null,
   "id": "d262cb39",
   "metadata": {},
   "outputs": [],
   "source": [
    "itable = ipipeline.pipe(pn.widgets.Tabulator, pagination='remote', page_size=10, theme=theme)\n",
    "itable"
   ]
  },
  {
   "cell_type": "markdown",
   "id": "b21344a1",
   "metadata": {},
   "source": [
    "Check out the [Tabulator Reference Guide](https://panel.holoviz.org/reference/widgets/Tabulator.html) for more inspiration."
   ]
  },
  {
   "cell_type": "markdown",
   "id": "246398c8",
   "metadata": {},
   "source": [
    "## Pipe to hvplot"
   ]
  },
  {
   "cell_type": "code",
   "execution_count": null,
   "id": "b958a6e1",
   "metadata": {},
   "outputs": [],
   "source": [
    "ihvplot = ipipeline.hvplot(x='mpg', y=yaxis, by='origin', color=PALETTE, line_width=6, height=400)\n",
    "ihvplot"
   ]
  },
  {
   "cell_type": "markdown",
   "id": "bb4b164e",
   "metadata": {},
   "source": [
    "## Layout using Panel"
   ]
  },
  {
   "cell_type": "code",
   "execution_count": null,
   "id": "3139da02",
   "metadata": {},
   "outputs": [],
   "source": [
    "pn.Column(\n",
    "    pn.Row(\n",
    "        cylinders, mfr, yaxis\n",
    "    ),\n",
    "    ihvplot.panel(),\n",
    "    itable.panel()\n",
    ")"
   ]
  },
  {
   "cell_type": "markdown",
   "id": "345db224",
   "metadata": {},
   "source": [
    "## Layout using Template\n",
    "\n",
    "Here we use the [FastListTemplate](https://panel.holoviz.org/reference/templates/FastListTemplate.html#templates-gallery-fastlisttemplate)."
   ]
  },
  {
   "cell_type": "code",
   "execution_count": null,
   "id": "d224e0e7",
   "metadata": {},
   "outputs": [],
   "source": [
    "template = pn.template.FastListTemplate(\n",
    "    title='Interactive DataFrame Dashboards with hvplot .interactive', \n",
    "    sidebar=[cylinders, 'Manufacturers', mfr, 'Y axis' , yaxis],\n",
    "    main=[ihvplot.panel(), itable.panel()],\n",
    "    accent_base_color=\"#88d8b0\",\n",
    "    header_background=\"#88d8b0\",\n",
    ")\n",
    "# template.show()\n",
    "template.servable();"
   ]
  },
  {
   "cell_type": "markdown",
   "id": "8831435d",
   "metadata": {},
   "source": [
    "Please note that to get the Tabulator table styled nicely for dark mode you can set `theme='fast'` when you define the `itable`. It won't work in the notebook though.\n",
    "\n",
    "To *serve the notebook* run `panel serve 04_Dashboard.ipynb`."
   ]
  },
  {
   "cell_type": "markdown",
   "id": "b39f777a",
   "metadata": {},
   "source": [
    "<div class=\"alert alert-info\">\n",
    "<h4>Exercise</h4>\n",
    "    \n",
    "Take a look at the [Panel widget docs](https://panel.holoviz.org/reference/index.html#widgets). And change the three widgets above to different types of widgets of your choice.  \n",
    "        \n",
    "<details><summary><i><u>(Solution)</u><i></summary><br>\n",
    "    \n",
    "```python\n",
    "\n",
    "cylinders = pn.widgets.IntInput(name='Cylinders', value=4, step=2, start=4, end=8)\n",
    "mfr = pn.widgets.CheckBoxGroup(\n",
    "    name='MFR',\n",
    "    options=['ford', 'chevrolet', 'honda', 'toyota', 'audi'], \n",
    "    value=['ford', 'chevrolet', 'honda', 'toyota', 'audi']\n",
    ")\n",
    "yaxis = pn.widgets.RadioBoxGroup(\n",
    "    name='Y axis', \n",
    "    options=['hp', 'weight'],\n",
    ")\n",
    "    \n",
    "    \n",
    "```\n",
    "\n",
    "</details>\n",
    "</div>"
   ]
  },
  {
   "cell_type": "markdown",
   "id": "d3965e69",
   "metadata": {},
   "source": [
    "<div class=\"alert alert-info\">\n",
    "<h4>Exercise</h4>\n",
    "    \n",
    "Add a widget to select origin in the example above. \n",
    "\n",
    "<details><summary><i><u>(Solution)</u><i></summary><br>\n",
    "    \n",
    "```python\n",
    "\n",
    "origin = pn.widgets.ToggleGroup(\n",
    "    name='Origin',\n",
    "    options=['North America', 'Asia', 'Europe'], \n",
    "    value=['North America', 'Asia', 'Europe'],\n",
    "    button_type='success')\n",
    "origin\n",
    "    \n",
    "ipipeline = (\n",
    "    idf[\n",
    "        (idf.cyl == cylinders) & \n",
    "        (idf.mfr.isin(mfr)) & \n",
    "        (idf.origin.isin(origin))\n",
    "    ]\n",
    "    .groupby(['origin', 'mpg'])[yaxis].mean()\n",
    "    .to_frame()\n",
    "    .reset_index()\n",
    "    .sort_values(by='mpg')  \n",
    "    .reset_index(drop=True)\n",
    ")\n",
    "ipipeline.head()\n",
    "    \n",
    "```\n",
    "\n",
    "</details>\n",
    "</div>"
   ]
  },
  {
   "cell_type": "markdown",
   "id": "c51cd642",
   "metadata": {},
   "source": [
    "<div class=\"alert alert-info\">\n",
    "<h4>Reading time </h4>\n",
    "    \n",
    "Read the [Panel documentation](https://panel.holoviz.org/) and let us know if you have any questions. \n",
    "</div>"
   ]
  }
 ],
 "metadata": {
  "kernelspec": {
   "display_name": "Python 3 (ipykernel)",
   "language": "python",
   "name": "python3"
  },
  "language_info": {
   "codemirror_mode": {
    "name": "ipython",
    "version": 3
   },
   "file_extension": ".py",
   "mimetype": "text/x-python",
   "name": "python",
   "nbconvert_exporter": "python",
   "pygments_lexer": "ipython3",
   "version": "3.9.13"
  }
 },
 "nbformat": 4,
 "nbformat_minor": 5
}
