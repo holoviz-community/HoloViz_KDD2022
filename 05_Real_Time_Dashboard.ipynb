{
 "cells": [
  {
   "cell_type": "markdown",
   "id": "de2bdf4a",
   "metadata": {},
   "source": [
    "<style>div.container { width: 100% }</style>\n",
    "<img style=\"float:left;  vertical-align:text-bottom;\" height=\"65\" width=\"172\" src=\"https://raw.githubusercontent.com/holoviz/holoviz/master/doc/_static/holoviz-logo-unstacked.svg\" />\n",
    "<div style=\"float:right; vertical-align:text-bottom;\"><h2>Tutorial 5. Real-time dashboard</h2></div>\n"
   ]
  },
  {
   "cell_type": "markdown",
   "id": "84bc53fd",
   "metadata": {},
   "source": [
    "- Can you write a Python function that returns a Pandas dataframe?\n",
    "- Once you have a Pandas dataframe, can you call \".plot()\" on it?\n",
    "\n",
    "If so, congratulations; you can write a streaming interactive app with dynamically updating visualizations!\n",
    "\n",
    "This notebook shows you how to configure the Python streamz library for the special (and easy!) case of periodically calling a Python function to get some data in the form of a Pandas dataframe. The resulting \"streaming dataframe\" automatically updates as new data is available, without any additional work from you.\n",
    "\n",
    "Your streaming dataframe can then be visualized using the standard Pandas plotting API, which usually returns a static image but when used with hvPlot will give you fully dynamic, reactive plots."
   ]
  },
  {
   "cell_type": "markdown",
   "id": "42a8457d",
   "metadata": {},
   "source": [
    "# What is [Streamz](https://streamz.readthedocs.io)?\n",
    "\n",
    "- A Python framework for working with streaming data\n",
    "- Powerful enough to handle complex branching pipelines\n",
    "- But easy to use for simple pipelines\n",
    "- Provides streaming Pandas-based DataFrames\n",
    "- Works well with Jupyter, [Tornado](https://streamz.readthedocs.io/en/latest/async.html#asynchronous-computation), - [Kafka](https://streamz.readthedocs.io/en/latest/api.html#streamz.from_kafka), [CUDA](https://streamz.readthedocs.io/en/latest/api.html?highlight=cuda), [Dask](https://streamz.readthedocs.io/en/latest/dask.html), [Influx](https://www.influxdata.com/blog/streaming-time-series-with-jupyter-and-influxdb), ...\n"
   ]
  },
  {
   "cell_type": "markdown",
   "id": "62aaad41",
   "metadata": {},
   "source": [
    "## Import and configure packages\n",
    "\n",
    "Please note that in **Colab** you will need to `!pip install panel hvplot streamz`."
   ]
  },
  {
   "cell_type": "code",
   "execution_count": null,
   "id": "631c682b",
   "metadata": {},
   "outputs": [],
   "source": [
    "def environment():\n",
    "    try:\n",
    "        get_ipython()\n",
    "        print('notebook')\n",
    "        return str(get_ipython())\n",
    "    except:\n",
    "        print('server')\n",
    "        return 'server'\n",
    "env = environment()\n",
    "\n",
    "if 'google.colab' in env:\n",
    "    print('Running on CoLab')\n",
    "    !pip install panel hvplot streamz"
   ]
  },
  {
   "cell_type": "code",
   "execution_count": null,
   "id": "bf24f9a6",
   "metadata": {},
   "outputs": [],
   "source": [
    "import pandas as pd, time, psutil\n",
    "from streamz.dataframe import PeriodicDataFrame\n",
    "import hvplot.streamz, holoviews as hv\n",
    "import panel as pn\n",
    "pn.extension()"
   ]
  },
  {
   "cell_type": "markdown",
   "id": "9d3cf51b",
   "metadata": {},
   "source": [
    "You will need to run the following to be able to see plots in **Colab**."
   ]
  },
  {
   "cell_type": "code",
   "execution_count": null,
   "id": "6cff8ac0",
   "metadata": {},
   "outputs": [],
   "source": [
    "if 'google.colab' in env:\n",
    "    def _render(self, **kw):\n",
    "        hv.extension('bokeh')\n",
    "        return hv.Store.render(self)\n",
    "    hv.core.Dimensioned._repr_mimebundle_ = _render"
   ]
  },
  {
   "cell_type": "markdown",
   "id": "2e22cbe7",
   "metadata": {},
   "source": [
    "# Simple streamz example\n",
    "\n",
    "A Pandas-based DataFrame of random values:"
   ]
  },
  {
   "cell_type": "code",
   "execution_count": null,
   "id": "6de3b139",
   "metadata": {},
   "outputs": [],
   "source": [
    "from streamz.dataframe import Random\n",
    "dfs = Random(interval='200ms', freq='50ms')"
   ]
  },
  {
   "cell_type": "code",
   "execution_count": null,
   "id": "9bf8137a",
   "metadata": {},
   "outputs": [],
   "source": [
    "dfs.tail()"
   ]
  },
  {
   "cell_type": "code",
   "execution_count": null,
   "id": "537227e6",
   "metadata": {},
   "outputs": [],
   "source": [
    "dfs.hvplot(backlog=5) * dfs.hvplot.scatter(backlog=5) "
   ]
  },
  {
   "cell_type": "code",
   "execution_count": null,
   "id": "067111ae",
   "metadata": {},
   "outputs": [],
   "source": [
    "dfs.x.hvplot.kde(width=400)"
   ]
  },
  {
   "cell_type": "code",
   "execution_count": null,
   "id": "fea15193",
   "metadata": {},
   "outputs": [],
   "source": [
    "dfs.x.sum()"
   ]
  },
  {
   "cell_type": "code",
   "execution_count": null,
   "id": "b83efe87",
   "metadata": {},
   "outputs": [],
   "source": [
    "sdf = (dfs.x - 0.5).cumsum()\n",
    "sdf.tail()"
   ]
  },
  {
   "cell_type": "code",
   "execution_count": null,
   "id": "e1b6a606",
   "metadata": {},
   "outputs": [],
   "source": [
    "sdf.hvplot()"
   ]
  },
  {
   "cell_type": "code",
   "execution_count": null,
   "id": "560f7c71",
   "metadata": {},
   "outputs": [],
   "source": [
    "dfs.stop()"
   ]
  },
  {
   "cell_type": "markdown",
   "id": "f6d4ecec",
   "metadata": {},
   "source": [
    "# So how can I stream my own data?\n",
    "\n",
    "- Good question! Surely you don't want just random values\n",
    "- Streamz offers lots of low-level functionality for building streaming pipelines\n",
    "- Plus some interfaces to other streaming sources like Kafka\n",
    "\n",
    "But if you don't need any of that complexity, you can simply write a Python function that returns a Pandas dataframe with some results, and streamz can then periodically run that function to get the latest data. E.g. here are some simple functions that query the current CPU and memory usage of your system:\n",
    "\n",
    "## Get data"
   ]
  },
  {
   "cell_type": "markdown",
   "id": "3fb0d414",
   "metadata": {},
   "source": [
    "First, we make a function `mem_data` to get memory data for our system. The output is a pandas dataframe with index representing the current timestamp."
   ]
  },
  {
   "cell_type": "code",
   "execution_count": null,
   "id": "cc9fe2f2",
   "metadata": {},
   "outputs": [],
   "source": [
    "def mem_data(**kwargs):\n",
    "      return pd.DataFrame(\n",
    "          psutil.virtual_memory()._asdict(),\n",
    "          index=[pd.Timestamp.now()]\n",
    "      )"
   ]
  },
  {
   "cell_type": "code",
   "execution_count": null,
   "id": "bfe69aa7",
   "metadata": {},
   "outputs": [],
   "source": [
    "mem_data()"
   ]
  },
  {
   "cell_type": "markdown",
   "id": "a7df85a2",
   "metadata": {},
   "source": [
    "Second, we use `streamz` to create a streaming dataframe based on the memory usage data. The function mem_data is used as a callback function by the PeriodicDataFrame function to create a `streamz` streaming dataframe df. streamz docs documented how PeriodicDataFrame works:\n",
    "\n",
    "\"streamz provides a high-level convenience class for this purpose, called a PeriodicDataFrame. A PeriodicDataFrame uses Python’s asyncio event loop (used as part of Tornado in Jupyter and other interactive frameworks) to call a user-provided function at a regular interval, collecting the results and making them available for later processing.\"\n",
    "\n",
    "https://streamz.readthedocs.io/en/latest/dataframes.html#streaming-dataframes"
   ]
  },
  {
   "cell_type": "code",
   "execution_count": null,
   "id": "930f266a",
   "metadata": {},
   "outputs": [],
   "source": [
    "df = PeriodicDataFrame(mem_data, interval='300ms')\n"
   ]
  },
  {
   "cell_type": "code",
   "execution_count": null,
   "id": "79bc002c",
   "metadata": {},
   "outputs": [],
   "source": [
    "df"
   ]
  },
  {
   "cell_type": "markdown",
   "id": "a0b9c3bb",
   "metadata": {},
   "source": [
    "## Plotting \n",
    "\n",
    "The above dataframes should periodically update every 0.3 seconds with the results of calling mem_data, always reporting the most current data.\n",
    "\n",
    "We can now use df just about anywhere we'd use a regular Pandas DataFrame. In particular, we can very easily set up a little graphical app to monitor CPU and memory usage, updating every 300ms, using hvPlot:"
   ]
  },
  {
   "cell_type": "code",
   "execution_count": null,
   "id": "c7c6701d",
   "metadata": {},
   "outputs": [],
   "source": [
    "df[['used']].hvplot.line(title=\"Memory Usage (used)\", backlog=200)"
   ]
  },
  {
   "cell_type": "code",
   "execution_count": null,
   "id": "16c075db",
   "metadata": {},
   "outputs": [],
   "source": [
    "df[['free']].hvplot.line(title=\"Memory Usage (free)\", backlog=200)"
   ]
  },
  {
   "cell_type": "markdown",
   "id": "dffdbd85",
   "metadata": {},
   "source": [
    "Here we used `.hvplot()` to get hvPlot-based dynamic plots instead of static images, each driven by the streamz dataframes so that their data always updates (showing up to the most recent 200 data points). See hvplot.holoviz.org for all the types of plots you can use, and holoviews.org for the Bokeh-based options like cmap that you can tweak if you want and for other layout options. This code only gets one value per callback invocation, but see the streamz docs if you need better throughput that you can get from querying data in bigger chunks, e.g. from a file or by accessing a database."
   ]
  },
  {
   "cell_type": "markdown",
   "id": "3be6f745",
   "metadata": {},
   "source": [
    "## Dashboarding\n",
    "\n",
    "What if we would like to make a dashboard that allows us to choose which value we would like to see in a plot? \n",
    "\n",
    "First, let's make a Panel widget to select the column name:"
   ]
  },
  {
   "cell_type": "code",
   "execution_count": null,
   "id": "2bb4d15d",
   "metadata": {},
   "outputs": [],
   "source": [
    "select_column = pn.widgets.Select(options=df.columns.to_list(), name='Column')"
   ]
  },
  {
   "cell_type": "code",
   "execution_count": null,
   "id": "c73f3632",
   "metadata": {},
   "outputs": [],
   "source": [
    "select_column"
   ]
  },
  {
   "cell_type": "markdown",
   "id": "2998e68a",
   "metadata": {},
   "source": [
    "Second, we make a plotting function with the parameter representing the column selected:"
   ]
  },
  {
   "cell_type": "code",
   "execution_count": null,
   "id": "dd43026e",
   "metadata": {},
   "outputs": [],
   "source": [
    "def select_plot(select_column):\n",
    "    return df[[select_column]].hvplot.line(\n",
    "        title=f\"Memory Usage ({select_column})\", \n",
    "        backlog=200,\n",
    "        line_width=6, \n",
    "        height=400,\n",
    "        color=\"#ff6f69\"\n",
    "    )"
   ]
  },
  {
   "cell_type": "code",
   "execution_count": null,
   "id": "442b0521",
   "metadata": {},
   "outputs": [],
   "source": [
    "select_plot('free')"
   ]
  },
  {
   "cell_type": "markdown",
   "id": "6c64781a",
   "metadata": {},
   "source": [
    "Finally, we can create a dashboard. Since our df is a streamz dataframe, the `.interactive` function we used in the previous tutorial doesn't not work with the streamz dataframe. Instead, a second way of creating dashboard is to use `pn.bind` to bind our Panel widget and the plot.\n",
    "\n",
    "\n",
    "\"The `pn.bind` reactive programming API is very similar to the `interact` function but is more explicit about widget selection and layout. pn.bind requires the programmer to select and configure widgets explicity and to lay out components explicitly, without relying on inference of widget types and ranges and without any default layouts. Specifying those aspects explicitly provides more power and control, but does typically take a bit more code and more knowledge of widget and layout components than using interact does. Once widgets have been bound to a reactive function, you can lay out the bound function and the widgets in any order or combination you like, including across Jupyter notebook cells if desired. (https://panel.holoviz.org/user_guide/APIs.html) \" "
   ]
  },
  {
   "cell_type": "code",
   "execution_count": null,
   "id": "4e6e7e60",
   "metadata": {},
   "outputs": [],
   "source": [
    "dashboard = pn.Column(\n",
    "    select_column, \n",
    "    pn.bind(select_plot, select_column=select_column)\n",
    ")\n",
    "dashboard"
   ]
  },
  {
   "cell_type": "markdown",
   "id": "e4c9598c",
   "metadata": {},
   "source": [
    "To *serve the notebook* run `panel serve 05_Real_Time_Dashboard.ipynb`."
   ]
  },
  {
   "cell_type": "code",
   "execution_count": null,
   "id": "a4d2df21",
   "metadata": {},
   "outputs": [],
   "source": [
    "# dashboard.show()\n",
    "dashboard.servable();"
   ]
  },
  {
   "cell_type": "markdown",
   "id": "a1c517ca",
   "metadata": {},
   "source": [
    "<div class=\"alert alert-info\">\n",
    "<h4>Reading time</h4>\n",
    "    \n",
    "Read the [streamz documentation](https://streamz.readthedocs.io/) and let us know if you have any questions.\n",
    "    \n",
    "</div>"
   ]
  }
 ],
 "metadata": {
  "kernelspec": {
   "display_name": "Python 3 (ipykernel)",
   "language": "python",
   "name": "python3"
  },
  "language_info": {
   "codemirror_mode": {
    "name": "ipython",
    "version": 3
   },
   "file_extension": ".py",
   "mimetype": "text/x-python",
   "name": "python",
   "nbconvert_exporter": "python",
   "pygments_lexer": "ipython3",
   "version": "3.9.13"
  }
 },
 "nbformat": 4,
 "nbformat_minor": 5
}
